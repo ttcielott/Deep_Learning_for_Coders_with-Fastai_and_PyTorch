{
  "nbformat": 4,
  "nbformat_minor": 0,
  "metadata": {
    "colab": {
      "provenance": [],
      "toc_visible": true,
      "authorship_tag": "ABX9TyO8E8CRIPg0TibqdaN7M8D4",
      "include_colab_link": true
    },
    "kernelspec": {
      "name": "python3",
      "display_name": "Python 3"
    },
    "language_info": {
      "name": "python"
    }
  },
  "cells": [
    {
      "cell_type": "markdown",
      "metadata": {
        "id": "view-in-github",
        "colab_type": "text"
      },
      "source": [
        "<a href=\"https://colab.research.google.com/github/ttcielott/Deep_Learning_for_Coders_with-Fastai_and_PyTorch/blob/main/Chapter4_Under_the_hood.ipynb\" target=\"_parent\"><img src=\"https://colab.research.google.com/assets/colab-badge.svg\" alt=\"Open In Colab\"/></a>"
      ]
    },
    {
      "cell_type": "markdown",
      "source": [
        "# Deep Learning for Coders with Fastai and PyTorch\n",
        "by Jeremy Howard and Sylvain Gugger\n",
        "\n",
        "## Chapter 4. Under the Hood: Training a Digit Classifier\n",
        "\n",
        "This notebook will write a summary of chapter 4 and run the codes for practice. The chapter explains how deep learning works under the hood.\n",
        "The chapter 4 comprises of 9 parts as below.\n",
        "\n",
        "\n",
        "1.   Pixels: The Foundations of Computer Vision\n",
        "2.   First Try: Pixel Simialarity\n",
        "3.   Computing Metrics Using Broadcasting\n",
        "4.   Stochastic Gradient Descent\n",
        "5.   The MNIST Loss Function\n",
        "6.   Putting It All Together\n",
        "7.   Adding Nonlinearity\n",
        "8.   Jargon Recap\n",
        "9.   Questionnaire\n",
        "\n",
        "\n"
      ],
      "metadata": {
        "id": "90bsEF4zxw5D"
      }
    },
    {
      "cell_type": "code",
      "source": [
        "# import fastai library\n",
        "\n",
        "from fastai.vision.all import *\n",
        "import pandas as pd\n",
        "import numpy as np"
      ],
      "metadata": {
        "id": "TOqjCrFv5jBK"
      },
      "execution_count": 1,
      "outputs": []
    },
    {
      "cell_type": "markdown",
      "source": [
        "## 1. Pixels: The Foundations of Computer Vison\n",
        "\n",
        "To understand what happens in a computer vision, we first have to understand how computers handle images.\n",
        "\n",
        "Dataset for this tutorial: MNIST samples\n",
        "\n",
        "**About MNIST dataset** \n",
        "\n",
        "images of handwritten digits, collected by the National Institute of Standards and Technology and collated into a machine learning dataset by Yann Lecun and his colleqgues."
      ],
      "metadata": {
        "id": "9ObAmwME5GJN"
      }
    },
    {
      "cell_type": "code",
      "source": [
        "# download a sample of MNIST\n",
        "path = untar_data(URLs.MNIST_SAMPLE)"
      ],
      "metadata": {
        "id": "C7GUHjiI5LvG",
        "colab": {
          "base_uri": "https://localhost:8080/",
          "height": 37
        },
        "outputId": "341a4abc-bb78-45a3-962a-5973fa13a4b3"
      },
      "execution_count": 2,
      "outputs": [
        {
          "output_type": "display_data",
          "data": {
            "text/plain": [
              "<IPython.core.display.HTML object>"
            ],
            "text/html": [
              "\n",
              "<style>\n",
              "    /* Turns off some styling */\n",
              "    progress {\n",
              "        /* gets rid of default border in Firefox and Opera. */\n",
              "        border: none;\n",
              "        /* Needs to be in here for Safari polyfill so background images work as expected. */\n",
              "        background-size: auto;\n",
              "    }\n",
              "    progress:not([value]), progress:not([value])::-webkit-progress-bar {\n",
              "        background: repeating-linear-gradient(45deg, #7e7e7e, #7e7e7e 10px, #5c5c5c 10px, #5c5c5c 20px);\n",
              "    }\n",
              "    .progress-bar-interrupted, .progress-bar-interrupted::-webkit-progress-bar {\n",
              "        background: #F44336;\n",
              "    }\n",
              "</style>\n"
            ]
          },
          "metadata": {}
        },
        {
          "output_type": "display_data",
          "data": {
            "text/plain": [
              "<IPython.core.display.HTML object>"
            ],
            "text/html": [
              "\n",
              "    <div>\n",
              "      <progress value='3219456' class='' max='3214948' style='width:300px; height:20px; vertical-align: middle;'></progress>\n",
              "      100.14% [3219456/3214948 00:00&lt;00:00]\n",
              "    </div>\n",
              "    "
            ]
          },
          "metadata": {}
        }
      ]
    },
    {
      "cell_type": "code",
      "source": [
        "# view what's in this directory by using ls\n",
        "# ls, a method added by fastai\n",
        "# returns an object of a special fastai class called L (similar to Python List)\n",
        "path.ls()"
      ],
      "metadata": {
        "colab": {
          "base_uri": "https://localhost:8080/"
        },
        "id": "M475la4n6FTL",
        "outputId": "9de793a4-eb5b-462f-fff0-0610f5eb4fc1"
      },
      "execution_count": 3,
      "outputs": [
        {
          "output_type": "execute_result",
          "data": {
            "text/plain": [
              "(#3) [Path('/root/.fastai/data/mnist_sample/labels.csv'),Path('/root/.fastai/data/mnist_sample/valid'),Path('/root/.fastai/data/mnist_sample/train')]"
            ]
          },
          "metadata": {},
          "execution_count": 3
        }
      ]
    },
    {
      "cell_type": "markdown",
      "source": [
        "The MNIST dataset follows a common layout for machine learning dataset:\n",
        "\n",
        "*   training set folder\n",
        "*   validation set folder\n",
        "\n"
      ],
      "metadata": {
        "id": "boGguLQb9xzc"
      }
    },
    {
      "cell_type": "code",
      "source": [
        "# view what's inside the training set (folder, train)\n",
        "(path/'train').ls()"
      ],
      "metadata": {
        "colab": {
          "base_uri": "https://localhost:8080/"
        },
        "id": "jYQNstzp9Nx6",
        "outputId": "f6364e05-cf5e-4272-f7ff-03ea08cad141"
      },
      "execution_count": 4,
      "outputs": [
        {
          "output_type": "execute_result",
          "data": {
            "text/plain": [
              "(#2) [Path('/root/.fastai/data/mnist_sample/train/3'),Path('/root/.fastai/data/mnist_sample/train/7')]"
            ]
          },
          "metadata": {},
          "execution_count": 4
        }
      ]
    },
    {
      "cell_type": "markdown",
      "source": [
        "There's a folder of 3s and a folder of 7s."
      ],
      "metadata": {
        "id": "W27mLSgY-WzC"
      }
    },
    {
      "cell_type": "code",
      "source": [
        "# look in folders\n",
        "# sort the file to get the same order of files\n",
        "threes = (path/'train'/'3').ls().sorted()\n",
        "sevens = (path/'train'/'7').ls().sorted()\n",
        "threes"
      ],
      "metadata": {
        "colab": {
          "base_uri": "https://localhost:8080/"
        },
        "id": "TMJogpWs-Udm",
        "outputId": "fefc4fd4-d5b4-488a-ece8-99cc250e01bf"
      },
      "execution_count": 5,
      "outputs": [
        {
          "output_type": "execute_result",
          "data": {
            "text/plain": [
              "(#6131) [Path('/root/.fastai/data/mnist_sample/train/3/10.png'),Path('/root/.fastai/data/mnist_sample/train/3/10000.png'),Path('/root/.fastai/data/mnist_sample/train/3/10011.png'),Path('/root/.fastai/data/mnist_sample/train/3/10031.png'),Path('/root/.fastai/data/mnist_sample/train/3/10034.png'),Path('/root/.fastai/data/mnist_sample/train/3/10042.png'),Path('/root/.fastai/data/mnist_sample/train/3/10052.png'),Path('/root/.fastai/data/mnist_sample/train/3/1007.png'),Path('/root/.fastai/data/mnist_sample/train/3/10074.png'),Path('/root/.fastai/data/mnist_sample/train/3/10091.png')...]"
            ]
          },
          "metadata": {},
          "execution_count": 5
        }
      ]
    },
    {
      "cell_type": "code",
      "source": [
        "# pick one file path\n",
        "im3_path = threes[1]\n",
        "im3_path"
      ],
      "metadata": {
        "colab": {
          "base_uri": "https://localhost:8080/"
        },
        "id": "47y6-vSG-56S",
        "outputId": "e9f03e97-160c-46fa-8ce2-97c48c8cbf59"
      },
      "execution_count": 6,
      "outputs": [
        {
          "output_type": "execute_result",
          "data": {
            "text/plain": [
              "Path('/root/.fastai/data/mnist_sample/train/3/10000.png')"
            ]
          },
          "metadata": {},
          "execution_count": 6
        }
      ]
    },
    {
      "cell_type": "code",
      "source": [
        "# open the file using Image class\n",
        "# Image class is from the Python Image Library, PIL\n",
        "# PIL is for opening, manipulation, and viewing images\n",
        "im3 = Image.open(im3_path)\n",
        "im3"
      ],
      "metadata": {
        "colab": {
          "base_uri": "https://localhost:8080/",
          "height": 45
        },
        "id": "YfFIeD8m_TiW",
        "outputId": "03b11d29-3846-4958-9f65-9fef27ac9433"
      },
      "execution_count": 7,
      "outputs": [
        {
          "output_type": "execute_result",
          "data": {
            "text/plain": [
              "<PIL.PngImagePlugin.PngImageFile image mode=L size=28x28>"
            ],
            "image/png": "[encoded data removed]"
          },
          "metadata": {},
          "execution_count": 7
        }
      ]
    },
    {
      "cell_type": "markdown",
      "source": [
        "\"Convert a image to a Numpy array or a PyTorch tensor.\"\n",
        "\n",
        "**Why is the conversion necessary?**\n",
        "\n",
        "because everything is represented as a number in a computer."
      ],
      "metadata": {
        "id": "0GpDbKQ4AHMW"
      }
    },
    {
      "cell_type": "code",
      "source": [
        "# get a section of the image\n",
        "# see how it looks like converted to a Numpy array\n",
        "array(im3)[:10, :10]"
      ],
      "metadata": {
        "colab": {
          "base_uri": "https://localhost:8080/"
        },
        "id": "UZxdASQO_bi0",
        "outputId": "b63d8fd5-52ca-4018-acae-54ac60c82e6b"
      },
      "execution_count": 8,
      "outputs": [
        {
          "output_type": "execute_result",
          "data": {
            "text/plain": [
              "array([[  0,   0,   0,   0,   0,   0,   0,   0,   0,   0],\n",
              "       [  0,   0,   0,   0,   0,   0,   0,   0,   0,   0],\n",
              "       [  0,   0,   0,   0,   0,   0,   0,   0,   0,   0],\n",
              "       [  0,   0,   0,   0,   0,   0,   0,   0,   0,   0],\n",
              "       [  0,   0,   0,   0,   0,   0,   0,   0,   0,   0],\n",
              "       [  0,   0,   0,   0,   0,   0,   0,   0,   0,  29],\n",
              "       [  0,   0,   0,   0,   0,   0,   0,  48, 166, 224],\n",
              "       [  0,   0,   0,   0,   0,  93, 244, 249, 253, 187],\n",
              "       [  0,   0,   0,   0,   0, 107, 253, 253, 230,  48],\n",
              "       [  0,   0,   0,   0,   0,   3,  20,  20,  15,   0]], dtype=uint8)"
            ]
          },
          "metadata": {},
          "execution_count": 8
        }
      ]
    },
    {
      "cell_type": "code",
      "source": [
        "# view how the image is created from the pixel values\n",
        "\n",
        "# convert the image to a tensor\n",
        "im3_t = tensor(im3)\n",
        "\n",
        "# convert it to pandas dataframe\n",
        "df = pd.DataFrame(im3_t[5:20, 5:20])\n",
        "df"
      ],
      "metadata": {
        "id": "_8laYIgqA_Nj",
        "colab": {
          "base_uri": "https://localhost:8080/",
          "height": 520
        },
        "outputId": "9eb1a521-274d-4400-cbb4-1ddf38898f1c"
      },
      "execution_count": 9,
      "outputs": [
        {
          "output_type": "execute_result",
          "data": {
            "text/plain": [
              "     0    1    2    3    4    5    6    7    8    9    10   11   12   13   14\n",
              "0     0    0    0    0   29  150  195  254  255  254  176  193  150   96    0\n",
              "1     0    0   48  166  224  253  253  234  196  253  253  253  253  233    0\n",
              "2    93  244  249  253  187   46   10    8    4   10  194  253  253  233    0\n",
              "3   107  253  253  230   48    0    0    0    0    0  192  253  253  156    0\n",
              "4     3   20   20   15    0    0    0    0    0   43  224  253  245   74    0\n",
              "5     0    0    0    0    0    0    0    0    0  249  253  245  126    0    0\n",
              "6     0    0    0    0    0    0   14  101  223  253  248  124    0    0    0\n",
              "7     0    0    0    0   11  166  239  253  253  253  187   30    0    0    0\n",
              "8     0    0    0    0   16  248  250  253  253  253  253  232  213  111    2\n",
              "9     0    0    0    0    0    0   43   98   98  208  253  253  253  253  187\n",
              "10    0    0    0    0    0    0    0    0    0    9   51  119  253  253  253\n",
              "11    0    0    0    0    0    0    0    0    0    0    0    1  183  253  253\n",
              "12    0    0    0    0    0    0    0    0    0    0    0    0  182  253  253\n",
              "13    0    0    0    0    0    0    0    0    0    0    0   85  249  253  253\n",
              "14    0    0    0    0    0    0    0    0    0    0   60  214  253  253  173"
            ],
            "text/html": [
              "\n",
              "  <div id=\"df-b060b723-d543-482a-9da7-d8359ddfb09a\">\n",
              "    <div class=\"colab-df-container\">\n",
              "      <div>\n",
              "<style scoped>\n",
              "    .dataframe tbody tr th:only-of-type {\n",
              "        vertical-align: middle;\n",
              "    }\n",
              "\n",
              "    .dataframe tbody tr th {\n",
              "        vertical-align: top;\n",
              "    }\n",
              "\n",
              "    .dataframe thead th {\n",
              "        text-align: right;\n",
              "    }\n",
              "</style>\n",
              "<table border=\"1\" class=\"dataframe\">\n",
              "  <thead>\n",
              "    <tr style=\"text-align: right;\">\n",
              "      <th></th>\n",
              "      <th>0</th>\n",
              "      <th>1</th>\n",
              "      <th>2</th>\n",
              "      <th>3</th>\n",
              "      <th>4</th>\n",
              "      <th>5</th>\n",
              "      <th>6</th>\n",
              "      <th>7</th>\n",
              "      <th>8</th>\n",
              "      <th>9</th>\n",
              "      <th>10</th>\n",
              "      <th>11</th>\n",
              "      <th>12</th>\n",
              "      <th>13</th>\n",
              "      <th>14</th>\n",
              "    </tr>\n",
              "  </thead>\n",
              "  <tbody>\n",
              "    <tr>\n",
              "      <th>0</th>\n",
              "      <td>0</td>\n",
              "      <td>0</td>\n",
              "      <td>0</td>\n",
              "      <td>0</td>\n",
              "      <td>29</td>\n",
              "      <td>150</td>\n",
              "      <td>195</td>\n",
              "      <td>254</td>\n",
              "      <td>255</td>\n",
              "      <td>254</td>\n",
              "      <td>176</td>\n",
              "      <td>193</td>\n",
              "      <td>150</td>\n",
              "      <td>96</td>\n",
              "      <td>0</td>\n",
              "    </tr>\n",
              "    <tr>\n",
              "      <th>1</th>\n",
              "      <td>0</td>\n",
              "      <td>0</td>\n",
              "      <td>48</td>\n",
              "      <td>166</td>\n",
              "      <td>224</td>\n",
              "      <td>253</td>\n",
              "      <td>253</td>\n",
              "      <td>234</td>\n",
              "      <td>196</td>\n",
              "      <td>253</td>\n",
              "      <td>253</td>\n",
              "      <td>253</td>\n",
              "      <td>253</td>\n",
              "      <td>233</td>\n",
              "      <td>0</td>\n",
              "    </tr>\n",
              "    <tr>\n",
              "      <th>2</th>\n",
              "      <td>93</td>\n",
              "      <td>244</td>\n",
              "      <td>249</td>\n",
              "      <td>253</td>\n",
              "      <td>187</td>\n",
              "      <td>46</td>\n",
              "      <td>10</td>\n",
              "      <td>8</td>\n",
              "      <td>4</td>\n",
              "      <td>10</td>\n",
              "      <td>194</td>\n",
              "      <td>253</td>\n",
              "      <td>253</td>\n",
              "      <td>233</td>\n",
              "      <td>0</td>\n",
              "    </tr>\n",
              "    <tr>\n",
              "      <th>3</th>\n",
              "      <td>107</td>\n",
              "      <td>253</td>\n",
              "      <td>253</td>\n",
              "      <td>230</td>\n",
              "      <td>48</td>\n",
              "      <td>0</td>\n",
              "      <td>0</td>\n",
              "      <td>0</td>\n",
              "      <td>0</td>\n",
              "      <td>0</td>\n",
              "      <td>192</td>\n",
              "      <td>253</td>\n",
              "      <td>253</td>\n",
              "      <td>156</td>\n",
              "      <td>0</td>\n",
              "    </tr>\n",
              "    <tr>\n",
              "      <th>4</th>\n",
              "      <td>3</td>\n",
              "      <td>20</td>\n",
              "      <td>20</td>\n",
              "      <td>15</td>\n",
              "      <td>0</td>\n",
              "      <td>0</td>\n",
              "      <td>0</td>\n",
              "      <td>0</td>\n",
              "      <td>0</td>\n",
              "      <td>43</td>\n",
              "      <td>224</td>\n",
              "      <td>253</td>\n",
              "      <td>245</td>\n",
              "      <td>74</td>\n",
              "      <td>0</td>\n",
              "    </tr>\n",
              "    <tr>\n",
              "      <th>5</th>\n",
              "      <td>0</td>\n",
              "      <td>0</td>\n",
              "      <td>0</td>\n",
              "      <td>0</td>\n",
              "      <td>0</td>\n",
              "      <td>0</td>\n",
              "      <td>0</td>\n",
              "      <td>0</td>\n",
              "      <td>0</td>\n",
              "      <td>249</td>\n",
              "      <td>253</td>\n",
              "      <td>245</td>\n",
              "      <td>126</td>\n",
              "      <td>0</td>\n",
              "      <td>0</td>\n",
              "    </tr>\n",
              "    <tr>\n",
              "      <th>6</th>\n",
              "      <td>0</td>\n",
              "      <td>0</td>\n",
              "      <td>0</td>\n",
              "      <td>0</td>\n",
              "      <td>0</td>\n",
              "      <td>0</td>\n",
              "      <td>14</td>\n",
              "      <td>101</td>\n",
              "      <td>223</td>\n",
              "      <td>253</td>\n",
              "      <td>248</td>\n",
              "      <td>124</td>\n",
              "      <td>0</td>\n",
              "      <td>0</td>\n",
              "      <td>0</td>\n",
              "    </tr>\n",
              "    <tr>\n",
              "      <th>7</th>\n",
              "      <td>0</td>\n",
              "      <td>0</td>\n",
              "      <td>0</td>\n",
              "      <td>0</td>\n",
              "      <td>11</td>\n",
              "      <td>166</td>\n",
              "      <td>239</td>\n",
              "      <td>253</td>\n",
              "      <td>253</td>\n",
              "      <td>253</td>\n",
              "      <td>187</td>\n",
              "      <td>30</td>\n",
              "      <td>0</td>\n",
              "      <td>0</td>\n",
              "      <td>0</td>\n",
              "    </tr>\n",
              "    <tr>\n",
              "      <th>8</th>\n",
              "      <td>0</td>\n",
              "      <td>0</td>\n",
              "      <td>0</td>\n",
              "      <td>0</td>\n",
              "      <td>16</td>\n",
              "      <td>248</td>\n",
              "      <td>250</td>\n",
              "      <td>253</td>\n",
              "      <td>253</td>\n",
              "      <td>253</td>\n",
              "      <td>253</td>\n",
              "      <td>232</td>\n",
              "      <td>213</td>\n",
              "      <td>111</td>\n",
              "      <td>2</td>\n",
              "    </tr>\n",
              "    <tr>\n",
              "      <th>9</th>\n",
              "      <td>0</td>\n",
              "      <td>0</td>\n",
              "      <td>0</td>\n",
              "      <td>0</td>\n",
              "      <td>0</td>\n",
              "      <td>0</td>\n",
              "      <td>43</td>\n",
              "      <td>98</td>\n",
              "      <td>98</td>\n",
              "      <td>208</td>\n",
              "      <td>253</td>\n",
              "      <td>253</td>\n",
              "      <td>253</td>\n",
              "      <td>253</td>\n",
              "      <td>187</td>\n",
              "    </tr>\n",
              "    <tr>\n",
              "      <th>10</th>\n",
              "      <td>0</td>\n",
              "      <td>0</td>\n",
              "      <td>0</td>\n",
              "      <td>0</td>\n",
              "      <td>0</td>\n",
              "      <td>0</td>\n",
              "      <td>0</td>\n",
              "      <td>0</td>\n",
              "      <td>0</td>\n",
              "      <td>9</td>\n",
              "      <td>51</td>\n",
              "      <td>119</td>\n",
              "      <td>253</td>\n",
              "      <td>253</td>\n",
              "      <td>253</td>\n",
              "    </tr>\n",
              "    <tr>\n",
              "      <th>11</th>\n",
              "      <td>0</td>\n",
              "      <td>0</td>\n",
              "      <td>0</td>\n",
              "      <td>0</td>\n",
              "      <td>0</td>\n",
              "      <td>0</td>\n",
              "      <td>0</td>\n",
              "      <td>0</td>\n",
              "      <td>0</td>\n",
              "      <td>0</td>\n",
              "      <td>0</td>\n",
              "      <td>1</td>\n",
              "      <td>183</td>\n",
              "      <td>253</td>\n",
              "      <td>253</td>\n",
              "    </tr>\n",
              "    <tr>\n",
              "      <th>12</th>\n",
              "      <td>0</td>\n",
              "      <td>0</td>\n",
              "      <td>0</td>\n",
              "      <td>0</td>\n",
              "      <td>0</td>\n",
              "      <td>0</td>\n",
              "      <td>0</td>\n",
              "      <td>0</td>\n",
              "      <td>0</td>\n",
              "      <td>0</td>\n",
              "      <td>0</td>\n",
              "      <td>0</td>\n",
              "      <td>182</td>\n",
              "      <td>253</td>\n",
              "      <td>253</td>\n",
              "    </tr>\n",
              "    <tr>\n",
              "      <th>13</th>\n",
              "      <td>0</td>\n",
              "      <td>0</td>\n",
              "      <td>0</td>\n",
              "      <td>0</td>\n",
              "      <td>0</td>\n",
              "      <td>0</td>\n",
              "      <td>0</td>\n",
              "      <td>0</td>\n",
              "      <td>0</td>\n",
              "      <td>0</td>\n",
              "      <td>0</td>\n",
              "      <td>85</td>\n",
              "      <td>249</td>\n",
              "      <td>253</td>\n",
              "      <td>253</td>\n",
              "    </tr>\n",
              "    <tr>\n",
              "      <th>14</th>\n",
              "      <td>0</td>\n",
              "      <td>0</td>\n",
              "      <td>0</td>\n",
              "      <td>0</td>\n",
              "      <td>0</td>\n",
              "      <td>0</td>\n",
              "      <td>0</td>\n",
              "      <td>0</td>\n",
              "      <td>0</td>\n",
              "      <td>0</td>\n",
              "      <td>60</td>\n",
              "      <td>214</td>\n",
              "      <td>253</td>\n",
              "      <td>253</td>\n",
              "      <td>173</td>\n",
              "    </tr>\n",
              "  </tbody>\n",
              "</table>\n",
              "</div>\n",
              "      <button class=\"colab-df-convert\" onclick=\"convertToInteractive('df-b060b723-d543-482a-9da7-d8359ddfb09a')\"\n",
              "              title=\"Convert this dataframe to an interactive table.\"\n",
              "              style=\"display:none;\">\n",
              "        \n",
              "  <svg xmlns=\"http://www.w3.org/2000/svg\" height=\"24px\"viewBox=\"0 0 24 24\"\n",
              "       width=\"24px\">\n",
              "    <path d=\"M0 0h24v24H0V0z\" fill=\"none\"/>\n",
              "    <path d=\"M18.56 5.44l.94 2.06.94-2.06 2.06-.94-2.06-.94-.94-2.06-.94 2.06-2.06.94zm-11 1L8.5 8.5l.94-2.06 2.06-.94-2.06-.94L8.5 2.5l-.94 2.06-2.06.94zm10 10l.94 2.06.94-2.06 2.06-.94-2.06-.94-.94-2.06-.94 2.06-2.06.94z\"/><path d=\"M17.41 7.96l-1.37-1.37c-.4-.4-.92-.59-1.43-.59-.52 0-1.04.2-1.43.59L10.3 9.45l-7.72 7.72c-.78.78-.78 2.05 0 2.83L4 21.41c.39.39.9.59 1.41.59.51 0 1.02-.2 1.41-.59l7.78-7.78 2.81-2.81c.8-.78.8-2.07 0-2.86zM5.41 20L4 18.59l7.72-7.72 1.47 1.35L5.41 20z\"/>\n",
              "  </svg>\n",
              "      </button>\n",
              "      \n",
              "  <style>\n",
              "    .colab-df-container {\n",
              "      display:flex;\n",
              "      flex-wrap:wrap;\n",
              "      gap: 12px;\n",
              "    }\n",
              "\n",
              "    .colab-df-convert {\n",
              "      background-color: #E8F0FE;\n",
              "      border: none;\n",
              "      border-radius: 50%;\n",
              "      cursor: pointer;\n",
              "      display: none;\n",
              "      fill: #1967D2;\n",
              "      height: 32px;\n",
              "      padding: 0 0 0 0;\n",
              "      width: 32px;\n",
              "    }\n",
              "\n",
              "    .colab-df-convert:hover {\n",
              "      background-color: #E2EBFA;\n",
              "      box-shadow: 0px 1px 2px rgba(60, 64, 67, 0.3), 0px 1px 3px 1px rgba(60, 64, 67, 0.15);\n",
              "      fill: #174EA6;\n",
              "    }\n",
              "\n",
              "    [theme=dark] .colab-df-convert {\n",
              "      background-color: #3B4455;\n",
              "      fill: #D2E3FC;\n",
              "    }\n",
              "\n",
              "    [theme=dark] .colab-df-convert:hover {\n",
              "      background-color: #434B5C;\n",
              "      box-shadow: 0px 1px 3px 1px rgba(0, 0, 0, 0.15);\n",
              "      filter: drop-shadow(0px 1px 2px rgba(0, 0, 0, 0.3));\n",
              "      fill: #FFFFFF;\n",
              "    }\n",
              "  </style>\n",
              "\n",
              "      <script>\n",
              "        const buttonEl =\n",
              "          document.querySelector('#df-b060b723-d543-482a-9da7-d8359ddfb09a button.colab-df-convert');\n",
              "        buttonEl.style.display =\n",
              "          google.colab.kernel.accessAllowed ? 'block' : 'none';\n",
              "\n",
              "        async function convertToInteractive(key) {\n",
              "          const element = document.querySelector('#df-b060b723-d543-482a-9da7-d8359ddfb09a');\n",
              "          const dataTable =\n",
              "            await google.colab.kernel.invokeFunction('convertToInteractive',\n",
              "                                                     [key], {});\n",
              "          if (!dataTable) return;\n",
              "\n",
              "          const docLinkHtml = 'Like what you see? Visit the ' +\n",
              "            '<a target=\"_blank\" href=https://colab.research.google.com/notebooks/data_table.ipynb>data table notebook</a>'\n",
              "            + ' to learn more about interactive tables.';\n",
              "          element.innerHTML = '';\n",
              "          dataTable['output_type'] = 'display_data';\n",
              "          await google.colab.output.renderOutput(dataTable, element);\n",
              "          const docLink = document.createElement('div');\n",
              "          docLink.innerHTML = docLinkHtml;\n",
              "          element.appendChild(docLink);\n",
              "        }\n",
              "      </script>\n",
              "    </div>\n",
              "  </div>\n",
              "  "
            ]
          },
          "metadata": {},
          "execution_count": 9
        }
      ]
    },
    {
      "cell_type": "code",
      "source": [
        "# color-code the values using a gradient\n",
        "df.style.set_properties(**{'font-size':'6pt'}).background_gradient('Greys')"
      ],
      "metadata": {
        "id": "0THS9LhChV91",
        "colab": {
          "base_uri": "https://localhost:8080/",
          "height": 520
        },
        "outputId": "3c348ba2-4d3a-46ed-d871-fdb94da02cfe"
      },
      "execution_count": 10,
      "outputs": [
        {
          "output_type": "execute_result",
          "data": {
            "text/plain": [
              "<pandas.io.formats.style.Styler at 0x7f0c5bfc5880>"
            ],
            "text/html": [
              "<style type=\"text/css\">\n",
              "#T_b511b_row0_col0, #T_b511b_row0_col1, #T_b511b_row0_col2, #T_b511b_row0_col3, #T_b511b_row0_col14, #T_b511b_row1_col0, #T_b511b_row1_col1, #T_b511b_row1_col14, #T_b511b_row2_col14, #T_b511b_row3_col5, #T_b511b_row3_col6, #T_b511b_row3_col7, #T_b511b_row3_col8, #T_b511b_row3_col9, #T_b511b_row3_col14, #T_b511b_row4_col4, #T_b511b_row4_col5, #T_b511b_row4_col6, #T_b511b_row4_col7, #T_b511b_row4_col8, #T_b511b_row4_col14, #T_b511b_row5_col0, #T_b511b_row5_col1, #T_b511b_row5_col2, #T_b511b_row5_col3, #T_b511b_row5_col4, #T_b511b_row5_col5, #T_b511b_row5_col6, #T_b511b_row5_col7, #T_b511b_row5_col8, #T_b511b_row5_col13, #T_b511b_row5_col14, #T_b511b_row6_col0, #T_b511b_row6_col1, #T_b511b_row6_col2, #T_b511b_row6_col3, #T_b511b_row6_col4, #T_b511b_row6_col5, #T_b511b_row6_col12, #T_b511b_row6_col13, #T_b511b_row6_col14, #T_b511b_row7_col0, #T_b511b_row7_col1, #T_b511b_row7_col2, #T_b511b_row7_col3, #T_b511b_row7_col12, #T_b511b_row7_col13, #T_b511b_row7_col14, #T_b511b_row8_col0, #T_b511b_row8_col1, #T_b511b_row8_col2, #T_b511b_row8_col3, #T_b511b_row9_col0, #T_b511b_row9_col1, #T_b511b_row9_col2, #T_b511b_row9_col3, #T_b511b_row9_col4, #T_b511b_row9_col5, #T_b511b_row10_col0, #T_b511b_row10_col1, #T_b511b_row10_col2, #T_b511b_row10_col3, #T_b511b_row10_col4, #T_b511b_row10_col5, #T_b511b_row10_col6, #T_b511b_row10_col7, #T_b511b_row10_col8, #T_b511b_row11_col0, #T_b511b_row11_col1, #T_b511b_row11_col2, #T_b511b_row11_col3, #T_b511b_row11_col4, #T_b511b_row11_col5, #T_b511b_row11_col6, #T_b511b_row11_col7, #T_b511b_row11_col8, #T_b511b_row11_col9, #T_b511b_row11_col10, #T_b511b_row11_col11, #T_b511b_row12_col0, #T_b511b_row12_col1, #T_b511b_row12_col2, #T_b511b_row12_col3, #T_b511b_row12_col4, #T_b511b_row12_col5, #T_b511b_row12_col6, #T_b511b_row12_col7, #T_b511b_row12_col8, #T_b511b_row12_col9, #T_b511b_row12_col10, #T_b511b_row12_col11, #T_b511b_row13_col0, #T_b511b_row13_col1, #T_b511b_row13_col2, #T_b511b_row13_col3, #T_b511b_row13_col4, #T_b511b_row13_col5, #T_b511b_row13_col6, #T_b511b_row13_col7, #T_b511b_row13_col8, #T_b511b_row13_col9, #T_b511b_row13_col10, #T_b511b_row14_col0, #T_b511b_row14_col1, #T_b511b_row14_col2, #T_b511b_row14_col3, #T_b511b_row14_col4, #T_b511b_row14_col5, #T_b511b_row14_col6, #T_b511b_row14_col7, #T_b511b_row14_col8, #T_b511b_row14_col9 {\n",
              "  font-size: 6pt;\n",
              "  background-color: #ffffff;\n",
              "  color: #000000;\n",
              "}\n",
              "#T_b511b_row0_col4 {\n",
              "  font-size: 6pt;\n",
              "  background-color: #efefef;\n",
              "  color: #000000;\n",
              "}\n",
              "#T_b511b_row0_col5, #T_b511b_row0_col12 {\n",
              "  font-size: 6pt;\n",
              "  background-color: #7c7c7c;\n",
              "  color: #f1f1f1;\n",
              "}\n",
              "#T_b511b_row0_col6 {\n",
              "  font-size: 6pt;\n",
              "  background-color: #4a4a4a;\n",
              "  color: #f1f1f1;\n",
              "}\n",
              "#T_b511b_row0_col7, #T_b511b_row0_col8, #T_b511b_row0_col9, #T_b511b_row1_col4, #T_b511b_row1_col5, #T_b511b_row1_col6, #T_b511b_row1_col10, #T_b511b_row1_col11, #T_b511b_row1_col12, #T_b511b_row2_col3, #T_b511b_row2_col11, #T_b511b_row2_col12, #T_b511b_row3_col0, #T_b511b_row3_col1, #T_b511b_row3_col2, #T_b511b_row3_col11, #T_b511b_row3_col12, #T_b511b_row4_col11, #T_b511b_row5_col10, #T_b511b_row8_col10, #T_b511b_row9_col10, #T_b511b_row9_col11, #T_b511b_row9_col12, #T_b511b_row9_col13, #T_b511b_row10_col12, #T_b511b_row10_col13, #T_b511b_row10_col14, #T_b511b_row11_col13, #T_b511b_row11_col14, #T_b511b_row12_col13, #T_b511b_row12_col14, #T_b511b_row13_col13, #T_b511b_row13_col14, #T_b511b_row14_col12, #T_b511b_row14_col13 {\n",
              "  font-size: 6pt;\n",
              "  background-color: #000000;\n",
              "  color: #f1f1f1;\n",
              "}\n",
              "#T_b511b_row0_col10 {\n",
              "  font-size: 6pt;\n",
              "  background-color: #606060;\n",
              "  color: #f1f1f1;\n",
              "}\n",
              "#T_b511b_row0_col11 {\n",
              "  font-size: 6pt;\n",
              "  background-color: #4d4d4d;\n",
              "  color: #f1f1f1;\n",
              "}\n",
              "#T_b511b_row0_col13 {\n",
              "  font-size: 6pt;\n",
              "  background-color: #bbbbbb;\n",
              "  color: #000000;\n",
              "}\n",
              "#T_b511b_row1_col2 {\n",
              "  font-size: 6pt;\n",
              "  background-color: #e4e4e4;\n",
              "  color: #000000;\n",
              "}\n",
              "#T_b511b_row1_col3, #T_b511b_row7_col5 {\n",
              "  font-size: 6pt;\n",
              "  background-color: #6b6b6b;\n",
              "  color: #f1f1f1;\n",
              "}\n",
              "#T_b511b_row1_col7, #T_b511b_row1_col13, #T_b511b_row2_col13 {\n",
              "  font-size: 6pt;\n",
              "  background-color: #171717;\n",
              "  color: #f1f1f1;\n",
              "}\n",
              "#T_b511b_row1_col8, #T_b511b_row2_col10 {\n",
              "  font-size: 6pt;\n",
              "  background-color: #4b4b4b;\n",
              "  color: #f1f1f1;\n",
              "}\n",
              "#T_b511b_row1_col9, #T_b511b_row6_col9, #T_b511b_row7_col7, #T_b511b_row7_col9, #T_b511b_row8_col7, #T_b511b_row8_col9 {\n",
              "  font-size: 6pt;\n",
              "  background-color: #010101;\n",
              "  color: #f1f1f1;\n",
              "}\n",
              "#T_b511b_row2_col0 {\n",
              "  font-size: 6pt;\n",
              "  background-color: #272727;\n",
              "  color: #f1f1f1;\n",
              "}\n",
              "#T_b511b_row2_col1 {\n",
              "  font-size: 6pt;\n",
              "  background-color: #0a0a0a;\n",
              "  color: #f1f1f1;\n",
              "}\n",
              "#T_b511b_row2_col2, #T_b511b_row13_col12 {\n",
              "  font-size: 6pt;\n",
              "  background-color: #050505;\n",
              "  color: #f1f1f1;\n",
              "}\n",
              "#T_b511b_row2_col4 {\n",
              "  font-size: 6pt;\n",
              "  background-color: #333333;\n",
              "  color: #f1f1f1;\n",
              "}\n",
              "#T_b511b_row2_col5 {\n",
              "  font-size: 6pt;\n",
              "  background-color: #e6e6e6;\n",
              "  color: #000000;\n",
              "}\n",
              "#T_b511b_row2_col6, #T_b511b_row2_col9 {\n",
              "  font-size: 6pt;\n",
              "  background-color: #fafafa;\n",
              "  color: #000000;\n",
              "}\n",
              "#T_b511b_row2_col7, #T_b511b_row10_col9 {\n",
              "  font-size: 6pt;\n",
              "  background-color: #fbfbfb;\n",
              "  color: #000000;\n",
              "}\n",
              "#T_b511b_row2_col8 {\n",
              "  font-size: 6pt;\n",
              "  background-color: #fdfdfd;\n",
              "  color: #000000;\n",
              "}\n",
              "#T_b511b_row3_col3 {\n",
              "  font-size: 6pt;\n",
              "  background-color: #1b1b1b;\n",
              "  color: #f1f1f1;\n",
              "}\n",
              "#T_b511b_row3_col4 {\n",
              "  font-size: 6pt;\n",
              "  background-color: #e0e0e0;\n",
              "  color: #000000;\n",
              "}\n",
              "#T_b511b_row3_col10 {\n",
              "  font-size: 6pt;\n",
              "  background-color: #4e4e4e;\n",
              "  color: #f1f1f1;\n",
              "}\n",
              "#T_b511b_row3_col13 {\n",
              "  font-size: 6pt;\n",
              "  background-color: #767676;\n",
              "  color: #f1f1f1;\n",
              "}\n",
              "#T_b511b_row4_col0 {\n",
              "  font-size: 6pt;\n",
              "  background-color: #fcfcfc;\n",
              "  color: #000000;\n",
              "}\n",
              "#T_b511b_row4_col1, #T_b511b_row4_col2 {\n",
              "  font-size: 6pt;\n",
              "  background-color: #f6f6f6;\n",
              "  color: #000000;\n",
              "}\n",
              "#T_b511b_row4_col3, #T_b511b_row6_col6 {\n",
              "  font-size: 6pt;\n",
              "  background-color: #f8f8f8;\n",
              "  color: #000000;\n",
              "}\n",
              "#T_b511b_row4_col9, #T_b511b_row9_col6 {\n",
              "  font-size: 6pt;\n",
              "  background-color: #e8e8e8;\n",
              "  color: #000000;\n",
              "}\n",
              "#T_b511b_row4_col10 {\n",
              "  font-size: 6pt;\n",
              "  background-color: #222222;\n",
              "  color: #f1f1f1;\n",
              "}\n",
              "#T_b511b_row4_col12, #T_b511b_row5_col11 {\n",
              "  font-size: 6pt;\n",
              "  background-color: #090909;\n",
              "  color: #f1f1f1;\n",
              "}\n",
              "#T_b511b_row4_col13 {\n",
              "  font-size: 6pt;\n",
              "  background-color: #d0d0d0;\n",
              "  color: #000000;\n",
              "}\n",
              "#T_b511b_row5_col9, #T_b511b_row6_col10, #T_b511b_row8_col5 {\n",
              "  font-size: 6pt;\n",
              "  background-color: #060606;\n",
              "  color: #f1f1f1;\n",
              "}\n",
              "#T_b511b_row5_col12 {\n",
              "  font-size: 6pt;\n",
              "  background-color: #979797;\n",
              "  color: #f1f1f1;\n",
              "}\n",
              "#T_b511b_row6_col7 {\n",
              "  font-size: 6pt;\n",
              "  background-color: #b6b6b6;\n",
              "  color: #000000;\n",
              "}\n",
              "#T_b511b_row6_col8 {\n",
              "  font-size: 6pt;\n",
              "  background-color: #252525;\n",
              "  color: #f1f1f1;\n",
              "}\n",
              "#T_b511b_row6_col11 {\n",
              "  font-size: 6pt;\n",
              "  background-color: #999999;\n",
              "  color: #f1f1f1;\n",
              "}\n",
              "#T_b511b_row7_col4 {\n",
              "  font-size: 6pt;\n",
              "  background-color: #f9f9f9;\n",
              "  color: #000000;\n",
              "}\n",
              "#T_b511b_row7_col6 {\n",
              "  font-size: 6pt;\n",
              "  background-color: #101010;\n",
              "  color: #f1f1f1;\n",
              "}\n",
              "#T_b511b_row7_col8, #T_b511b_row8_col8 {\n",
              "  font-size: 6pt;\n",
              "  background-color: #020202;\n",
              "  color: #f1f1f1;\n",
              "}\n",
              "#T_b511b_row7_col10, #T_b511b_row9_col14 {\n",
              "  font-size: 6pt;\n",
              "  background-color: #545454;\n",
              "  color: #f1f1f1;\n",
              "}\n",
              "#T_b511b_row7_col11 {\n",
              "  font-size: 6pt;\n",
              "  background-color: #f1f1f1;\n",
              "  color: #000000;\n",
              "}\n",
              "#T_b511b_row8_col4 {\n",
              "  font-size: 6pt;\n",
              "  background-color: #f7f7f7;\n",
              "  color: #000000;\n",
              "}\n",
              "#T_b511b_row8_col6 {\n",
              "  font-size: 6pt;\n",
              "  background-color: #030303;\n",
              "  color: #f1f1f1;\n",
              "}\n",
              "#T_b511b_row8_col11 {\n",
              "  font-size: 6pt;\n",
              "  background-color: #181818;\n",
              "  color: #f1f1f1;\n",
              "}\n",
              "#T_b511b_row8_col12 {\n",
              "  font-size: 6pt;\n",
              "  background-color: #303030;\n",
              "  color: #f1f1f1;\n",
              "}\n",
              "#T_b511b_row8_col13 {\n",
              "  font-size: 6pt;\n",
              "  background-color: #a9a9a9;\n",
              "  color: #f1f1f1;\n",
              "}\n",
              "#T_b511b_row8_col14 {\n",
              "  font-size: 6pt;\n",
              "  background-color: #fefefe;\n",
              "  color: #000000;\n",
              "}\n",
              "#T_b511b_row9_col7, #T_b511b_row9_col8 {\n",
              "  font-size: 6pt;\n",
              "  background-color: #bababa;\n",
              "  color: #000000;\n",
              "}\n",
              "#T_b511b_row9_col9 {\n",
              "  font-size: 6pt;\n",
              "  background-color: #393939;\n",
              "  color: #f1f1f1;\n",
              "}\n",
              "#T_b511b_row10_col10 {\n",
              "  font-size: 6pt;\n",
              "  background-color: #e2e2e2;\n",
              "  color: #000000;\n",
              "}\n",
              "#T_b511b_row10_col11 {\n",
              "  font-size: 6pt;\n",
              "  background-color: #9f9f9f;\n",
              "  color: #f1f1f1;\n",
              "}\n",
              "#T_b511b_row11_col12 {\n",
              "  font-size: 6pt;\n",
              "  background-color: #585858;\n",
              "  color: #f1f1f1;\n",
              "}\n",
              "#T_b511b_row12_col12 {\n",
              "  font-size: 6pt;\n",
              "  background-color: #5a5a5a;\n",
              "  color: #f1f1f1;\n",
              "}\n",
              "#T_b511b_row13_col11 {\n",
              "  font-size: 6pt;\n",
              "  background-color: #c5c5c5;\n",
              "  color: #000000;\n",
              "}\n",
              "#T_b511b_row14_col10 {\n",
              "  font-size: 6pt;\n",
              "  background-color: #dcdcdc;\n",
              "  color: #000000;\n",
              "}\n",
              "#T_b511b_row14_col11 {\n",
              "  font-size: 6pt;\n",
              "  background-color: #2f2f2f;\n",
              "  color: #f1f1f1;\n",
              "}\n",
              "#T_b511b_row14_col14 {\n",
              "  font-size: 6pt;\n",
              "  background-color: #636363;\n",
              "  color: #f1f1f1;\n",
              "}\n",
              "</style>\n",
              "<table id=\"T_b511b_\" class=\"dataframe\">\n",
              "  <thead>\n",
              "    <tr>\n",
              "      <th class=\"blank level0\" >&nbsp;</th>\n",
              "      <th class=\"col_heading level0 col0\" >0</th>\n",
              "      <th class=\"col_heading level0 col1\" >1</th>\n",
              "      <th class=\"col_heading level0 col2\" >2</th>\n",
              "      <th class=\"col_heading level0 col3\" >3</th>\n",
              "      <th class=\"col_heading level0 col4\" >4</th>\n",
              "      <th class=\"col_heading level0 col5\" >5</th>\n",
              "      <th class=\"col_heading level0 col6\" >6</th>\n",
              "      <th class=\"col_heading level0 col7\" >7</th>\n",
              "      <th class=\"col_heading level0 col8\" >8</th>\n",
              "      <th class=\"col_heading level0 col9\" >9</th>\n",
              "      <th class=\"col_heading level0 col10\" >10</th>\n",
              "      <th class=\"col_heading level0 col11\" >11</th>\n",
              "      <th class=\"col_heading level0 col12\" >12</th>\n",
              "      <th class=\"col_heading level0 col13\" >13</th>\n",
              "      <th class=\"col_heading level0 col14\" >14</th>\n",
              "    </tr>\n",
              "  </thead>\n",
              "  <tbody>\n",
              "    <tr>\n",
              "      <th id=\"T_b511b_level0_row0\" class=\"row_heading level0 row0\" >0</th>\n",
              "      <td id=\"T_b511b_row0_col0\" class=\"data row0 col0\" >0</td>\n",
              "      <td id=\"T_b511b_row0_col1\" class=\"data row0 col1\" >0</td>\n",
              "      <td id=\"T_b511b_row0_col2\" class=\"data row0 col2\" >0</td>\n",
              "      <td id=\"T_b511b_row0_col3\" class=\"data row0 col3\" >0</td>\n",
              "      <td id=\"T_b511b_row0_col4\" class=\"data row0 col4\" >29</td>\n",
              "      <td id=\"T_b511b_row0_col5\" class=\"data row0 col5\" >150</td>\n",
              "      <td id=\"T_b511b_row0_col6\" class=\"data row0 col6\" >195</td>\n",
              "      <td id=\"T_b511b_row0_col7\" class=\"data row0 col7\" >254</td>\n",
              "      <td id=\"T_b511b_row0_col8\" class=\"data row0 col8\" >255</td>\n",
              "      <td id=\"T_b511b_row0_col9\" class=\"data row0 col9\" >254</td>\n",
              "      <td id=\"T_b511b_row0_col10\" class=\"data row0 col10\" >176</td>\n",
              "      <td id=\"T_b511b_row0_col11\" class=\"data row0 col11\" >193</td>\n",
              "      <td id=\"T_b511b_row0_col12\" class=\"data row0 col12\" >150</td>\n",
              "      <td id=\"T_b511b_row0_col13\" class=\"data row0 col13\" >96</td>\n",
              "      <td id=\"T_b511b_row0_col14\" class=\"data row0 col14\" >0</td>\n",
              "    </tr>\n",
              "    <tr>\n",
              "      <th id=\"T_b511b_level0_row1\" class=\"row_heading level0 row1\" >1</th>\n",
              "      <td id=\"T_b511b_row1_col0\" class=\"data row1 col0\" >0</td>\n",
              "      <td id=\"T_b511b_row1_col1\" class=\"data row1 col1\" >0</td>\n",
              "      <td id=\"T_b511b_row1_col2\" class=\"data row1 col2\" >48</td>\n",
              "      <td id=\"T_b511b_row1_col3\" class=\"data row1 col3\" >166</td>\n",
              "      <td id=\"T_b511b_row1_col4\" class=\"data row1 col4\" >224</td>\n",
              "      <td id=\"T_b511b_row1_col5\" class=\"data row1 col5\" >253</td>\n",
              "      <td id=\"T_b511b_row1_col6\" class=\"data row1 col6\" >253</td>\n",
              "      <td id=\"T_b511b_row1_col7\" class=\"data row1 col7\" >234</td>\n",
              "      <td id=\"T_b511b_row1_col8\" class=\"data row1 col8\" >196</td>\n",
              "      <td id=\"T_b511b_row1_col9\" class=\"data row1 col9\" >253</td>\n",
              "      <td id=\"T_b511b_row1_col10\" class=\"data row1 col10\" >253</td>\n",
              "      <td id=\"T_b511b_row1_col11\" class=\"data row1 col11\" >253</td>\n",
              "      <td id=\"T_b511b_row1_col12\" class=\"data row1 col12\" >253</td>\n",
              "      <td id=\"T_b511b_row1_col13\" class=\"data row1 col13\" >233</td>\n",
              "      <td id=\"T_b511b_row1_col14\" class=\"data row1 col14\" >0</td>\n",
              "    </tr>\n",
              "    <tr>\n",
              "      <th id=\"T_b511b_level0_row2\" class=\"row_heading level0 row2\" >2</th>\n",
              "      <td id=\"T_b511b_row2_col0\" class=\"data row2 col0\" >93</td>\n",
              "      <td id=\"T_b511b_row2_col1\" class=\"data row2 col1\" >244</td>\n",
              "      <td id=\"T_b511b_row2_col2\" class=\"data row2 col2\" >249</td>\n",
              "      <td id=\"T_b511b_row2_col3\" class=\"data row2 col3\" >253</td>\n",
              "      <td id=\"T_b511b_row2_col4\" class=\"data row2 col4\" >187</td>\n",
              "      <td id=\"T_b511b_row2_col5\" class=\"data row2 col5\" >46</td>\n",
              "      <td id=\"T_b511b_row2_col6\" class=\"data row2 col6\" >10</td>\n",
              "      <td id=\"T_b511b_row2_col7\" class=\"data row2 col7\" >8</td>\n",
              "      <td id=\"T_b511b_row2_col8\" class=\"data row2 col8\" >4</td>\n",
              "      <td id=\"T_b511b_row2_col9\" class=\"data row2 col9\" >10</td>\n",
              "      <td id=\"T_b511b_row2_col10\" class=\"data row2 col10\" >194</td>\n",
              "      <td id=\"T_b511b_row2_col11\" class=\"data row2 col11\" >253</td>\n",
              "      <td id=\"T_b511b_row2_col12\" class=\"data row2 col12\" >253</td>\n",
              "      <td id=\"T_b511b_row2_col13\" class=\"data row2 col13\" >233</td>\n",
              "      <td id=\"T_b511b_row2_col14\" class=\"data row2 col14\" >0</td>\n",
              "    </tr>\n",
              "    <tr>\n",
              "      <th id=\"T_b511b_level0_row3\" class=\"row_heading level0 row3\" >3</th>\n",
              "      <td id=\"T_b511b_row3_col0\" class=\"data row3 col0\" >107</td>\n",
              "      <td id=\"T_b511b_row3_col1\" class=\"data row3 col1\" >253</td>\n",
              "      <td id=\"T_b511b_row3_col2\" class=\"data row3 col2\" >253</td>\n",
              "      <td id=\"T_b511b_row3_col3\" class=\"data row3 col3\" >230</td>\n",
              "      <td id=\"T_b511b_row3_col4\" class=\"data row3 col4\" >48</td>\n",
              "      <td id=\"T_b511b_row3_col5\" class=\"data row3 col5\" >0</td>\n",
              "      <td id=\"T_b511b_row3_col6\" class=\"data row3 col6\" >0</td>\n",
              "      <td id=\"T_b511b_row3_col7\" class=\"data row3 col7\" >0</td>\n",
              "      <td id=\"T_b511b_row3_col8\" class=\"data row3 col8\" >0</td>\n",
              "      <td id=\"T_b511b_row3_col9\" class=\"data row3 col9\" >0</td>\n",
              "      <td id=\"T_b511b_row3_col10\" class=\"data row3 col10\" >192</td>\n",
              "      <td id=\"T_b511b_row3_col11\" class=\"data row3 col11\" >253</td>\n",
              "      <td id=\"T_b511b_row3_col12\" class=\"data row3 col12\" >253</td>\n",
              "      <td id=\"T_b511b_row3_col13\" class=\"data row3 col13\" >156</td>\n",
              "      <td id=\"T_b511b_row3_col14\" class=\"data row3 col14\" >0</td>\n",
              "    </tr>\n",
              "    <tr>\n",
              "      <th id=\"T_b511b_level0_row4\" class=\"row_heading level0 row4\" >4</th>\n",
              "      <td id=\"T_b511b_row4_col0\" class=\"data row4 col0\" >3</td>\n",
              "      <td id=\"T_b511b_row4_col1\" class=\"data row4 col1\" >20</td>\n",
              "      <td id=\"T_b511b_row4_col2\" class=\"data row4 col2\" >20</td>\n",
              "      <td id=\"T_b511b_row4_col3\" class=\"data row4 col3\" >15</td>\n",
              "      <td id=\"T_b511b_row4_col4\" class=\"data row4 col4\" >0</td>\n",
              "      <td id=\"T_b511b_row4_col5\" class=\"data row4 col5\" >0</td>\n",
              "      <td id=\"T_b511b_row4_col6\" class=\"data row4 col6\" >0</td>\n",
              "      <td id=\"T_b511b_row4_col7\" class=\"data row4 col7\" >0</td>\n",
              "      <td id=\"T_b511b_row4_col8\" class=\"data row4 col8\" >0</td>\n",
              "      <td id=\"T_b511b_row4_col9\" class=\"data row4 col9\" >43</td>\n",
              "      <td id=\"T_b511b_row4_col10\" class=\"data row4 col10\" >224</td>\n",
              "      <td id=\"T_b511b_row4_col11\" class=\"data row4 col11\" >253</td>\n",
              "      <td id=\"T_b511b_row4_col12\" class=\"data row4 col12\" >245</td>\n",
              "      <td id=\"T_b511b_row4_col13\" class=\"data row4 col13\" >74</td>\n",
              "      <td id=\"T_b511b_row4_col14\" class=\"data row4 col14\" >0</td>\n",
              "    </tr>\n",
              "    <tr>\n",
              "      <th id=\"T_b511b_level0_row5\" class=\"row_heading level0 row5\" >5</th>\n",
              "      <td id=\"T_b511b_row5_col0\" class=\"data row5 col0\" >0</td>\n",
              "      <td id=\"T_b511b_row5_col1\" class=\"data row5 col1\" >0</td>\n",
              "      <td id=\"T_b511b_row5_col2\" class=\"data row5 col2\" >0</td>\n",
              "      <td id=\"T_b511b_row5_col3\" class=\"data row5 col3\" >0</td>\n",
              "      <td id=\"T_b511b_row5_col4\" class=\"data row5 col4\" >0</td>\n",
              "      <td id=\"T_b511b_row5_col5\" class=\"data row5 col5\" >0</td>\n",
              "      <td id=\"T_b511b_row5_col6\" class=\"data row5 col6\" >0</td>\n",
              "      <td id=\"T_b511b_row5_col7\" class=\"data row5 col7\" >0</td>\n",
              "      <td id=\"T_b511b_row5_col8\" class=\"data row5 col8\" >0</td>\n",
              "      <td id=\"T_b511b_row5_col9\" class=\"data row5 col9\" >249</td>\n",
              "      <td id=\"T_b511b_row5_col10\" class=\"data row5 col10\" >253</td>\n",
              "      <td id=\"T_b511b_row5_col11\" class=\"data row5 col11\" >245</td>\n",
              "      <td id=\"T_b511b_row5_col12\" class=\"data row5 col12\" >126</td>\n",
              "      <td id=\"T_b511b_row5_col13\" class=\"data row5 col13\" >0</td>\n",
              "      <td id=\"T_b511b_row5_col14\" class=\"data row5 col14\" >0</td>\n",
              "    </tr>\n",
              "    <tr>\n",
              "      <th id=\"T_b511b_level0_row6\" class=\"row_heading level0 row6\" >6</th>\n",
              "      <td id=\"T_b511b_row6_col0\" class=\"data row6 col0\" >0</td>\n",
              "      <td id=\"T_b511b_row6_col1\" class=\"data row6 col1\" >0</td>\n",
              "      <td id=\"T_b511b_row6_col2\" class=\"data row6 col2\" >0</td>\n",
              "      <td id=\"T_b511b_row6_col3\" class=\"data row6 col3\" >0</td>\n",
              "      <td id=\"T_b511b_row6_col4\" class=\"data row6 col4\" >0</td>\n",
              "      <td id=\"T_b511b_row6_col5\" class=\"data row6 col5\" >0</td>\n",
              "      <td id=\"T_b511b_row6_col6\" class=\"data row6 col6\" >14</td>\n",
              "      <td id=\"T_b511b_row6_col7\" class=\"data row6 col7\" >101</td>\n",
              "      <td id=\"T_b511b_row6_col8\" class=\"data row6 col8\" >223</td>\n",
              "      <td id=\"T_b511b_row6_col9\" class=\"data row6 col9\" >253</td>\n",
              "      <td id=\"T_b511b_row6_col10\" class=\"data row6 col10\" >248</td>\n",
              "      <td id=\"T_b511b_row6_col11\" class=\"data row6 col11\" >124</td>\n",
              "      <td id=\"T_b511b_row6_col12\" class=\"data row6 col12\" >0</td>\n",
              "      <td id=\"T_b511b_row6_col13\" class=\"data row6 col13\" >0</td>\n",
              "      <td id=\"T_b511b_row6_col14\" class=\"data row6 col14\" >0</td>\n",
              "    </tr>\n",
              "    <tr>\n",
              "      <th id=\"T_b511b_level0_row7\" class=\"row_heading level0 row7\" >7</th>\n",
              "      <td id=\"T_b511b_row7_col0\" class=\"data row7 col0\" >0</td>\n",
              "      <td id=\"T_b511b_row7_col1\" class=\"data row7 col1\" >0</td>\n",
              "      <td id=\"T_b511b_row7_col2\" class=\"data row7 col2\" >0</td>\n",
              "      <td id=\"T_b511b_row7_col3\" class=\"data row7 col3\" >0</td>\n",
              "      <td id=\"T_b511b_row7_col4\" class=\"data row7 col4\" >11</td>\n",
              "      <td id=\"T_b511b_row7_col5\" class=\"data row7 col5\" >166</td>\n",
              "      <td id=\"T_b511b_row7_col6\" class=\"data row7 col6\" >239</td>\n",
              "      <td id=\"T_b511b_row7_col7\" class=\"data row7 col7\" >253</td>\n",
              "      <td id=\"T_b511b_row7_col8\" class=\"data row7 col8\" >253</td>\n",
              "      <td id=\"T_b511b_row7_col9\" class=\"data row7 col9\" >253</td>\n",
              "      <td id=\"T_b511b_row7_col10\" class=\"data row7 col10\" >187</td>\n",
              "      <td id=\"T_b511b_row7_col11\" class=\"data row7 col11\" >30</td>\n",
              "      <td id=\"T_b511b_row7_col12\" class=\"data row7 col12\" >0</td>\n",
              "      <td id=\"T_b511b_row7_col13\" class=\"data row7 col13\" >0</td>\n",
              "      <td id=\"T_b511b_row7_col14\" class=\"data row7 col14\" >0</td>\n",
              "    </tr>\n",
              "    <tr>\n",
              "      <th id=\"T_b511b_level0_row8\" class=\"row_heading level0 row8\" >8</th>\n",
              "      <td id=\"T_b511b_row8_col0\" class=\"data row8 col0\" >0</td>\n",
              "      <td id=\"T_b511b_row8_col1\" class=\"data row8 col1\" >0</td>\n",
              "      <td id=\"T_b511b_row8_col2\" class=\"data row8 col2\" >0</td>\n",
              "      <td id=\"T_b511b_row8_col3\" class=\"data row8 col3\" >0</td>\n",
              "      <td id=\"T_b511b_row8_col4\" class=\"data row8 col4\" >16</td>\n",
              "      <td id=\"T_b511b_row8_col5\" class=\"data row8 col5\" >248</td>\n",
              "      <td id=\"T_b511b_row8_col6\" class=\"data row8 col6\" >250</td>\n",
              "      <td id=\"T_b511b_row8_col7\" class=\"data row8 col7\" >253</td>\n",
              "      <td id=\"T_b511b_row8_col8\" class=\"data row8 col8\" >253</td>\n",
              "      <td id=\"T_b511b_row8_col9\" class=\"data row8 col9\" >253</td>\n",
              "      <td id=\"T_b511b_row8_col10\" class=\"data row8 col10\" >253</td>\n",
              "      <td id=\"T_b511b_row8_col11\" class=\"data row8 col11\" >232</td>\n",
              "      <td id=\"T_b511b_row8_col12\" class=\"data row8 col12\" >213</td>\n",
              "      <td id=\"T_b511b_row8_col13\" class=\"data row8 col13\" >111</td>\n",
              "      <td id=\"T_b511b_row8_col14\" class=\"data row8 col14\" >2</td>\n",
              "    </tr>\n",
              "    <tr>\n",
              "      <th id=\"T_b511b_level0_row9\" class=\"row_heading level0 row9\" >9</th>\n",
              "      <td id=\"T_b511b_row9_col0\" class=\"data row9 col0\" >0</td>\n",
              "      <td id=\"T_b511b_row9_col1\" class=\"data row9 col1\" >0</td>\n",
              "      <td id=\"T_b511b_row9_col2\" class=\"data row9 col2\" >0</td>\n",
              "      <td id=\"T_b511b_row9_col3\" class=\"data row9 col3\" >0</td>\n",
              "      <td id=\"T_b511b_row9_col4\" class=\"data row9 col4\" >0</td>\n",
              "      <td id=\"T_b511b_row9_col5\" class=\"data row9 col5\" >0</td>\n",
              "      <td id=\"T_b511b_row9_col6\" class=\"data row9 col6\" >43</td>\n",
              "      <td id=\"T_b511b_row9_col7\" class=\"data row9 col7\" >98</td>\n",
              "      <td id=\"T_b511b_row9_col8\" class=\"data row9 col8\" >98</td>\n",
              "      <td id=\"T_b511b_row9_col9\" class=\"data row9 col9\" >208</td>\n",
              "      <td id=\"T_b511b_row9_col10\" class=\"data row9 col10\" >253</td>\n",
              "      <td id=\"T_b511b_row9_col11\" class=\"data row9 col11\" >253</td>\n",
              "      <td id=\"T_b511b_row9_col12\" class=\"data row9 col12\" >253</td>\n",
              "      <td id=\"T_b511b_row9_col13\" class=\"data row9 col13\" >253</td>\n",
              "      <td id=\"T_b511b_row9_col14\" class=\"data row9 col14\" >187</td>\n",
              "    </tr>\n",
              "    <tr>\n",
              "      <th id=\"T_b511b_level0_row10\" class=\"row_heading level0 row10\" >10</th>\n",
              "      <td id=\"T_b511b_row10_col0\" class=\"data row10 col0\" >0</td>\n",
              "      <td id=\"T_b511b_row10_col1\" class=\"data row10 col1\" >0</td>\n",
              "      <td id=\"T_b511b_row10_col2\" class=\"data row10 col2\" >0</td>\n",
              "      <td id=\"T_b511b_row10_col3\" class=\"data row10 col3\" >0</td>\n",
              "      <td id=\"T_b511b_row10_col4\" class=\"data row10 col4\" >0</td>\n",
              "      <td id=\"T_b511b_row10_col5\" class=\"data row10 col5\" >0</td>\n",
              "      <td id=\"T_b511b_row10_col6\" class=\"data row10 col6\" >0</td>\n",
              "      <td id=\"T_b511b_row10_col7\" class=\"data row10 col7\" >0</td>\n",
              "      <td id=\"T_b511b_row10_col8\" class=\"data row10 col8\" >0</td>\n",
              "      <td id=\"T_b511b_row10_col9\" class=\"data row10 col9\" >9</td>\n",
              "      <td id=\"T_b511b_row10_col10\" class=\"data row10 col10\" >51</td>\n",
              "      <td id=\"T_b511b_row10_col11\" class=\"data row10 col11\" >119</td>\n",
              "      <td id=\"T_b511b_row10_col12\" class=\"data row10 col12\" >253</td>\n",
              "      <td id=\"T_b511b_row10_col13\" class=\"data row10 col13\" >253</td>\n",
              "      <td id=\"T_b511b_row10_col14\" class=\"data row10 col14\" >253</td>\n",
              "    </tr>\n",
              "    <tr>\n",
              "      <th id=\"T_b511b_level0_row11\" class=\"row_heading level0 row11\" >11</th>\n",
              "      <td id=\"T_b511b_row11_col0\" class=\"data row11 col0\" >0</td>\n",
              "      <td id=\"T_b511b_row11_col1\" class=\"data row11 col1\" >0</td>\n",
              "      <td id=\"T_b511b_row11_col2\" class=\"data row11 col2\" >0</td>\n",
              "      <td id=\"T_b511b_row11_col3\" class=\"data row11 col3\" >0</td>\n",
              "      <td id=\"T_b511b_row11_col4\" class=\"data row11 col4\" >0</td>\n",
              "      <td id=\"T_b511b_row11_col5\" class=\"data row11 col5\" >0</td>\n",
              "      <td id=\"T_b511b_row11_col6\" class=\"data row11 col6\" >0</td>\n",
              "      <td id=\"T_b511b_row11_col7\" class=\"data row11 col7\" >0</td>\n",
              "      <td id=\"T_b511b_row11_col8\" class=\"data row11 col8\" >0</td>\n",
              "      <td id=\"T_b511b_row11_col9\" class=\"data row11 col9\" >0</td>\n",
              "      <td id=\"T_b511b_row11_col10\" class=\"data row11 col10\" >0</td>\n",
              "      <td id=\"T_b511b_row11_col11\" class=\"data row11 col11\" >1</td>\n",
              "      <td id=\"T_b511b_row11_col12\" class=\"data row11 col12\" >183</td>\n",
              "      <td id=\"T_b511b_row11_col13\" class=\"data row11 col13\" >253</td>\n",
              "      <td id=\"T_b511b_row11_col14\" class=\"data row11 col14\" >253</td>\n",
              "    </tr>\n",
              "    <tr>\n",
              "      <th id=\"T_b511b_level0_row12\" class=\"row_heading level0 row12\" >12</th>\n",
              "      <td id=\"T_b511b_row12_col0\" class=\"data row12 col0\" >0</td>\n",
              "      <td id=\"T_b511b_row12_col1\" class=\"data row12 col1\" >0</td>\n",
              "      <td id=\"T_b511b_row12_col2\" class=\"data row12 col2\" >0</td>\n",
              "      <td id=\"T_b511b_row12_col3\" class=\"data row12 col3\" >0</td>\n",
              "      <td id=\"T_b511b_row12_col4\" class=\"data row12 col4\" >0</td>\n",
              "      <td id=\"T_b511b_row12_col5\" class=\"data row12 col5\" >0</td>\n",
              "      <td id=\"T_b511b_row12_col6\" class=\"data row12 col6\" >0</td>\n",
              "      <td id=\"T_b511b_row12_col7\" class=\"data row12 col7\" >0</td>\n",
              "      <td id=\"T_b511b_row12_col8\" class=\"data row12 col8\" >0</td>\n",
              "      <td id=\"T_b511b_row12_col9\" class=\"data row12 col9\" >0</td>\n",
              "      <td id=\"T_b511b_row12_col10\" class=\"data row12 col10\" >0</td>\n",
              "      <td id=\"T_b511b_row12_col11\" class=\"data row12 col11\" >0</td>\n",
              "      <td id=\"T_b511b_row12_col12\" class=\"data row12 col12\" >182</td>\n",
              "      <td id=\"T_b511b_row12_col13\" class=\"data row12 col13\" >253</td>\n",
              "      <td id=\"T_b511b_row12_col14\" class=\"data row12 col14\" >253</td>\n",
              "    </tr>\n",
              "    <tr>\n",
              "      <th id=\"T_b511b_level0_row13\" class=\"row_heading level0 row13\" >13</th>\n",
              "      <td id=\"T_b511b_row13_col0\" class=\"data row13 col0\" >0</td>\n",
              "      <td id=\"T_b511b_row13_col1\" class=\"data row13 col1\" >0</td>\n",
              "      <td id=\"T_b511b_row13_col2\" class=\"data row13 col2\" >0</td>\n",
              "      <td id=\"T_b511b_row13_col3\" class=\"data row13 col3\" >0</td>\n",
              "      <td id=\"T_b511b_row13_col4\" class=\"data row13 col4\" >0</td>\n",
              "      <td id=\"T_b511b_row13_col5\" class=\"data row13 col5\" >0</td>\n",
              "      <td id=\"T_b511b_row13_col6\" class=\"data row13 col6\" >0</td>\n",
              "      <td id=\"T_b511b_row13_col7\" class=\"data row13 col7\" >0</td>\n",
              "      <td id=\"T_b511b_row13_col8\" class=\"data row13 col8\" >0</td>\n",
              "      <td id=\"T_b511b_row13_col9\" class=\"data row13 col9\" >0</td>\n",
              "      <td id=\"T_b511b_row13_col10\" class=\"data row13 col10\" >0</td>\n",
              "      <td id=\"T_b511b_row13_col11\" class=\"data row13 col11\" >85</td>\n",
              "      <td id=\"T_b511b_row13_col12\" class=\"data row13 col12\" >249</td>\n",
              "      <td id=\"T_b511b_row13_col13\" class=\"data row13 col13\" >253</td>\n",
              "      <td id=\"T_b511b_row13_col14\" class=\"data row13 col14\" >253</td>\n",
              "    </tr>\n",
              "    <tr>\n",
              "      <th id=\"T_b511b_level0_row14\" class=\"row_heading level0 row14\" >14</th>\n",
              "      <td id=\"T_b511b_row14_col0\" class=\"data row14 col0\" >0</td>\n",
              "      <td id=\"T_b511b_row14_col1\" class=\"data row14 col1\" >0</td>\n",
              "      <td id=\"T_b511b_row14_col2\" class=\"data row14 col2\" >0</td>\n",
              "      <td id=\"T_b511b_row14_col3\" class=\"data row14 col3\" >0</td>\n",
              "      <td id=\"T_b511b_row14_col4\" class=\"data row14 col4\" >0</td>\n",
              "      <td id=\"T_b511b_row14_col5\" class=\"data row14 col5\" >0</td>\n",
              "      <td id=\"T_b511b_row14_col6\" class=\"data row14 col6\" >0</td>\n",
              "      <td id=\"T_b511b_row14_col7\" class=\"data row14 col7\" >0</td>\n",
              "      <td id=\"T_b511b_row14_col8\" class=\"data row14 col8\" >0</td>\n",
              "      <td id=\"T_b511b_row14_col9\" class=\"data row14 col9\" >0</td>\n",
              "      <td id=\"T_b511b_row14_col10\" class=\"data row14 col10\" >60</td>\n",
              "      <td id=\"T_b511b_row14_col11\" class=\"data row14 col11\" >214</td>\n",
              "      <td id=\"T_b511b_row14_col12\" class=\"data row14 col12\" >253</td>\n",
              "      <td id=\"T_b511b_row14_col13\" class=\"data row14 col13\" >253</td>\n",
              "      <td id=\"T_b511b_row14_col14\" class=\"data row14 col14\" >173</td>\n",
              "    </tr>\n",
              "  </tbody>\n",
              "</table>\n"
            ]
          },
          "metadata": {},
          "execution_count": 10
        }
      ]
    },
    {
      "cell_type": "markdown",
      "source": [
        "*   the number 0 : white\n",
        "*   the number 255 : black\n",
        "*   0 ~ 255 : grey shades\n",
        "\n",
        "\n",
        "**Our goal: create a model that can recognize 3s and 7s.** How can you do it?\n",
        "\n",
        "\n"
      ],
      "metadata": {
        "id": "-zIYObbHnoyg"
      }
    },
    {
      "cell_type": "markdown",
      "source": [
        "## 2.   First Try: Pixel Simialarity\n",
        "\n",
        "1.   find the average pixel value for every pixel of the 3s.\n",
        "2.   do the same for the 7s.\n",
        "2.   see of which these two ideal digits the image is most similar to.\n",
        "\n"
      ],
      "metadata": {
        "id": "SGABGrwpowyY"
      }
    },
    {
      "cell_type": "code",
      "source": [
        "# we already have a variable of L object, a list of paths of the image 3s\n",
        "threes"
      ],
      "metadata": {
        "colab": {
          "base_uri": "https://localhost:8080/"
        },
        "id": "dtPS_iuUqzY5",
        "outputId": "a2c8b29c-7814-4efd-954a-cb2eb3071f6a"
      },
      "execution_count": 11,
      "outputs": [
        {
          "output_type": "execute_result",
          "data": {
            "text/plain": [
              "(#6131) [Path('/root/.fastai/data/mnist_sample/train/3/10.png'),Path('/root/.fastai/data/mnist_sample/train/3/10000.png'),Path('/root/.fastai/data/mnist_sample/train/3/10011.png'),Path('/root/.fastai/data/mnist_sample/train/3/10031.png'),Path('/root/.fastai/data/mnist_sample/train/3/10034.png'),Path('/root/.fastai/data/mnist_sample/train/3/10042.png'),Path('/root/.fastai/data/mnist_sample/train/3/10052.png'),Path('/root/.fastai/data/mnist_sample/train/3/1007.png'),Path('/root/.fastai/data/mnist_sample/train/3/10074.png'),Path('/root/.fastai/data/mnist_sample/train/3/10091.png')...]"
            ]
          },
          "metadata": {},
          "execution_count": 11
        }
      ]
    },
    {
      "cell_type": "code",
      "source": [
        "# create a tensor containing all of our 3s stacked together\n",
        "# using Python List Comprehension\n",
        "three_tensors = [tensor(Image.open(o)) for o in threes]"
      ],
      "metadata": {
        "id": "D75rNW0BnaIB"
      },
      "execution_count": 12,
      "outputs": []
    },
    {
      "cell_type": "markdown",
      "source": [
        "Reminder : How to Convert an Image file to a Tensor\n",
        "\n",
        "1. read the image file with Image.open.\n",
        "2. convert it to a tensor.\n",
        "\n",
        "\n",
        "> tensor(Image.open(image file path))\n",
        "\n"
      ],
      "metadata": {
        "id": "omUi3hHerY7S"
      }
    },
    {
      "cell_type": "code",
      "source": [
        "# do the same for 7s\n",
        "seven_tensors = [tensor(Image.open(o)) for o in sevens]"
      ],
      "metadata": {
        "id": "l_snVMykr1TC"
      },
      "execution_count": 13,
      "outputs": []
    },
    {
      "cell_type": "code",
      "source": [
        "# check the length of list\n",
        "len(three_tensors), len(seven_tensors)"
      ],
      "metadata": {
        "colab": {
          "base_uri": "https://localhost:8080/"
        },
        "id": "KNVAK0C8r9fu",
        "outputId": "aaae258c-e926-4b52-8259-6b6c2395aca2"
      },
      "execution_count": 14,
      "outputs": [
        {
          "output_type": "execute_result",
          "data": {
            "text/plain": [
              "(6131, 6265)"
            ]
          },
          "metadata": {},
          "execution_count": 14
        }
      ]
    },
    {
      "cell_type": "code",
      "source": [
        "# display a tensor as a image using fastai's show_image function\n",
        "show_image(seven_tensors[10])"
      ],
      "metadata": {
        "colab": {
          "base_uri": "https://localhost:8080/",
          "height": 103
        },
        "id": "IB-WdWtksba5",
        "outputId": "feb8c3df-00d9-4adf-ece4-6060fbc1d8c6"
      },
      "execution_count": 15,
      "outputs": [
        {
          "output_type": "execute_result",
          "data": {
            "text/plain": [
              "<matplotlib.axes._subplots.AxesSubplot at 0x7f0c5be1bb20>"
            ]
          },
          "metadata": {},
          "execution_count": 15
        },
        {
          "output_type": "display_data",
          "data": {
            "text/plain": [
              "<Figure size 72x72 with 1 Axes>"
            ],
            "image/png": "[encoded data removed]"
          },
          "metadata": {
            "needs_background": "light"
          }
        }
      ]
    },
    {
      "cell_type": "code",
      "source": [
        "# compute the average over all the images of the intensity of that pixel\n",
        "\n",
        "# combine all the images in the list into a single 3-dimensional tensor (rank-3 tensor)\n",
        "torch.stack(three_tensors).shape"
      ],
      "metadata": {
        "colab": {
          "base_uri": "https://localhost:8080/"
        },
        "id": "3cOhYN3Rs3h0",
        "outputId": "b81282a4-f756-4f50-ab8e-bdefdab74793"
      },
      "execution_count": 16,
      "outputs": [
        {
          "output_type": "execute_result",
          "data": {
            "text/plain": [
              "torch.Size([6131, 28, 28])"
            ]
          },
          "metadata": {},
          "execution_count": 16
        }
      ]
    },
    {
      "cell_type": "markdown",
      "source": [
        "shape attribute tells you the length of each axis.\n",
        "\n",
        "The semantics of a tensor are up to us. As far as PyTorch is concerned, it is just a bunch of numbers in memory."
      ],
      "metadata": {
        "id": "QjTXs6Ej8H6y"
      }
    },
    {
      "cell_type": "code",
      "source": [
        "# rank: length of a tensor's shape\n",
        "len(torch.stack(three_tensors).shape)"
      ],
      "metadata": {
        "colab": {
          "base_uri": "https://localhost:8080/"
        },
        "id": "80Ablgxr9BXI",
        "outputId": "283951c8-88d5-4968-b84a-a187b3dbb2a7"
      },
      "execution_count": 17,
      "outputs": [
        {
          "output_type": "execute_result",
          "data": {
            "text/plain": [
              "3"
            ]
          },
          "metadata": {},
          "execution_count": 17
        }
      ]
    },
    {
      "cell_type": "markdown",
      "source": [
        "**rank** : the number of axes or dimensions in a tensor\n",
        "\n",
        "**shape** : the size(length) of each axis of a tensor\n",
        "\n",
        "![torch.stack](https://i.stack.imgur.com/QIHTt.png)"
      ],
      "metadata": {
        "id": "DfU1Afzy9phv"
      }
    },
    {
      "cell_type": "code",
      "source": [
        "# usually when images are floats, the pixel values are expected to be between 0 and 1\n",
        "# therefore, let's make them as float and divide them by 255\n",
        "stacked_threes = torch.stack(three_tensors).float() / 255\n",
        "stacked_sevens = torch.stack(seven_tensors).float() / 255"
      ],
      "metadata": {
        "id": "E1ZIL8mV7kYM"
      },
      "execution_count": 18,
      "outputs": []
    },
    {
      "cell_type": "code",
      "source": [
        "# see the cases when stacking along different dimensions (default dim = 0)\n",
        "torch.stack(three_tensors, 1).shape, torch.stack(three_tensors, 2).shape"
      ],
      "metadata": {
        "colab": {
          "base_uri": "https://localhost:8080/"
        },
        "id": "tT0plRSdoAcw",
        "outputId": "b724c5de-17d6-4a0d-d0a2-12a36ab6e337"
      },
      "execution_count": 82,
      "outputs": [
        {
          "output_type": "execute_result",
          "data": {
            "text/plain": [
              "(torch.Size([28, 6131, 28]), torch.Size([28, 28, 6131]))"
            ]
          },
          "metadata": {},
          "execution_count": 82
        }
      ]
    },
    {
      "cell_type": "code",
      "source": [
        "# display a tensor as a image\n",
        "show_image(seven_tensors[10])"
      ],
      "metadata": {
        "id": "kHIdINAW79Pi",
        "colab": {
          "base_uri": "https://localhost:8080/",
          "height": 103
        },
        "outputId": "ae6d0791-86a9-42eb-9917-d0d781eab6ce"
      },
      "execution_count": 19,
      "outputs": [
        {
          "output_type": "execute_result",
          "data": {
            "text/plain": [
              "<matplotlib.axes._subplots.AxesSubplot at 0x7f0c5b5e9100>"
            ]
          },
          "metadata": {},
          "execution_count": 19
        },
        {
          "output_type": "display_data",
          "data": {
            "text/plain": [
              "<Figure size 72x72 with 1 Axes>"
            ],
            "image/png": "[encoded data removed]"
          },
          "metadata": {
            "needs_background": "light"
          }
        }
      ]
    },
    {
      "cell_type": "code",
      "source": [
        "# another way to check a tensor's rank\n",
        "stacked_threes.ndim"
      ],
      "metadata": {
        "colab": {
          "base_uri": "https://localhost:8080/"
        },
        "id": "6l9QEgxcNO0J",
        "outputId": "be1988d5-aded-45ed-cf74-42319a4769eb"
      },
      "execution_count": 20,
      "outputs": [
        {
          "output_type": "execute_result",
          "data": {
            "text/plain": [
              "3"
            ]
          },
          "metadata": {},
          "execution_count": 20
        }
      ]
    },
    {
      "cell_type": "markdown",
      "source": [
        "torch.stack function's default dim is 0. \n",
        "\n",
        "Regarding how it stacks tensors, please refer to the following stackoverflow page.\n",
        "\n",
        "https://stackoverflow.com/questions/69220221/use-of-torch-stack"
      ],
      "metadata": {
        "id": "OwAKpIhtQKI-"
      }
    },
    {
      "cell_type": "code",
      "source": [
        "# calculate the mean of all the image tensors by taking the mean along dimension 0 of the stacked, rank-3 tensor\n",
        "mean3 = stacked_threes.mean(0)\n",
        "mean3.shape"
      ],
      "metadata": {
        "colab": {
          "base_uri": "https://localhost:8080/"
        },
        "id": "AhlmrAY5PJPd",
        "outputId": "946ee502-8d37-41e6-f2ea-46ab86b7c1bc"
      },
      "execution_count": 21,
      "outputs": [
        {
          "output_type": "execute_result",
          "data": {
            "text/plain": [
              "torch.Size([28, 28])"
            ]
          },
          "metadata": {},
          "execution_count": 21
        }
      ]
    },
    {
      "cell_type": "code",
      "source": [
        "# according to this dataset, this is the ideal number 3\n",
        "show_image(mean3)"
      ],
      "metadata": {
        "colab": {
          "base_uri": "https://localhost:8080/",
          "height": 103
        },
        "id": "krcVDK4FRQwU",
        "outputId": "365e2f1b-e461-42b8-f8eb-55f2425ca89f"
      },
      "execution_count": 22,
      "outputs": [
        {
          "output_type": "execute_result",
          "data": {
            "text/plain": [
              "<matplotlib.axes._subplots.AxesSubplot at 0x7f0c5b160520>"
            ]
          },
          "metadata": {},
          "execution_count": 22
        },
        {
          "output_type": "display_data",
          "data": {
            "text/plain": [
              "<Figure size 72x72 with 1 Axes>"
            ],
            "image/png": "[encoded data removed]"
          },
          "metadata": {
            "needs_background": "light"
          }
        }
      ]
    },
    {
      "cell_type": "code",
      "source": [
        "# do the same for 7s\n",
        "mean7 = stacked_sevens.mean(0)\n",
        "show_image(mean7)"
      ],
      "metadata": {
        "colab": {
          "base_uri": "https://localhost:8080/",
          "height": 103
        },
        "id": "gxdUdn3RRZ9F",
        "outputId": "33ca2742-f42d-4d9a-b2f9-8851956c0d56"
      },
      "execution_count": 23,
      "outputs": [
        {
          "output_type": "execute_result",
          "data": {
            "text/plain": [
              "<matplotlib.axes._subplots.AxesSubplot at 0x7f0c5c2ec6d0>"
            ]
          },
          "metadata": {},
          "execution_count": 23
        },
        {
          "output_type": "display_data",
          "data": {
            "text/plain": [
              "<Figure size 72x72 with 1 Axes>"
            ],
            "image/png": "[encoded data removed]"
          },
          "metadata": {
            "needs_background": "light"
          }
        }
      ]
    },
    {
      "cell_type": "code",
      "source": [
        "# let's pick an arbitrary 3 and measure its distance from our \"ideal digits\" (mean3 and mean7)\n",
        "random3 = stacked_threes[12]\n",
        "show_image(random3)"
      ],
      "metadata": {
        "colab": {
          "base_uri": "https://localhost:8080/",
          "height": 103
        },
        "id": "2CZ80R2DSBxL",
        "outputId": "5ee89c98-57c9-45b6-bf53-1c6ef50b0531"
      },
      "execution_count": 24,
      "outputs": [
        {
          "output_type": "execute_result",
          "data": {
            "text/plain": [
              "<matplotlib.axes._subplots.AxesSubplot at 0x7f0c5b0e93a0>"
            ]
          },
          "metadata": {},
          "execution_count": 24
        },
        {
          "output_type": "display_data",
          "data": {
            "text/plain": [
              "<Figure size 72x72 with 1 Axes>"
            ],
            "image/png": "[encoded data removed]"
          },
          "metadata": {
            "needs_background": "light"
          }
        }
      ]
    },
    {
      "cell_type": "markdown",
      "source": [
        "**How can we determine its distance from our ideal 3?**\n",
        "\n",
        "We can't just add up the differences between the pixels of this images and the ideal digit because some differences will be positive, while others will be negative, and these differences will cancel out. \n",
        "\n",
        "**Two Main Ways**\n",
        "\n",
        "*   Mean Absolute Difference (or L1 norm)\n",
        "*   Root Mean Squared Error (or L2 norm)"
      ],
      "metadata": {
        "id": "ASHcC0LpTc9u"
      }
    },
    {
      "cell_type": "code",
      "source": [
        "# take the mean of  the absolute value of differences\n",
        "L1_norm = (random3 - mean3).abs().mean()\n",
        "\n",
        "# tkae the mean of the square of differences\n",
        "# and then take the square root (which undoes the squaring)\n",
        "L2_norm = ((random3 - mean3)**2).mean().sqrt()\n",
        "L1_norm, L2_norm"
      ],
      "metadata": {
        "colab": {
          "base_uri": "https://localhost:8080/"
        },
        "id": "LfHovBlcSqjf",
        "outputId": "d57663e2-25ee-46cf-a191-a9991d8ddcbb"
      },
      "execution_count": 25,
      "outputs": [
        {
          "output_type": "execute_result",
          "data": {
            "text/plain": [
              "(tensor(0.1286), tensor(0.2366))"
            ]
          },
          "metadata": {},
          "execution_count": 25
        }
      ]
    },
    {
      "cell_type": "code",
      "source": [
        "# let's see random3's distance from the ideal 7 tensor\n",
        "L1_norm_cf = (random3 - mean7).abs().mean()\n",
        "L2_norm_cf = ((random3 - mean7)**2).mean().sqrt()\n",
        "L1_norm_cf, L2_norm_cf"
      ],
      "metadata": {
        "colab": {
          "base_uri": "https://localhost:8080/"
        },
        "id": "u3DKWA7fVVS1",
        "outputId": "8407a112-df05-4f8d-f6cb-8ca29509576e"
      },
      "execution_count": 26,
      "outputs": [
        {
          "output_type": "execute_result",
          "data": {
            "text/plain": [
              "(tensor(0.1534), tensor(0.2920))"
            ]
          },
          "metadata": {},
          "execution_count": 26
        }
      ]
    },
    {
      "cell_type": "markdown",
      "source": [
        "In both cases, the distance between our 3 and the ideal 3 is less than the distance to the ideal 7, so our simple model will give the right prediction in this case.\n",
        "\n",
        "**PyTorch's loss functions**\n",
        "PyTorch already provides both of these as loss functions\n",
        "\n",
        "\n",
        "```\n",
        "import torch.nn.functional as F # is available by default under that name in fastai\n",
        "F.l1_loss(random3.float(), mean7)\n",
        "F.mse_loss(random3, mean7).sqrt()\n",
        "```"
      ],
      "metadata": {
        "id": "tqDviHLxaQ4c"
      }
    },
    {
      "cell_type": "code",
      "source": [
        "# we don't have to import Pytorch loss function\n",
        "# as it is available by default under F in fastai\n",
        "\n",
        "F.l1_loss(random3.float(), mean7), F.mse_loss(random3, mean7).sqrt()"
      ],
      "metadata": {
        "colab": {
          "base_uri": "https://localhost:8080/"
        },
        "id": "Z7NrMqUPZ--g",
        "outputId": "f7d82896-f492-452a-911c-b02d84260e86"
      },
      "execution_count": 27,
      "outputs": [
        {
          "output_type": "execute_result",
          "data": {
            "text/plain": [
              "(tensor(0.1534), tensor(0.2920))"
            ]
          },
          "metadata": {},
          "execution_count": 27
        }
      ]
    },
    {
      "cell_type": "markdown",
      "source": [
        "**The Difference between L1 norm and Mean Squared Error (MSE)**\n",
        "\n",
        "MSE will penalize bigger mistakes more heavily and be more lenient with small mistakes than L1 norm."
      ],
      "metadata": {
        "id": "8I--Ca-Qewoq"
      }
    },
    {
      "cell_type": "markdown",
      "source": [
        "**NumPy Arrays VS PyTorch Tensors**\n",
        "\n",
        "NumPy provides similar functionality and similar API to that provided by Pytorch; \n",
        "\n",
        "however, it does **NOT** support using the **GPU** or **calculating gradients**, which are both critical for deep learning.\n",
        "\n",
        "<br>\n",
        "\n",
        "| Numpy array | PyTorch tensor\n",
        "|:----: | :----:  |\n",
        "|       | GPU     | \n",
        "| multidimensional table |  multidimensional table |\n",
        "|fast computation |  fast computation|\n",
        "| jagged array  | No jagged array |\n",
        "| any data type | basic numeric type |\n",
        "\n",
        "\n",
        "<br>\n",
        "\n",
        "**What is a jagged array?**\n",
        "It's called 'jagged array' or 'irregular array' when member arrays have different lengths as the illustration below.\n",
        "\n",
        "<img src=\"https://scaler.com/topics/images/what-is-a-jagged-array.webp\" width=400></img>\n",
        " \n"
      ],
      "metadata": {
        "id": "QzmTfr-Wfgg9"
      }
    },
    {
      "cell_type": "code",
      "source": [
        "# create an array or tensor\n",
        "# pass a list, or a list of lists, or list of lists of lists to array or tensor\n",
        "data = [[1,2,3],[4,5,6]]\n",
        "arr = np.array(data)\n",
        "tns = tensor(data)\n",
        "\n",
        "arr # numpy"
      ],
      "metadata": {
        "id": "QMtp2YE7fgIz",
        "colab": {
          "base_uri": "https://localhost:8080/"
        },
        "outputId": "1e571778-2e07-412b-e69f-dbb7276cf5fb"
      },
      "execution_count": 28,
      "outputs": [
        {
          "output_type": "execute_result",
          "data": {
            "text/plain": [
              "array([[1, 2, 3],\n",
              "       [4, 5, 6]])"
            ]
          },
          "metadata": {},
          "execution_count": 28
        }
      ]
    },
    {
      "cell_type": "code",
      "source": [
        "tns # pytorch"
      ],
      "metadata": {
        "id": "ASBjp4jybkux",
        "colab": {
          "base_uri": "https://localhost:8080/"
        },
        "outputId": "4ecf5e15-943c-4668-b00f-aea0546bc77e"
      },
      "execution_count": 29,
      "outputs": [
        {
          "output_type": "execute_result",
          "data": {
            "text/plain": [
              "tensor([[1, 2, 3],\n",
              "        [4, 5, 6]])"
            ]
          },
          "metadata": {},
          "execution_count": 29
        }
      ]
    },
    {
      "cell_type": "code",
      "source": [
        "# select a row\n",
        "tns[1]"
      ],
      "metadata": {
        "colab": {
          "base_uri": "https://localhost:8080/"
        },
        "id": "7QHOVvoheKJl",
        "outputId": "0c8e0922-a9f1-4abe-e35b-e9c3e230ddcf"
      },
      "execution_count": 30,
      "outputs": [
        {
          "output_type": "execute_result",
          "data": {
            "text/plain": [
              "tensor([4, 5, 6])"
            ]
          },
          "metadata": {},
          "execution_count": 30
        }
      ]
    },
    {
      "cell_type": "code",
      "source": [
        "# select a column\n",
        "tns[:, 1]"
      ],
      "metadata": {
        "colab": {
          "base_uri": "https://localhost:8080/"
        },
        "id": "p4xELuP9eUtR",
        "outputId": "d8f03055-9311-42ff-ca30-36bcfa9cc90d"
      },
      "execution_count": 31,
      "outputs": [
        {
          "output_type": "execute_result",
          "data": {
            "text/plain": [
              "tensor([2, 5])"
            ]
          },
          "metadata": {},
          "execution_count": 31
        }
      ]
    },
    {
      "cell_type": "code",
      "source": [
        "# can use the standard operations such as +, -, *, /\n",
        "tns + 1"
      ],
      "metadata": {
        "colab": {
          "base_uri": "https://localhost:8080/"
        },
        "id": "-2XOX_j3eb-f",
        "outputId": "b3d33d95-3356-40e5-c4bb-140a2ed34ea0"
      },
      "execution_count": 32,
      "outputs": [
        {
          "output_type": "execute_result",
          "data": {
            "text/plain": [
              "tensor([[2, 3, 4],\n",
              "        [5, 6, 7]])"
            ]
          },
          "metadata": {},
          "execution_count": 32
        }
      ]
    },
    {
      "cell_type": "code",
      "source": [
        "# view tensor type\n",
        "tns.type()"
      ],
      "metadata": {
        "colab": {
          "base_uri": "https://localhost:8080/",
          "height": 35
        },
        "id": "erVkCDpaemlt",
        "outputId": "13d09a66-e2fd-49e9-d58f-a20310a9b251"
      },
      "execution_count": 33,
      "outputs": [
        {
          "output_type": "execute_result",
          "data": {
            "text/plain": [
              "'torch.LongTensor'"
            ],
            "application/vnd.google.colaboratory.intrinsic+json": {
              "type": "string"
            }
          },
          "metadata": {},
          "execution_count": 33
        }
      ]
    },
    {
      "cell_type": "code",
      "source": [
        "# automatically change the type as needed\n",
        "(tns * 1.5).type()"
      ],
      "metadata": {
        "colab": {
          "base_uri": "https://localhost:8080/",
          "height": 35
        },
        "id": "ePRZ8RB1enc7",
        "outputId": "de249021-1583-40fe-e9c6-360c4b8e7e42"
      },
      "execution_count": 34,
      "outputs": [
        {
          "output_type": "execute_result",
          "data": {
            "text/plain": [
              "'torch.FloatTensor'"
            ],
            "application/vnd.google.colaboratory.intrinsic+json": {
              "type": "string"
            }
          },
          "metadata": {},
          "execution_count": 34
        }
      ]
    },
    {
      "cell_type": "markdown",
      "source": [
        "## 3.   Computing Metrics Using Broadcasting\n",
        "\n",
        "We're going to calculate a *metric* to tell use how good our model is. \n",
        "<br>\n",
        "<br>\n",
        "Loss functions such as mean absolute error or mean squared errors are not understandable to most people; in practice, we normally use *accuracy* as the metrics for classification models.\n",
        "<br>\n",
        "<br>\n",
        "Let's calculate our metrics over a validation set."
      ],
      "metadata": {
        "id": "YapUSn9jfKl-"
      }
    },
    {
      "cell_type": "code",
      "source": [
        "# create tensors for 3s and 7s from validation set directory\n",
        "valid_3_tens = torch.stack([tensor(Image.open(o)) for o in (path/'valid'/'3').ls()])\n",
        "valid_7_tens = torch.stack([tensor(Image.open(o)) for o in (path/'valid'/'7').ls()])\n",
        "\n",
        "# convert pixel values as float and divide by 255 to make pixel values between 0 and 1 values\n",
        "valid_3_tens = valid_3_tens.float() / 255\n",
        "valid_7_tens = valid_7_tens.float() / 255\n"
      ],
      "metadata": {
        "id": "1BHhpNtSfKTx"
      },
      "execution_count": 35,
      "outputs": []
    },
    {
      "cell_type": "code",
      "source": [
        "# view the shape of tensors\n",
        "valid_3_tens.shape, valid_7_tens.shape"
      ],
      "metadata": {
        "colab": {
          "base_uri": "https://localhost:8080/"
        },
        "id": "N9rU9bFYez5i",
        "outputId": "10efed16-e340-415d-cf1a-fead03989ff1"
      },
      "execution_count": 36,
      "outputs": [
        {
          "output_type": "execute_result",
          "data": {
            "text/plain": [
              "(torch.Size([1010, 28, 28]), torch.Size([1028, 28, 28]))"
            ]
          },
          "metadata": {},
          "execution_count": 36
        }
      ]
    },
    {
      "cell_type": "code",
      "source": [
        "# define a function that computes the distance between two images\n",
        "def mnist_distance(a, b):\n",
        "  return (a-b).abs().mean((-1,-2)) \n",
        "  # mean(-1, -2) tells PyTorch that we want to take the mean\n",
        "  # ranging over the values indexed \n",
        "  # by the last two axes of the tensor."
      ],
      "metadata": {
        "id": "miPPatyUnY61"
      },
      "execution_count": 37,
      "outputs": []
    },
    {
      "cell_type": "markdown",
      "source": [
        "**Calculate the distance to the ideal 3 for every image in the validation set**\n",
        "<br>\n",
        "no need to loop over 1010 images because **PyTorch will use broadcasting** when it tries to perform a simple subtraction operation between two tensors of different ranks. \n",
        "\n",
        "<br>\n",
        "\n",
        "*   validation set (rank-3) :   [1010, 28, 28]\n",
        "*   mean 3 (rank-2) :   [28, 28]\n",
        "\n",
        "<br>\n",
        "PyTorch will automatically expand the tensor with the smaller rank to have the same size as the one with the larger rank.\n",
        "\n",
        "\n",
        "<br>\n",
        "<br>\n",
        "<img src = 'https://i.stack.imgur.com/kU0mv.png' width = 400></img>\n",
        "\n",
        "\n",
        "PyTorch treats mean3, a rank-2 tensor representing a single image, as if it were 1,010 copies of the same image, and then subtracts each of those copies from each validation set. \n",
        "\n",
        "<br>\n",
        "\n",
        "There are a couple of **important points** about how broadcasting is implemented, which makes it valuable not just for expressivity but also for performance:\n",
        "\n",
        "\n",
        "\n",
        "*   PyTorch doesn't actually copy mean3 1,010 times. It pretends it were a tensor of that shape, but doesn't allocate any additional memory.\n",
        "*   It does the whole calculation in C (or, if you'e using a GPU, in CUDA, the equivalent of C on the CPU), tens of thousands of times faster than pure Python (up to milions of times faster on a GPU).\n",
        "\n"
      ],
      "metadata": {
        "id": "83ZiikyQqMuo"
      }
    },
    {
      "cell_type": "code",
      "source": [
        "# calculate the distance between validation set images of 3 and ideal image of 3\n",
        "mnist_distance(valid_3_tens, mean3)"
      ],
      "metadata": {
        "colab": {
          "base_uri": "https://localhost:8080/"
        },
        "id": "hYNRdt-7pcHl",
        "outputId": "81c2ed13-0979-4eeb-a5b0-31f4ca6e2cb8"
      },
      "execution_count": 38,
      "outputs": [
        {
          "output_type": "execute_result",
          "data": {
            "text/plain": [
              "tensor([0.1473, 0.1324, 0.1352,  ..., 0.1217, 0.1493, 0.1179])"
            ]
          },
          "metadata": {},
          "execution_count": 38
        }
      ]
    },
    {
      "cell_type": "code",
      "source": [
        "# create a function, is_3\n",
        "def is_3(x):\n",
        "  # logic: if the distance between the digit in question and the ideal 3 \n",
        "  # is less than the distance to the ideal 7, then it's 3.\n",
        "  return mnist_distance(x, mean3) < mnist_distance(x, mean7)"
      ],
      "metadata": {
        "id": "klbMadC0UCMQ"
      },
      "execution_count": 39,
      "outputs": []
    },
    {
      "cell_type": "code",
      "source": [
        "# let's test it. \n",
        "is_3(random3), is_3(random3).float()"
      ],
      "metadata": {
        "colab": {
          "base_uri": "https://localhost:8080/"
        },
        "id": "WI3RyHJOUetF",
        "outputId": "2f11232f-807f-446c-de4a-755908863260"
      },
      "execution_count": 40,
      "outputs": [
        {
          "output_type": "execute_result",
          "data": {
            "text/plain": [
              "(tensor(True), tensor(1.))"
            ]
          },
          "metadata": {},
          "execution_count": 40
        }
      ]
    },
    {
      "cell_type": "code",
      "source": [
        "# thanks to broadcasting, we can test it on the full validation set of 3s\n",
        "is_3(valid_3_tens)"
      ],
      "metadata": {
        "colab": {
          "base_uri": "https://localhost:8080/"
        },
        "id": "8UvtZLpBUuCJ",
        "outputId": "80cc729a-2ab5-4168-abff-5fe496093990"
      },
      "execution_count": 41,
      "outputs": [
        {
          "output_type": "execute_result",
          "data": {
            "text/plain": [
              "tensor([True, True, True,  ..., True, True, True])"
            ]
          },
          "metadata": {},
          "execution_count": 41
        }
      ]
    },
    {
      "cell_type": "code",
      "source": [
        "is_3(valid_7_tens)"
      ],
      "metadata": {
        "colab": {
          "base_uri": "https://localhost:8080/"
        },
        "id": "d7eojrx4VLxN",
        "outputId": "1db03b0c-e843-43f7-e29b-2eeb04b9285d"
      },
      "execution_count": 42,
      "outputs": [
        {
          "output_type": "execute_result",
          "data": {
            "text/plain": [
              "tensor([False, False, False,  ..., False, False, False])"
            ]
          },
          "metadata": {},
          "execution_count": 42
        }
      ]
    },
    {
      "cell_type": "code",
      "source": [
        "# calculate the accuracy\n",
        "# by taking the average of that function for all 3s and its inverse for all 7s\n",
        "accuracy_3s = is_3(valid_3_tens).float().mean()\n",
        "accuracy_7s = 1 - is_3(valid_7_tens).float().mean()\n",
        "\n",
        "accuracy_3s, accuracy_7s"
      ],
      "metadata": {
        "colab": {
          "base_uri": "https://localhost:8080/"
        },
        "id": "m-NbkzyoVNZH",
        "outputId": "3f9fadce-4933-41f5-82bc-2c95ea20e965"
      },
      "execution_count": 43,
      "outputs": [
        {
          "output_type": "execute_result",
          "data": {
            "text/plain": [
              "(tensor(0.9168), tensor(0.9854))"
            ]
          },
          "metadata": {},
          "execution_count": 43
        }
      ]
    },
    {
      "cell_type": "markdown",
      "source": [
        "We're getting over 90% accuracy on both 3s and 7s.\n",
        "\n",
        "We're classifying only 2 out of the 10 possible digits so far. To do better, let's learn about one that can automatically modify itself to improve its performance, that is, **the training process and SGD**"
      ],
      "metadata": {
        "id": "XNp0rD1Bbzad"
      }
    },
    {
      "cell_type": "markdown",
      "source": [
        "## 4.   Stochastic Gradient Descent\n",
        "\n",
        "[Arthur Samuel](https://en.wikipedia.org/wiki/Arthur_Samuel_(computer_scientist) described machine learning as below.\n",
        "\n",
        "> Suppose we arrange for some automatic means of testing the effectiveness of any current weight assignment in terms of actual performance and provide a mechanism for altering the weight assignment so as to maximize the performance. We need not to go into the details of such a performance to see that it could be made entirely automatic and to see that a machine so programmed would \"learn\" from its experience.\n",
        "\n",
        "<br>\n",
        "\n",
        "**have a model that can get better and better - that can learn.**\n",
        "\n",
        "The problem with pixel similarity approach we practised earlier is that we can't improve it by modifying a set of parameters or weight. \n",
        "\n",
        "<br>\n",
        "\n",
        "**have a weight assignments or any way of improving based on testing the effectiveness of a weight assignment**\n",
        "\n",
        "We could look at each individual pixel and come up with a set of weights for each such that the highest weights are associated with those pixels are most likely to be black for a particular category.\n",
        "\n",
        "> the weight for pixel where the color is white < the weight for pixel where the color is black\n",
        "\n",
        "\n",
        "\n",
        "```\n",
        "# the probability of being the number 3\n",
        "def pr_three(x, w): return (x*w).sum()\n",
        "```\n",
        "\n",
        "We want to find the specific values for the vector *w* that causes the result of our fuction to be high for those images that are 3s and low for those images that are not.\n",
        "\n",
        "**search for the best vector w** by updating the weights to make them better\n",
        "\n",
        "<br>\n",
        "\n",
        "**7 steps to turn this function into a machine learning classifier**\n",
        "\n",
        "1. Initialize the weights\n",
        "2. Use these weights to predict\n",
        "3. Calculate its loss\n",
        "4. Caculate the gradient\n",
        "> Gradient measures for each weights how changing that weight would change the loss.\n",
        "> The magic of calculus allows us to directly figure out in **which direction** and **by roughly how much** to change each weight.\n",
        "5. Step (that is, change) all the weights based on the calculation\n",
        "6. Go back to step 2 and repeat the process\n",
        "7. Iterate untill you decide to stop the training process\n",
        "> We would keep training until the accuracy of the model started getting worse, or we ran out of time.\n"
      ],
      "metadata": {
        "id": "vFtmgWagdDq0"
      }
    },
    {
      "cell_type": "markdown",
      "source": [
        "**First, let's apply these steps to a simpler case than our image classification.**"
      ],
      "metadata": {
        "id": "9PcmR6k-EQZW"
      }
    },
    {
      "cell_type": "code",
      "source": [
        "# define a very simple function\n",
        "# the quadratic\n",
        "def f(x): return x**2"
      ],
      "metadata": {
        "id": "vA-8RF2g5Gjl"
      },
      "execution_count": 44,
      "outputs": []
    },
    {
      "cell_type": "code",
      "source": [
        "# define plot function\n",
        "def plot_function(f, tx=None, ty=None, title=None, min=-2, max=2, figsize=(6,4)):\n",
        "    x = torch.linspace(min,max, 100)\n",
        "    fig,ax = plt.subplots(figsize=figsize)\n",
        "    ax.plot(x,f(x))\n",
        "    if tx is not None: ax.set_xlabel(tx)\n",
        "    if ty is not None: ax.set_ylabel(ty)\n",
        "    if title is not None: ax.set_title(title)"
      ],
      "metadata": {
        "id": "TrXmhuqw6OYc"
      },
      "execution_count": 45,
      "outputs": []
    },
    {
      "cell_type": "code",
      "source": [
        "# display function using plot_function\n",
        "plot_function(f, tx= 'x', ty ='x**2')"
      ],
      "metadata": {
        "colab": {
          "base_uri": "https://localhost:8080/",
          "height": 279
        },
        "id": "FA048gtv5LLG",
        "outputId": "3b4a531d-08dc-4629-d0d5-8fc8cd813395"
      },
      "execution_count": 46,
      "outputs": [
        {
          "output_type": "display_data",
          "data": {
            "text/plain": [
              "<Figure size 432x288 with 1 Axes>"
            ],
            "image/png": "[encoded data removed]"
          },
          "metadata": {
            "needs_background": "light"
          }
        }
      ]
    },
    {
      "cell_type": "markdown",
      "source": [
        "Let's pretend that this is our loss function, and x is a weight parameter of the function."
      ],
      "metadata": {
        "id": "yJOD_QLNGOoj"
      }
    },
    {
      "cell_type": "code",
      "source": [
        "# pick a random value for a paramater\n",
        "# calculate the value of the loss\n",
        "plot_function(f, tx= 'parameter', ty= 'loss')\n",
        "plt.scatter(-1.5, f(-1.5), color = 'red')\n",
        "plt.show()"
      ],
      "metadata": {
        "colab": {
          "base_uri": "https://localhost:8080/",
          "height": 279
        },
        "id": "B_c0TSSnGWkv",
        "outputId": "e4760e5f-4ee1-47d9-d47e-31629f675057"
      },
      "execution_count": 47,
      "outputs": [
        {
          "output_type": "display_data",
          "data": {
            "text/plain": [
              "<Figure size 432x288 with 1 Axes>"
            ],
            "image/png": "[encoded data removed]"
          },
          "metadata": {
            "needs_background": "light"
          }
        }
      ]
    },
    {
      "cell_type": "markdown",
      "source": [
        "### Gradient Descent Process\n",
        "\n",
        "!['gradient descent'](https://static.javatpoint.com/tutorial/machine-learning/images/gradient-descent-in-machine-learning1.png)\n",
        "\n",
        "This basic idea goes all the way back to Isaac Newton, who pointed out that we can optimize arbitrary function in this way. \n",
        "\n",
        "Regardless of how complicated our functions become, this basic approach of gradient descnent will not significantly change."
      ],
      "metadata": {
        "id": "Nrx61abqHwCn"
      }
    },
    {
      "cell_type": "markdown",
      "source": [
        "### Calculating Gradients (Calculus)\n",
        "\n",
        "* purpose: a perfomance optimization\n",
        "* How much math should we understand here?\n",
        "> You won't have to know how to calculate the derivatives yourself; you just have to know what a derivative is.\n",
        "> Learning material: ['Khan Academy, lessons on basic derivatives'](https://www.khanacademy.org/math/ap-calculus-ab/ab-differentiation-1-new/ab-2-6a/v/derivative-properties-and-polynomial-derivatives). I made the summary of the lecture below, so if you understand the following fomular, you can skip the course.\n",
        "* fomula to calculate a derivative\n",
        "> $\\frac{d }{dx} \\left[ax^{n} \\right] = anx^{n-1}$\n",
        "<br><br> meaning: the derivative of $ax^{n}$ is $anx^{n-1}$\n",
        "<br> e.g. $2x^{5}$ derivative is $ 2 * 5 * x^{4}$, or $10x^{4}$ and when x value is 2, the derivative at that point becomes 160.\n",
        "<br><br> **What about the derivative of polynomial?** \n",
        "<br><br> $\\frac{d }{dx} \\left[f(x) + g(x) \\right] = \\frac{d }{dx} \\left[f(x) \\right]+ \\frac{d }{dx} \\left[g(x) \\right] $\n",
        "<br><br> meaning: the derivative of polynomial is the sum of the derivative of each terms. \n",
        "<br> e.g. $4x^3 + 5x^2 + 10x + 1$ derivative is $12x^2 + 10x + 10 and when x value is 2, the derivative at that point becomes 78. \n",
        "\n",
        "* other notations for a derivative:  $f'(x)$, $y'$, $\\frac{dy}{dx} $ "
      ],
      "metadata": {
        "id": "-Bts2D9EJcDL"
      }
    },
    {
      "cell_type": "markdown",
      "source": [
        "**Practice: Calculate the Derivative of the Function, $2x^5$**"
      ],
      "metadata": {
        "id": "0qx7fLHMS_4v"
      }
    },
    {
      "cell_type": "code",
      "source": [
        "# define the function\n",
        "def f(x): return 2*x**5"
      ],
      "metadata": {
        "id": "QvV-vvJEWlgm"
      },
      "execution_count": 48,
      "outputs": []
    },
    {
      "cell_type": "code",
      "source": [
        "# display the function of x value ranges from -2 to 2. \n",
        "# mark the point that we will calculate its derivative.\n",
        "plot_function(f, tx = 'x', ty = 'y')\n",
        "plt.scatter(2, f(2), color = 'red')\n",
        "plt.show()"
      ],
      "metadata": {
        "colab": {
          "base_uri": "https://localhost:8080/",
          "height": 279
        },
        "id": "u4ALHNPvWtOX",
        "outputId": "f20bc2a7-facb-45e6-b6e6-b2d3e5004dd0"
      },
      "execution_count": 49,
      "outputs": [
        {
          "output_type": "display_data",
          "data": {
            "text/plain": [
              "<Figure size 432x288 with 1 Axes>"
            ],
            "image/png": "[encoded data removed]"
          },
          "metadata": {
            "needs_background": "light"
          }
        }
      ]
    },
    {
      "cell_type": "code",
      "source": [
        "# save the tensor of input as xt\n",
        "xt = tensor(2.).requires_grad_()"
      ],
      "metadata": {
        "id": "zrL1gNgUbsKv"
      },
      "execution_count": 50,
      "outputs": []
    },
    {
      "cell_type": "code",
      "source": [
        "# calculate function with the xt or 2\n",
        "# and it has a gradient function it will be using to calculate when needed\n",
        "yt = f(xt)\n",
        "yt"
      ],
      "metadata": {
        "colab": {
          "base_uri": "https://localhost:8080/"
        },
        "id": "ywcHoTRC46wE",
        "outputId": "a8bce508-483a-49bd-eb68-2479695d26f9"
      },
      "execution_count": 51,
      "outputs": [
        {
          "output_type": "execute_result",
          "data": {
            "text/plain": [
              "tensor(64., grad_fn=<MulBackward0>)"
            ]
          },
          "metadata": {},
          "execution_count": 51
        }
      ]
    },
    {
      "cell_type": "code",
      "source": [
        "# backward refers to 'backpropagation'\n",
        "# backpropagation : the process of calculating the derivative of each layer\n",
        "yt.backward()"
      ],
      "metadata": {
        "id": "N1RW_iQA5B_O"
      },
      "execution_count": 52,
      "outputs": []
    },
    {
      "cell_type": "code",
      "source": [
        "# check the grad attribute of our tensor\n",
        "xt.grad"
      ],
      "metadata": {
        "colab": {
          "base_uri": "https://localhost:8080/"
        },
        "id": "At1JhNam7dzY",
        "outputId": "57f8bc67-0f53-43e4-de9a-1986f708db5a"
      },
      "execution_count": 53,
      "outputs": [
        {
          "output_type": "execute_result",
          "data": {
            "text/plain": [
              "tensor(160.)"
            ]
          },
          "metadata": {},
          "execution_count": 53
        }
      ]
    },
    {
      "cell_type": "markdown",
      "source": [
        "**Practice: Calculate the derivative the Function at multiple points**\n",
        "\n",
        "The derivative for $2x^{5}$ is $10x^{4}$.\n",
        "* x = 0, the derivative is 0.\n",
        "* x = 1, the derivative is 10.\n",
        "* x = 1.5, the derivative is 50.625.\n",
        "\n",
        "Let's check if the calculation matches in our output."
      ],
      "metadata": {
        "id": "GF4Kg-s-YoLg"
      }
    },
    {
      "cell_type": "code",
      "source": [
        "# add sum in this function\n",
        "# so it can take a vector (i.e. a raank-1 tensor tensor([0., 1., 1.5]))\n",
        "# and return a scalar\n",
        "def f(x): return (2*x**5).sum()"
      ],
      "metadata": {
        "id": "QQRKlTDxX80H"
      },
      "execution_count": 54,
      "outputs": []
    },
    {
      "cell_type": "code",
      "source": [
        "# repeat the preceeding steps with a vector argument\n",
        "xt2 = tensor([0. ,1. ,1.5]).requires_grad_()\n",
        "xt2"
      ],
      "metadata": {
        "colab": {
          "base_uri": "https://localhost:8080/"
        },
        "id": "BM_HkNJw77l9",
        "outputId": "dc4debe6-8d29-4417-953e-51416f67f9e7"
      },
      "execution_count": 55,
      "outputs": [
        {
          "output_type": "execute_result",
          "data": {
            "text/plain": [
              "tensor([0.0000, 1.0000, 1.5000], requires_grad=True)"
            ]
          },
          "metadata": {},
          "execution_count": 55
        }
      ]
    },
    {
      "cell_type": "code",
      "source": [
        "# calculate function\n",
        "yt2 = f(xt2)\n",
        "yt2"
      ],
      "metadata": {
        "colab": {
          "base_uri": "https://localhost:8080/"
        },
        "id": "fbOJsz1N8rij",
        "outputId": "2121178c-70da-4dfa-dbc7-96f786a45da7"
      },
      "execution_count": 56,
      "outputs": [
        {
          "output_type": "execute_result",
          "data": {
            "text/plain": [
              "tensor(17.1875, grad_fn=<SumBackward0>)"
            ]
          },
          "metadata": {},
          "execution_count": 56
        }
      ]
    },
    {
      "cell_type": "code",
      "source": [
        "# backpropagation: calcuate the derivative \n",
        "yt2.backward()\n",
        "\n",
        "# check the gradient\n",
        "xt2.grad"
      ],
      "metadata": {
        "colab": {
          "base_uri": "https://localhost:8080/"
        },
        "id": "AXdvutQr9L2x",
        "outputId": "986649b5-e667-46e8-9715-8e53f46d05fe"
      },
      "execution_count": 57,
      "outputs": [
        {
          "output_type": "execute_result",
          "data": {
            "text/plain": [
              "tensor([ 0.0000, 10.0000, 50.6250])"
            ]
          },
          "metadata": {},
          "execution_count": 57
        }
      ]
    },
    {
      "cell_type": "markdown",
      "source": [
        "**Practice: Calculate the derivative the polynomial function, $4x^3 + 5x^2 + 10x + 1$**"
      ],
      "metadata": {
        "id": "U5V_rDghUSNz"
      }
    },
    {
      "cell_type": "code",
      "source": [
        "# define the function\n",
        "def f(x): return 4*x**3 + 5*x**2 + 10*x +1"
      ],
      "metadata": {
        "id": "TprhDxWaUcpO"
      },
      "execution_count": 58,
      "outputs": []
    },
    {
      "cell_type": "code",
      "source": [
        "plot_function(f, tx = 'x', ty = 'y')\n",
        "plt.scatter(2, f(2), color = 'red')\n",
        "plt.show()"
      ],
      "metadata": {
        "colab": {
          "base_uri": "https://localhost:8080/",
          "height": 279
        },
        "id": "j5JUHp9DZ7vP",
        "outputId": "4a141d02-6f16-401a-9847-1bcedde15fcc"
      },
      "execution_count": 59,
      "outputs": [
        {
          "output_type": "display_data",
          "data": {
            "text/plain": [
              "<Figure size 432x288 with 1 Axes>"
            ],
            "image/png": "[encoded data removed]"
          },
          "metadata": {
            "needs_background": "light"
          }
        }
      ]
    },
    {
      "cell_type": "code",
      "source": [
        "# save the x value\n",
        "xt3 = tensor(2.).requires_grad_()"
      ],
      "metadata": {
        "id": "exM36Nx7UoEI"
      },
      "execution_count": 60,
      "outputs": []
    },
    {
      "cell_type": "code",
      "source": [
        "# calculate the function\n",
        "yt3 = f(xt3)\n",
        "yt3"
      ],
      "metadata": {
        "colab": {
          "base_uri": "https://localhost:8080/"
        },
        "id": "ypknC2ArUuvE",
        "outputId": "170d8c67-ce98-4afc-9c59-4c314f46b9f8"
      },
      "execution_count": 61,
      "outputs": [
        {
          "output_type": "execute_result",
          "data": {
            "text/plain": [
              "tensor(73., grad_fn=<AddBackward0>)"
            ]
          },
          "metadata": {},
          "execution_count": 61
        }
      ]
    },
    {
      "cell_type": "code",
      "source": [
        "# backpropagation: calculate the derivative\n",
        "yt3.backward()\n",
        "\n",
        "# check the gradient\n",
        "xt3.grad"
      ],
      "metadata": {
        "colab": {
          "base_uri": "https://localhost:8080/"
        },
        "id": "mesZ3WoaUyWa",
        "outputId": "d3e8fe70-a462-40de-d36f-8b6212971901"
      },
      "execution_count": 62,
      "outputs": [
        {
          "output_type": "execute_result",
          "data": {
            "text/plain": [
              "tensor(78.)"
            ]
          },
          "metadata": {},
          "execution_count": 62
        }
      ]
    },
    {
      "cell_type": "markdown",
      "source": [
        "It matches the gradient we calculated manually earlier."
      ],
      "metadata": {
        "id": "YW2lhDTOZc-F"
      }
    },
    {
      "cell_type": "markdown",
      "source": [
        "**So, Can We Adjust the Parameters (or Weights) only with Gradient values? No**\n",
        "<br> because the gradient tell us only the slope of our function.\n",
        "<br> **then what now?**\n",
        "<br><br> Now, let's figure out **how far** to adjust the parameters.  \n",
        "<br>\n",
        "* **High Slope**  -> **More Adjustments** to do\n",
        "* **Small Slope** -> **Close to the Optimal Value** "
      ],
      "metadata": {
        "id": "8KkkVPeRn31g"
      }
    },
    {
      "cell_type": "markdown",
      "source": [
        "### Stepping with a Learning Rate\n",
        "\n",
        "How do we change our parameters (or weights) based on the values of the gradients?\n",
        "<br> Answer: **Multiplying the Gradient by Some Small Number.**\n",
        "<br><br> What is the small number called? \n",
        "<br> Answer: **Learning Rate (LR)**\n",
        "<br><br> What is the common range of Learning Rate?\n",
        "<br> Answer: **0.001 ~ 0.1** (thought it could be anything)\n",
        "> Later in this book, it will guide you to a better approach (*learning rate finder*) <br> than a way of just trying a few LRs and finding which reults in the best model after training.\n",
        "\n",
        "<br><br> You can adjust your parameter using this simple function.\n",
        "<br><br> $w -= w.grad * lr $ \n",
        "<br><b>*This is known as stepping your parameters*</b> using an <b>*optimization step*</b>\n",
        "\n",
        "<br><br>\n",
        "**Gradient Descent Process by the Level of Learning Rate**\n",
        "![Gradient Descent Process by the Level of Learning Rate](https://www.jeremyjordan.me/content/images/2018/02/Screen-Shot-2018-02-24-at-11.47.09-AM.png)"
      ],
      "metadata": {
        "id": "f2EQXD2keMWD"
      }
    },
    {
      "cell_type": "markdown",
      "source": [
        "### And End-to-End Stochastic Gradient Descent (SGD) Example\n",
        "\n",
        "Example: The Speed of Roller Coaster\n",
        "<br><br>\n",
        "<img src = 'https://live.staticflickr.com/3066/2922348063_04e40bcfa6_b.jpg' width = 250></img>\n",
        "<br> We will build a model of how the speed change over time.\n",
        "\n",
        "\n"
      ],
      "metadata": {
        "id": "uzWdfDqQi0Ox"
      }
    },
    {
      "cell_type": "code",
      "source": [
        "# suppose that you measured the speed of a roller coaster\n",
        "# as it went over the top of a hump every second for 20 seconds\n",
        "\n",
        "# let's create a tensor of time\n",
        "time = torch.arange(0,20).float()\n",
        "time"
      ],
      "metadata": {
        "colab": {
          "base_uri": "https://localhost:8080/"
        },
        "id": "KftlOQynfNll",
        "outputId": "fe77eea5-7c7e-4ba6-a895-7584ba6929f8"
      },
      "execution_count": 63,
      "outputs": [
        {
          "output_type": "execute_result",
          "data": {
            "text/plain": [
              "tensor([ 0.,  1.,  2.,  3.,  4.,  5.,  6.,  7.,  8.,  9., 10., 11., 12., 13.,\n",
              "        14., 15., 16., 17., 18., 19.])"
            ]
          },
          "metadata": {},
          "execution_count": 63
        }
      ]
    },
    {
      "cell_type": "code",
      "source": [
        "# the speed will be faster at the begining\n",
        "# and then get slower as it went up the hill; it would be the slowest at the top\n",
        "# and it would then speed up again as it went downhil\n",
        "\n",
        "speed = torch.randn(20)*3 + 0.75*(time-9.5)**2 + 1\n",
        "\n",
        "# speed might change by the time like this\n",
        "plt.scatter(time, speed)"
      ],
      "metadata": {
        "colab": {
          "base_uri": "https://localhost:8080/",
          "height": 283
        },
        "id": "xIgbGe7Vl2Bj",
        "outputId": "de22fef4-31ba-4d41-ca18-fb3f6c4a5bb2"
      },
      "execution_count": 64,
      "outputs": [
        {
          "output_type": "execute_result",
          "data": {
            "text/plain": [
              "<matplotlib.collections.PathCollection at 0x7f0c5aea7760>"
            ]
          },
          "metadata": {},
          "execution_count": 64
        },
        {
          "output_type": "display_data",
          "data": {
            "text/plain": [
              "<Figure size 432x288 with 1 Axes>"
            ],
            "image/png": "[encoded data removed]"
          },
          "metadata": {
            "needs_background": "light"
          }
        }
      ]
    },
    {
      "cell_type": "markdown",
      "source": [
        "We've added a bit of random noise, since measuring things manually isn't precise.\n",
        "\n",
        "Using **Stochastic Gradient Descent**, we can try to find a function that matches our observation.\n",
        "\n",
        "Let's use a guess that it will be quadratic; i.e. a function of $a(time)^{2} + b(time) + c $."
      ],
      "metadata": {
        "id": "o7I6tpy1axvJ"
      }
    },
    {
      "cell_type": "code",
      "source": [
        "# distinguish between the function's input, time and its parameters\n",
        "# parameters are about which quadratic we're trying\n",
        "def f(t, params):\n",
        "  a,b,c = params\n",
        "  return a*(t**2) + (b*t) + c"
      ],
      "metadata": {
        "id": "O4h4rB7Gma8C"
      },
      "execution_count": 65,
      "outputs": []
    },
    {
      "cell_type": "markdown",
      "source": [
        "By seperating function's input and its paramters, we've restricted the problem of finding the best imaginable function that fits the data to finding the best quadratic function. "
      ],
      "metadata": {
        "id": "riDZDgK1ckNl"
      }
    },
    {
      "cell_type": "markdown",
      "source": [
        "**Step 1: Initialise the parameters**"
      ],
      "metadata": {
        "id": "CFp7YL7peUK3"
      }
    },
    {
      "cell_type": "code",
      "source": [
        "# initialise the gradients\n",
        "# and tell PyTorch that we want to track their gradients using requires_grad_()\n",
        "params = torch.rand(3).requires_grad_()\n",
        "params"
      ],
      "metadata": {
        "colab": {
          "base_uri": "https://localhost:8080/"
        },
        "id": "TFkOct5An6nv",
        "outputId": "7fe3e5b7-6eb0-46ea-970b-c5834763290a"
      },
      "execution_count": 67,
      "outputs": [
        {
          "output_type": "execute_result",
          "data": {
            "text/plain": [
              "tensor([0.8101, 0.8680, 0.9248], requires_grad=True)"
            ]
          },
          "metadata": {},
          "execution_count": 67
        }
      ]
    },
    {
      "cell_type": "markdown",
      "source": [
        "**Step 2: Calculate the predictions**"
      ],
      "metadata": {
        "id": "jUSnH3X4edWm"
      }
    },
    {
      "cell_type": "code",
      "source": [
        "# calculate the predictions\n",
        "preds = f(time, params)"
      ],
      "metadata": {
        "id": "a1rT_s2zoQ5y"
      },
      "execution_count": 79,
      "outputs": []
    },
    {
      "cell_type": "code",
      "source": [
        "# create a function to show how close our predictions are to our targets\n",
        "def show_preds(preds, ax = None):\n",
        "  if ax is None:\n",
        "    ax = plt.subplots()[1]\n",
        "    \n",
        "  ax.scatter(time, speed)\n",
        "  ax.scatter(time, to_np(preds), color = 'red')\n",
        "\n",
        "  ax.set_ylim(-50, 100)\n",
        "\n",
        "show_preds(preds)"
      ],
      "metadata": {
        "colab": {
          "base_uri": "https://localhost:8080/",
          "height": 269
        },
        "id": "JxU_THs-odn4",
        "outputId": "ccb729c2-73a4-4c7b-bbe4-13af0b55d726"
      },
      "execution_count": 69,
      "outputs": [
        {
          "output_type": "display_data",
          "data": {
            "text/plain": [
              "<Figure size 432x288 with 1 Axes>"
            ],
            "image/png": "[encoded data removed]"
          },
          "metadata": {
            "needs_background": "light"
          }
        }
      ]
    },
    {
      "cell_type": "markdown",
      "source": [
        "**Step 3: Calculate the loss**"
      ],
      "metadata": {
        "id": "u30lQu66emaR"
      }
    },
    {
      "cell_type": "code",
      "source": [
        "# define a loss function\n",
        "# we choose the common loss function, Mean Squared Error \n",
        "def mse(preds, targets):\n",
        "  return ((preds - targets)**2).mean().sqrt()"
      ],
      "metadata": {
        "id": "h3gL6ha_nmhk"
      },
      "execution_count": 66,
      "outputs": []
    },
    {
      "cell_type": "code",
      "source": [
        "# calculate the loss\n",
        "loss = mse(preds, speed)\n",
        "loss"
      ],
      "metadata": {
        "colab": {
          "base_uri": "https://localhost:8080/"
        },
        "id": "Yb7wWeE6pKRD",
        "outputId": "c47c7a01-ea95-4b19-cd55-38bb7a00b1bf"
      },
      "execution_count": 70,
      "outputs": [
        {
          "output_type": "execute_result",
          "data": {
            "text/plain": [
              "tensor(124.9181, grad_fn=<SqrtBackward0>)"
            ]
          },
          "metadata": {},
          "execution_count": 70
        }
      ]
    },
    {
      "cell_type": "markdown",
      "source": [
        "**Step 4: Calculate the gradients**"
      ],
      "metadata": {
        "id": "kbBY3ffueyQf"
      }
    },
    {
      "cell_type": "code",
      "source": [
        "# calculate the gradients\n",
        "loss.backward()"
      ],
      "metadata": {
        "id": "z_TlVRV7ptum"
      },
      "execution_count": 71,
      "outputs": []
    },
    {
      "cell_type": "code",
      "source": [
        "# view the gradients\n",
        "params.grad"
      ],
      "metadata": {
        "colab": {
          "base_uri": "https://localhost:8080/"
        },
        "id": "0ZILaxuep15c",
        "outputId": "a1ac34f6-557d-49aa-f44a-0084348ae2da"
      },
      "execution_count": 72,
      "outputs": [
        {
          "output_type": "execute_result",
          "data": {
            "text/plain": [
              "tensor([164.4142,  10.6044,   0.6613])"
            ]
          },
          "metadata": {},
          "execution_count": 72
        }
      ]
    },
    {
      "cell_type": "markdown",
      "source": [
        "**Step 5: Step the weights**"
      ],
      "metadata": {
        "id": "R-0QH33we5Sv"
      }
    },
    {
      "cell_type": "code",
      "source": [
        "# pick a learing rate to use\n",
        "lr = 1e-3\n",
        "lr"
      ],
      "metadata": {
        "colab": {
          "base_uri": "https://localhost:8080/"
        },
        "id": "Buqa08zBqN-B",
        "outputId": "ef5d457f-e267-461d-c748-83e5acfe2bae"
      },
      "execution_count": 73,
      "outputs": [
        {
          "output_type": "execute_result",
          "data": {
            "text/plain": [
              "0.001"
            ]
          },
          "metadata": {},
          "execution_count": 73
        }
      ]
    },
    {
      "cell_type": "code",
      "source": [
        "params.grad, params.grad.data"
      ],
      "metadata": {
        "colab": {
          "base_uri": "https://localhost:8080/"
        },
        "id": "KKDVTs5br7g1",
        "outputId": "b0838a78-b241-4b51-ed12-f8f1db086ed9"
      },
      "execution_count": 74,
      "outputs": [
        {
          "output_type": "execute_result",
          "data": {
            "text/plain": [
              "(tensor([164.4142,  10.6044,   0.6613]),\n",
              " tensor([164.4142,  10.6044,   0.6613]))"
            ]
          },
          "metadata": {},
          "execution_count": 74
        }
      ]
    },
    {
      "cell_type": "code",
      "source": [
        "# step the weights (means adjust the weights)\n",
        "params.data -= lr * params.grad.data\n",
        "params.grad = None"
      ],
      "metadata": {
        "id": "LlFIbuzdqj3x"
      },
      "execution_count": 75,
      "outputs": []
    },
    {
      "cell_type": "code",
      "source": [
        "# see if the loss has improved\n",
        "preds = f(time, params)\n",
        "mse(preds, speed)\n",
        "show_preds(preds)"
      ],
      "metadata": {
        "colab": {
          "base_uri": "https://localhost:8080/",
          "height": 269
        },
        "id": "lZ0Wg-ALti-A",
        "outputId": "9fdc1dc0-f4bd-479c-f2a8-fe34370c1e65"
      },
      "execution_count": 76,
      "outputs": [
        {
          "output_type": "display_data",
          "data": {
            "text/plain": [
              "<Figure size 432x288 with 1 Axes>"
            ],
            "image/png": "[encoded data removed]"
          },
          "metadata": {
            "needs_background": "light"
          }
        }
      ]
    },
    {
      "cell_type": "markdown",
      "source": [
        "**Step 6: Repeat the process**"
      ],
      "metadata": {
        "id": "xjqlwawzglo_"
      }
    },
    {
      "cell_type": "code",
      "source": [
        "# to repeat stepping the weights a few times\n",
        "# creat a function\n",
        "def apply_step(params, prn = True):\n",
        "  preds = f(time, params)\n",
        "  loss = mse(preds,speed)\n",
        "  loss.backward()\n",
        "  params.data -= lr * params.grad.data\n",
        "  params.grad = None\n",
        "  if prn:\n",
        "    print(loss.item())\n",
        "  return preds"
      ],
      "metadata": {
        "id": "q4gcYIUjuUIc"
      },
      "execution_count": 77,
      "outputs": []
    },
    {
      "cell_type": "code",
      "source": [
        "# repeat the process a few time\n",
        "# see how the shaping is approaching the best possible function for our data\n",
        "_, axs = plt.subplots(1,4, figsize=(12, 3))\n",
        "for ax in axs: \n",
        "  show_preds(apply_step(params), ax = ax)\n",
        "plt.tight_layout()"
      ],
      "metadata": {
        "colab": {
          "base_uri": "https://localhost:8080/",
          "height": 296
        },
        "id": "Cim6_Xfmv5hj",
        "outputId": "4ccc9a71-acad-4d37-f509-90cdc3cbf4ae"
      },
      "execution_count": 78,
      "outputs": [
        {
          "output_type": "stream",
          "name": "stdout",
          "text": [
            "97.9263916015625\n",
            "71.80632781982422\n",
            "47.779640197753906\n",
            "29.827993392944336\n"
          ]
        },
        {
          "output_type": "display_data",
          "data": {
            "text/plain": [
              "<Figure size 864x216 with 4 Axes>"
            ],
            "image/png": "[encoded data removed]"
          },
          "metadata": {
            "needs_background": "light"
          }
        }
      ]
    },
    {
      "cell_type": "markdown",
      "source": [
        "You can see the loss value coming down in 4 epochs.\n",
        "\n",
        "Let's try 6 more epochs."
      ],
      "metadata": {
        "id": "YUm61h1WjV1J"
      }
    },
    {
      "cell_type": "code",
      "source": [
        "for _ in range(6):\n",
        "  apply_step(params)"
      ],
      "metadata": {
        "colab": {
          "base_uri": "https://localhost:8080/"
        },
        "id": "LFD288Wfjq4K",
        "outputId": "a2d2eda8-fe3a-4516-dbb9-97355cd33d6f"
      },
      "execution_count": 80,
      "outputs": [
        {
          "output_type": "stream",
          "name": "stdout",
          "text": [
            "24.718921661376953\n",
            "24.703243255615234\n",
            "24.702762603759766\n",
            "24.702587127685547\n",
            "24.702423095703125\n",
            "24.702255249023438\n"
          ]
        }
      ]
    },
    {
      "cell_type": "markdown",
      "source": [
        "**Step 7: Stop** \n",
        "<br> We just decided to stop after 10 epochs arbitrarily. \n",
        "In practice, we will watch training and validation losses and our metrics to decide when to stop."
      ],
      "metadata": {
        "id": "z-au_AREguD-"
      }
    },
    {
      "cell_type": "markdown",
      "source": [
        "## The MNIST Loss Function"
      ],
      "metadata": {
        "id": "sAogOf8Zl_hK"
      }
    },
    {
      "cell_type": "code",
      "source": [
        "train_x = torch.cat([stacked_threes, stacked_sevens]).view(-1, 28*28)\n",
        "train_x.shape"
      ],
      "metadata": {
        "colab": {
          "base_uri": "https://localhost:8080/"
        },
        "id": "b9gQ-CPwjQgI",
        "outputId": "5eaaac09-ba20-4979-c7e6-13fa22675e03"
      },
      "execution_count": 84,
      "outputs": [
        {
          "output_type": "execute_result",
          "data": {
            "text/plain": [
              "torch.Size([12396, 784])"
            ]
          },
          "metadata": {},
          "execution_count": 84
        }
      ]
    },
    {
      "cell_type": "code",
      "source": [
        "train_y = tensor([1]*len(threes) + [0]*len(sevens))\n",
        "train_y[:10]"
      ],
      "metadata": {
        "colab": {
          "base_uri": "https://localhost:8080/"
        },
        "id": "t9fefA8jo5pD",
        "outputId": "de4d1cd6-0ac0-423f-b385-da696e2e4b74"
      },
      "execution_count": 86,
      "outputs": [
        {
          "output_type": "execute_result",
          "data": {
            "text/plain": [
              "tensor([1, 1, 1, 1, 1, 1, 1, 1, 1, 1])"
            ]
          },
          "metadata": {},
          "execution_count": 86
        }
      ]
    },
    {
      "cell_type": "code",
      "source": [
        "train_y = train_y.unsqueeze(1)\n",
        "train_y[:10]"
      ],
      "metadata": {
        "colab": {
          "base_uri": "https://localhost:8080/"
        },
        "id": "B3TvlSLvsF00",
        "outputId": "2c6c3da9-8b9a-4317-88a1-f367bb75e7b2"
      },
      "execution_count": 88,
      "outputs": [
        {
          "output_type": "execute_result",
          "data": {
            "text/plain": [
              "tensor([[1],\n",
              "        [1],\n",
              "        [1],\n",
              "        [1],\n",
              "        [1],\n",
              "        [1],\n",
              "        [1],\n",
              "        [1],\n",
              "        [1],\n",
              "        [1]])"
            ]
          },
          "metadata": {},
          "execution_count": 88
        }
      ]
    },
    {
      "cell_type": "code",
      "source": [
        "dset = list(zip(train_x, train_y))\n",
        "x,y = dset[0]\n",
        "x.shape, y"
      ],
      "metadata": {
        "colab": {
          "base_uri": "https://localhost:8080/"
        },
        "id": "p6DA2_zLsMZv",
        "outputId": "f565a348-b7ef-4104-e63a-8638acf8610c"
      },
      "execution_count": 91,
      "outputs": [
        {
          "output_type": "execute_result",
          "data": {
            "text/plain": [
              "(torch.Size([784]), tensor([1]))"
            ]
          },
          "metadata": {},
          "execution_count": 91
        }
      ]
    },
    {
      "cell_type": "code",
      "source": [
        "valid_x = torch.cat([valid_3_tens, valid_7_tens]).view(-1, 28*28)\n",
        "valid_y = tensor([1]*len(valid_3_tens) + [0]*len(valid_7_tens)).unsqueeze(1)\n",
        "valid_dset = list(zip(valid_x, valid_y))"
      ],
      "metadata": {
        "id": "_KJCpeGPslhF"
      },
      "execution_count": 94,
      "outputs": []
    }
  ]
}
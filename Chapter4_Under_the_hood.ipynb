{
  "nbformat": 4,
  "nbformat_minor": 0,
  "metadata": {
    "colab": {
      "provenance": [],
      "authorship_tag": "ABX9TyMhWNM4yJs9xyMGwnw5XfG5",
      "include_colab_link": true
    },
    "kernelspec": {
      "name": "python3",
      "display_name": "Python 3"
    },
    "language_info": {
      "name": "python"
    }
  },
  "cells": [
    {
      "cell_type": "markdown",
      "metadata": {
        "id": "view-in-github",
        "colab_type": "text"
      },
      "source": [
        "<a href=\"https://colab.research.google.com/github/ttcielott/Deep_Learning_for_Coders_with-Fastai_and_PyTorch/blob/main/Chapter4_Under_the_hood.ipynb\" target=\"_parent\"><img src=\"https://colab.research.google.com/assets/colab-badge.svg\" alt=\"Open In Colab\"/></a>"
      ]
    },
    {
      "cell_type": "markdown",
      "source": [
        "# Deep Learning for Coders with Fastai and PyTorch\n",
        "by Jeremy Howard and Sylvain Gugger\n",
        "\n",
        "## Chapter 4. Under the Hood: Training a Digit Classifier\n",
        "\n",
        "This notebook will write a summary of chapter 4 and run the codes for practice. The chapter explains how deep learning works under the hood.\n",
        "The chapter 4 comprises of 9 parts as below.\n",
        "\n",
        "\n",
        "1.   Pixels: The Foundations of Computer Vision\n",
        "2.   First Try: Pixel Simialarity\n",
        "3.   Computing Metrics Using\n",
        "4.   Stochastic Gradient Descent\n",
        "5.   The MNIST Loss Function\n",
        "6.   Putting It All Together\n",
        "7.   Adding Nonlinearity\n",
        "8.   Jargon Recap\n",
        "9.   Questionnaire\n",
        "\n",
        "\n"
      ],
      "metadata": {
        "id": "90bsEF4zxw5D"
      }
    },
    {
      "cell_type": "code",
      "source": [
        "# import fastai library\n",
        "\n",
        "from fastai.vision.all import *\n",
        "import pandas as pd"
      ],
      "metadata": {
        "id": "TOqjCrFv5jBK"
      },
      "execution_count": 24,
      "outputs": []
    },
    {
      "cell_type": "markdown",
      "source": [
        "## 1. Pixels: The Foundations of Computer Vison\n",
        "\n",
        "To understand what happens in a computer vision, we first have to understand how computers handle images.\n",
        "\n",
        "Dataset for this tutorial: MNIST samples\n",
        "\n",
        "**About MNIST dataset** \n",
        "\n",
        "images of handwritten digits, collected by the National Institute of Standards and Technology and collated into a machine learning dataset by Yann Lecun and his colleqgues."
      ],
      "metadata": {
        "id": "9ObAmwME5GJN"
      }
    },
    {
      "cell_type": "code",
      "source": [
        "# download a sample of MNIST\n",
        "path = untar_data(URLs.MNIST_SAMPLE)"
      ],
      "metadata": {
        "id": "C7GUHjiI5LvG"
      },
      "execution_count": 25,
      "outputs": []
    },
    {
      "cell_type": "code",
      "source": [
        "# view what's in this directory by using ls\n",
        "# ls, a method added by fastai\n",
        "# returns an object of a special fastai class called L (similar to Python List)\n",
        "path.ls()"
      ],
      "metadata": {
        "colab": {
          "base_uri": "https://localhost:8080/"
        },
        "id": "M475la4n6FTL",
        "outputId": "3f785130-9882-460a-e39c-ae9289b1bf96"
      },
      "execution_count": 26,
      "outputs": [
        {
          "output_type": "execute_result",
          "data": {
            "text/plain": [
              "(#3) [Path('/root/.fastai/data/mnist_sample/labels.csv'),Path('/root/.fastai/data/mnist_sample/valid'),Path('/root/.fastai/data/mnist_sample/train')]"
            ]
          },
          "metadata": {},
          "execution_count": 26
        }
      ]
    },
    {
      "cell_type": "markdown",
      "source": [
        "The MNIST dataset follows a common layout for machine learning dataset:\n",
        "\n",
        "*   training set folder\n",
        "*   validation set folder\n",
        "\n"
      ],
      "metadata": {
        "id": "boGguLQb9xzc"
      }
    },
    {
      "cell_type": "code",
      "source": [
        "# view what's inside the training set (folder, train)\n",
        "(path/'train').ls()"
      ],
      "metadata": {
        "colab": {
          "base_uri": "https://localhost:8080/"
        },
        "id": "jYQNstzp9Nx6",
        "outputId": "875b6f29-3080-4744-ad40-ea10fc8b1acf"
      },
      "execution_count": 27,
      "outputs": [
        {
          "output_type": "execute_result",
          "data": {
            "text/plain": [
              "(#2) [Path('/root/.fastai/data/mnist_sample/train/7'),Path('/root/.fastai/data/mnist_sample/train/3')]"
            ]
          },
          "metadata": {},
          "execution_count": 27
        }
      ]
    },
    {
      "cell_type": "markdown",
      "source": [
        "There's a folder of 3s and a folder of 7s."
      ],
      "metadata": {
        "id": "W27mLSgY-WzC"
      }
    },
    {
      "cell_type": "code",
      "source": [
        "# look in folders\n",
        "# sort the file to get the same order of files\n",
        "threes = (path/'train'/'3').ls().sorted()\n",
        "sevens = (path/'train'/'7').ls().sorted()\n",
        "threes"
      ],
      "metadata": {
        "colab": {
          "base_uri": "https://localhost:8080/"
        },
        "id": "TMJogpWs-Udm",
        "outputId": "3345b785-b337-4a8b-a150-844818d3e96c"
      },
      "execution_count": 28,
      "outputs": [
        {
          "output_type": "execute_result",
          "data": {
            "text/plain": [
              "(#6131) [Path('/root/.fastai/data/mnist_sample/train/3/10.png'),Path('/root/.fastai/data/mnist_sample/train/3/10000.png'),Path('/root/.fastai/data/mnist_sample/train/3/10011.png'),Path('/root/.fastai/data/mnist_sample/train/3/10031.png'),Path('/root/.fastai/data/mnist_sample/train/3/10034.png'),Path('/root/.fastai/data/mnist_sample/train/3/10042.png'),Path('/root/.fastai/data/mnist_sample/train/3/10052.png'),Path('/root/.fastai/data/mnist_sample/train/3/1007.png'),Path('/root/.fastai/data/mnist_sample/train/3/10074.png'),Path('/root/.fastai/data/mnist_sample/train/3/10091.png')...]"
            ]
          },
          "metadata": {},
          "execution_count": 28
        }
      ]
    },
    {
      "cell_type": "code",
      "source": [
        "# pick one file path\n",
        "im3_path = threes[1]\n",
        "im3_path"
      ],
      "metadata": {
        "colab": {
          "base_uri": "https://localhost:8080/"
        },
        "id": "47y6-vSG-56S",
        "outputId": "b6647e40-735a-4f98-f724-05cd51cdcaff"
      },
      "execution_count": 29,
      "outputs": [
        {
          "output_type": "execute_result",
          "data": {
            "text/plain": [
              "Path('/root/.fastai/data/mnist_sample/train/3/10000.png')"
            ]
          },
          "metadata": {},
          "execution_count": 29
        }
      ]
    },
    {
      "cell_type": "code",
      "source": [
        "# open the file using Image class\n",
        "# Image class is from the Python Image Library, PIL\n",
        "# PIL is for opening, manipulation, and viewing images\n",
        "im3 = Image.open(im3_path)\n",
        "im3"
      ],
      "metadata": {
        "colab": {
          "base_uri": "https://localhost:8080/",
          "height": 45
        },
        "id": "YfFIeD8m_TiW",
        "outputId": "dc3d4808-f60c-406c-c1cd-e4688f336c87"
      },
      "execution_count": 30,
      "outputs": [
        {
          "output_type": "execute_result",
          "data": {
            "text/plain": [
              "<PIL.PngImagePlugin.PngImageFile image mode=L size=28x28>"
            ],
            "image/png": "[encoded data removed]"
          },
          "metadata": {},
          "execution_count": 30
        }
      ]
    },
    {
      "cell_type": "markdown",
      "source": [
        "###\"Convert a image to a Numpy array or a PyTorch tensor.\"\n",
        "\n",
        "**Why is the conversion necessary?**\n",
        "\n",
        "because everything is represented as a number in a computer."
      ],
      "metadata": {
        "id": "0GpDbKQ4AHMW"
      }
    },
    {
      "cell_type": "code",
      "source": [
        "# get a section of the image\n",
        "# see how it looks like converted to a Numpy array\n",
        "array(im3)[:10, :10]"
      ],
      "metadata": {
        "colab": {
          "base_uri": "https://localhost:8080/"
        },
        "id": "UZxdASQO_bi0",
        "outputId": "37ac4863-1022-4356-8d72-595841da04d8"
      },
      "execution_count": 31,
      "outputs": [
        {
          "output_type": "execute_result",
          "data": {
            "text/plain": [
              "array([[  0,   0,   0,   0,   0,   0,   0,   0,   0,   0],\n",
              "       [  0,   0,   0,   0,   0,   0,   0,   0,   0,   0],\n",
              "       [  0,   0,   0,   0,   0,   0,   0,   0,   0,   0],\n",
              "       [  0,   0,   0,   0,   0,   0,   0,   0,   0,   0],\n",
              "       [  0,   0,   0,   0,   0,   0,   0,   0,   0,   0],\n",
              "       [  0,   0,   0,   0,   0,   0,   0,   0,   0,  29],\n",
              "       [  0,   0,   0,   0,   0,   0,   0,  48, 166, 224],\n",
              "       [  0,   0,   0,   0,   0,  93, 244, 249, 253, 187],\n",
              "       [  0,   0,   0,   0,   0, 107, 253, 253, 230,  48],\n",
              "       [  0,   0,   0,   0,   0,   3,  20,  20,  15,   0]], dtype=uint8)"
            ]
          },
          "metadata": {},
          "execution_count": 31
        }
      ]
    },
    {
      "cell_type": "code",
      "source": [
        "# view how the image is created from the pixel values\n",
        "\n",
        "# convert the image to a tensor\n",
        "im3_t = tensor(im3)\n",
        "\n",
        "# convert it to pandas dataframe\n",
        "df = pd.DataFrame(im3_t[5:20, 5:20])\n",
        "df"
      ],
      "metadata": {
        "id": "_8laYIgqA_Nj",
        "colab": {
          "base_uri": "https://localhost:8080/",
          "height": 520
        },
        "outputId": "00ba56ac-8e07-4b02-9594-3100ba15731e"
      },
      "execution_count": 36,
      "outputs": [
        {
          "output_type": "execute_result",
          "data": {
            "text/plain": [
              "     0    1    2    3    4    5    6    7    8    9    10   11   12   13   14\n",
              "0     0    0    0    0   29  150  195  254  255  254  176  193  150   96    0\n",
              "1     0    0   48  166  224  253  253  234  196  253  253  253  253  233    0\n",
              "2    93  244  249  253  187   46   10    8    4   10  194  253  253  233    0\n",
              "3   107  253  253  230   48    0    0    0    0    0  192  253  253  156    0\n",
              "4     3   20   20   15    0    0    0    0    0   43  224  253  245   74    0\n",
              "5     0    0    0    0    0    0    0    0    0  249  253  245  126    0    0\n",
              "6     0    0    0    0    0    0   14  101  223  253  248  124    0    0    0\n",
              "7     0    0    0    0   11  166  239  253  253  253  187   30    0    0    0\n",
              "8     0    0    0    0   16  248  250  253  253  253  253  232  213  111    2\n",
              "9     0    0    0    0    0    0   43   98   98  208  253  253  253  253  187\n",
              "10    0    0    0    0    0    0    0    0    0    9   51  119  253  253  253\n",
              "11    0    0    0    0    0    0    0    0    0    0    0    1  183  253  253\n",
              "12    0    0    0    0    0    0    0    0    0    0    0    0  182  253  253\n",
              "13    0    0    0    0    0    0    0    0    0    0    0   85  249  253  253\n",
              "14    0    0    0    0    0    0    0    0    0    0   60  214  253  253  173"
            ],
            "text/html": [
              "\n",
              "  <div id=\"df-bf4d7e22-f6da-42dd-be65-fa637d99902d\">\n",
              "    <div class=\"colab-df-container\">\n",
              "      <div>\n",
              "<style scoped>\n",
              "    .dataframe tbody tr th:only-of-type {\n",
              "        vertical-align: middle;\n",
              "    }\n",
              "\n",
              "    .dataframe tbody tr th {\n",
              "        vertical-align: top;\n",
              "    }\n",
              "\n",
              "    .dataframe thead th {\n",
              "        text-align: right;\n",
              "    }\n",
              "</style>\n",
              "<table border=\"1\" class=\"dataframe\">\n",
              "  <thead>\n",
              "    <tr style=\"text-align: right;\">\n",
              "      <th></th>\n",
              "      <th>0</th>\n",
              "      <th>1</th>\n",
              "      <th>2</th>\n",
              "      <th>3</th>\n",
              "      <th>4</th>\n",
              "      <th>5</th>\n",
              "      <th>6</th>\n",
              "      <th>7</th>\n",
              "      <th>8</th>\n",
              "      <th>9</th>\n",
              "      <th>10</th>\n",
              "      <th>11</th>\n",
              "      <th>12</th>\n",
              "      <th>13</th>\n",
              "      <th>14</th>\n",
              "    </tr>\n",
              "  </thead>\n",
              "  <tbody>\n",
              "    <tr>\n",
              "      <th>0</th>\n",
              "      <td>0</td>\n",
              "      <td>0</td>\n",
              "      <td>0</td>\n",
              "      <td>0</td>\n",
              "      <td>29</td>\n",
              "      <td>150</td>\n",
              "      <td>195</td>\n",
              "      <td>254</td>\n",
              "      <td>255</td>\n",
              "      <td>254</td>\n",
              "      <td>176</td>\n",
              "      <td>193</td>\n",
              "      <td>150</td>\n",
              "      <td>96</td>\n",
              "      <td>0</td>\n",
              "    </tr>\n",
              "    <tr>\n",
              "      <th>1</th>\n",
              "      <td>0</td>\n",
              "      <td>0</td>\n",
              "      <td>48</td>\n",
              "      <td>166</td>\n",
              "      <td>224</td>\n",
              "      <td>253</td>\n",
              "      <td>253</td>\n",
              "      <td>234</td>\n",
              "      <td>196</td>\n",
              "      <td>253</td>\n",
              "      <td>253</td>\n",
              "      <td>253</td>\n",
              "      <td>253</td>\n",
              "      <td>233</td>\n",
              "      <td>0</td>\n",
              "    </tr>\n",
              "    <tr>\n",
              "      <th>2</th>\n",
              "      <td>93</td>\n",
              "      <td>244</td>\n",
              "      <td>249</td>\n",
              "      <td>253</td>\n",
              "      <td>187</td>\n",
              "      <td>46</td>\n",
              "      <td>10</td>\n",
              "      <td>8</td>\n",
              "      <td>4</td>\n",
              "      <td>10</td>\n",
              "      <td>194</td>\n",
              "      <td>253</td>\n",
              "      <td>253</td>\n",
              "      <td>233</td>\n",
              "      <td>0</td>\n",
              "    </tr>\n",
              "    <tr>\n",
              "      <th>3</th>\n",
              "      <td>107</td>\n",
              "      <td>253</td>\n",
              "      <td>253</td>\n",
              "      <td>230</td>\n",
              "      <td>48</td>\n",
              "      <td>0</td>\n",
              "      <td>0</td>\n",
              "      <td>0</td>\n",
              "      <td>0</td>\n",
              "      <td>0</td>\n",
              "      <td>192</td>\n",
              "      <td>253</td>\n",
              "      <td>253</td>\n",
              "      <td>156</td>\n",
              "      <td>0</td>\n",
              "    </tr>\n",
              "    <tr>\n",
              "      <th>4</th>\n",
              "      <td>3</td>\n",
              "      <td>20</td>\n",
              "      <td>20</td>\n",
              "      <td>15</td>\n",
              "      <td>0</td>\n",
              "      <td>0</td>\n",
              "      <td>0</td>\n",
              "      <td>0</td>\n",
              "      <td>0</td>\n",
              "      <td>43</td>\n",
              "      <td>224</td>\n",
              "      <td>253</td>\n",
              "      <td>245</td>\n",
              "      <td>74</td>\n",
              "      <td>0</td>\n",
              "    </tr>\n",
              "    <tr>\n",
              "      <th>5</th>\n",
              "      <td>0</td>\n",
              "      <td>0</td>\n",
              "      <td>0</td>\n",
              "      <td>0</td>\n",
              "      <td>0</td>\n",
              "      <td>0</td>\n",
              "      <td>0</td>\n",
              "      <td>0</td>\n",
              "      <td>0</td>\n",
              "      <td>249</td>\n",
              "      <td>253</td>\n",
              "      <td>245</td>\n",
              "      <td>126</td>\n",
              "      <td>0</td>\n",
              "      <td>0</td>\n",
              "    </tr>\n",
              "    <tr>\n",
              "      <th>6</th>\n",
              "      <td>0</td>\n",
              "      <td>0</td>\n",
              "      <td>0</td>\n",
              "      <td>0</td>\n",
              "      <td>0</td>\n",
              "      <td>0</td>\n",
              "      <td>14</td>\n",
              "      <td>101</td>\n",
              "      <td>223</td>\n",
              "      <td>253</td>\n",
              "      <td>248</td>\n",
              "      <td>124</td>\n",
              "      <td>0</td>\n",
              "      <td>0</td>\n",
              "      <td>0</td>\n",
              "    </tr>\n",
              "    <tr>\n",
              "      <th>7</th>\n",
              "      <td>0</td>\n",
              "      <td>0</td>\n",
              "      <td>0</td>\n",
              "      <td>0</td>\n",
              "      <td>11</td>\n",
              "      <td>166</td>\n",
              "      <td>239</td>\n",
              "      <td>253</td>\n",
              "      <td>253</td>\n",
              "      <td>253</td>\n",
              "      <td>187</td>\n",
              "      <td>30</td>\n",
              "      <td>0</td>\n",
              "      <td>0</td>\n",
              "      <td>0</td>\n",
              "    </tr>\n",
              "    <tr>\n",
              "      <th>8</th>\n",
              "      <td>0</td>\n",
              "      <td>0</td>\n",
              "      <td>0</td>\n",
              "      <td>0</td>\n",
              "      <td>16</td>\n",
              "      <td>248</td>\n",
              "      <td>250</td>\n",
              "      <td>253</td>\n",
              "      <td>253</td>\n",
              "      <td>253</td>\n",
              "      <td>253</td>\n",
              "      <td>232</td>\n",
              "      <td>213</td>\n",
              "      <td>111</td>\n",
              "      <td>2</td>\n",
              "    </tr>\n",
              "    <tr>\n",
              "      <th>9</th>\n",
              "      <td>0</td>\n",
              "      <td>0</td>\n",
              "      <td>0</td>\n",
              "      <td>0</td>\n",
              "      <td>0</td>\n",
              "      <td>0</td>\n",
              "      <td>43</td>\n",
              "      <td>98</td>\n",
              "      <td>98</td>\n",
              "      <td>208</td>\n",
              "      <td>253</td>\n",
              "      <td>253</td>\n",
              "      <td>253</td>\n",
              "      <td>253</td>\n",
              "      <td>187</td>\n",
              "    </tr>\n",
              "    <tr>\n",
              "      <th>10</th>\n",
              "      <td>0</td>\n",
              "      <td>0</td>\n",
              "      <td>0</td>\n",
              "      <td>0</td>\n",
              "      <td>0</td>\n",
              "      <td>0</td>\n",
              "      <td>0</td>\n",
              "      <td>0</td>\n",
              "      <td>0</td>\n",
              "      <td>9</td>\n",
              "      <td>51</td>\n",
              "      <td>119</td>\n",
              "      <td>253</td>\n",
              "      <td>253</td>\n",
              "      <td>253</td>\n",
              "    </tr>\n",
              "    <tr>\n",
              "      <th>11</th>\n",
              "      <td>0</td>\n",
              "      <td>0</td>\n",
              "      <td>0</td>\n",
              "      <td>0</td>\n",
              "      <td>0</td>\n",
              "      <td>0</td>\n",
              "      <td>0</td>\n",
              "      <td>0</td>\n",
              "      <td>0</td>\n",
              "      <td>0</td>\n",
              "      <td>0</td>\n",
              "      <td>1</td>\n",
              "      <td>183</td>\n",
              "      <td>253</td>\n",
              "      <td>253</td>\n",
              "    </tr>\n",
              "    <tr>\n",
              "      <th>12</th>\n",
              "      <td>0</td>\n",
              "      <td>0</td>\n",
              "      <td>0</td>\n",
              "      <td>0</td>\n",
              "      <td>0</td>\n",
              "      <td>0</td>\n",
              "      <td>0</td>\n",
              "      <td>0</td>\n",
              "      <td>0</td>\n",
              "      <td>0</td>\n",
              "      <td>0</td>\n",
              "      <td>0</td>\n",
              "      <td>182</td>\n",
              "      <td>253</td>\n",
              "      <td>253</td>\n",
              "    </tr>\n",
              "    <tr>\n",
              "      <th>13</th>\n",
              "      <td>0</td>\n",
              "      <td>0</td>\n",
              "      <td>0</td>\n",
              "      <td>0</td>\n",
              "      <td>0</td>\n",
              "      <td>0</td>\n",
              "      <td>0</td>\n",
              "      <td>0</td>\n",
              "      <td>0</td>\n",
              "      <td>0</td>\n",
              "      <td>0</td>\n",
              "      <td>85</td>\n",
              "      <td>249</td>\n",
              "      <td>253</td>\n",
              "      <td>253</td>\n",
              "    </tr>\n",
              "    <tr>\n",
              "      <th>14</th>\n",
              "      <td>0</td>\n",
              "      <td>0</td>\n",
              "      <td>0</td>\n",
              "      <td>0</td>\n",
              "      <td>0</td>\n",
              "      <td>0</td>\n",
              "      <td>0</td>\n",
              "      <td>0</td>\n",
              "      <td>0</td>\n",
              "      <td>0</td>\n",
              "      <td>60</td>\n",
              "      <td>214</td>\n",
              "      <td>253</td>\n",
              "      <td>253</td>\n",
              "      <td>173</td>\n",
              "    </tr>\n",
              "  </tbody>\n",
              "</table>\n",
              "</div>\n",
              "      <button class=\"colab-df-convert\" onclick=\"convertToInteractive('df-bf4d7e22-f6da-42dd-be65-fa637d99902d')\"\n",
              "              title=\"Convert this dataframe to an interactive table.\"\n",
              "              style=\"display:none;\">\n",
              "        \n",
              "  <svg xmlns=\"http://www.w3.org/2000/svg\" height=\"24px\"viewBox=\"0 0 24 24\"\n",
              "       width=\"24px\">\n",
              "    <path d=\"M0 0h24v24H0V0z\" fill=\"none\"/>\n",
              "    <path d=\"M18.56 5.44l.94 2.06.94-2.06 2.06-.94-2.06-.94-.94-2.06-.94 2.06-2.06.94zm-11 1L8.5 8.5l.94-2.06 2.06-.94-2.06-.94L8.5 2.5l-.94 2.06-2.06.94zm10 10l.94 2.06.94-2.06 2.06-.94-2.06-.94-.94-2.06-.94 2.06-2.06.94z\"/><path d=\"M17.41 7.96l-1.37-1.37c-.4-.4-.92-.59-1.43-.59-.52 0-1.04.2-1.43.59L10.3 9.45l-7.72 7.72c-.78.78-.78 2.05 0 2.83L4 21.41c.39.39.9.59 1.41.59.51 0 1.02-.2 1.41-.59l7.78-7.78 2.81-2.81c.8-.78.8-2.07 0-2.86zM5.41 20L4 18.59l7.72-7.72 1.47 1.35L5.41 20z\"/>\n",
              "  </svg>\n",
              "      </button>\n",
              "      \n",
              "  <style>\n",
              "    .colab-df-container {\n",
              "      display:flex;\n",
              "      flex-wrap:wrap;\n",
              "      gap: 12px;\n",
              "    }\n",
              "\n",
              "    .colab-df-convert {\n",
              "      background-color: #E8F0FE;\n",
              "      border: none;\n",
              "      border-radius: 50%;\n",
              "      cursor: pointer;\n",
              "      display: none;\n",
              "      fill: #1967D2;\n",
              "      height: 32px;\n",
              "      padding: 0 0 0 0;\n",
              "      width: 32px;\n",
              "    }\n",
              "\n",
              "    .colab-df-convert:hover {\n",
              "      background-color: #E2EBFA;\n",
              "      box-shadow: 0px 1px 2px rgba(60, 64, 67, 0.3), 0px 1px 3px 1px rgba(60, 64, 67, 0.15);\n",
              "      fill: #174EA6;\n",
              "    }\n",
              "\n",
              "    [theme=dark] .colab-df-convert {\n",
              "      background-color: #3B4455;\n",
              "      fill: #D2E3FC;\n",
              "    }\n",
              "\n",
              "    [theme=dark] .colab-df-convert:hover {\n",
              "      background-color: #434B5C;\n",
              "      box-shadow: 0px 1px 3px 1px rgba(0, 0, 0, 0.15);\n",
              "      filter: drop-shadow(0px 1px 2px rgba(0, 0, 0, 0.3));\n",
              "      fill: #FFFFFF;\n",
              "    }\n",
              "  </style>\n",
              "\n",
              "      <script>\n",
              "        const buttonEl =\n",
              "          document.querySelector('#df-bf4d7e22-f6da-42dd-be65-fa637d99902d button.colab-df-convert');\n",
              "        buttonEl.style.display =\n",
              "          google.colab.kernel.accessAllowed ? 'block' : 'none';\n",
              "\n",
              "        async function convertToInteractive(key) {\n",
              "          const element = document.querySelector('#df-bf4d7e22-f6da-42dd-be65-fa637d99902d');\n",
              "          const dataTable =\n",
              "            await google.colab.kernel.invokeFunction('convertToInteractive',\n",
              "                                                     [key], {});\n",
              "          if (!dataTable) return;\n",
              "\n",
              "          const docLinkHtml = 'Like what you see? Visit the ' +\n",
              "            '<a target=\"_blank\" href=https://colab.research.google.com/notebooks/data_table.ipynb>data table notebook</a>'\n",
              "            + ' to learn more about interactive tables.';\n",
              "          element.innerHTML = '';\n",
              "          dataTable['output_type'] = 'display_data';\n",
              "          await google.colab.output.renderOutput(dataTable, element);\n",
              "          const docLink = document.createElement('div');\n",
              "          docLink.innerHTML = docLinkHtml;\n",
              "          element.appendChild(docLink);\n",
              "        }\n",
              "      </script>\n",
              "    </div>\n",
              "  </div>\n",
              "  "
            ]
          },
          "metadata": {},
          "execution_count": 36
        }
      ]
    },
    {
      "cell_type": "code",
      "source": [
        "# color-code the values using a gradient\n",
        "df.style.set_properties(**{'font-size':'6pt'}).background_gradient('Greys')"
      ],
      "metadata": {
        "id": "0THS9LhChV91",
        "colab": {
          "base_uri": "https://localhost:8080/",
          "height": 520
        },
        "outputId": "c315a116-9e52-4dcf-ffcb-f7d3ec2bb709"
      },
      "execution_count": 37,
      "outputs": [
        {
          "output_type": "execute_result",
          "data": {
            "text/plain": [
              "<pandas.io.formats.style.Styler at 0x7f34d5cd9430>"
            ],
            "text/html": [
              "<style type=\"text/css\">\n",
              "#T_bfe4a_row0_col0, #T_bfe4a_row0_col1, #T_bfe4a_row0_col2, #T_bfe4a_row0_col3, #T_bfe4a_row0_col14, #T_bfe4a_row1_col0, #T_bfe4a_row1_col1, #T_bfe4a_row1_col14, #T_bfe4a_row2_col14, #T_bfe4a_row3_col5, #T_bfe4a_row3_col6, #T_bfe4a_row3_col7, #T_bfe4a_row3_col8, #T_bfe4a_row3_col9, #T_bfe4a_row3_col14, #T_bfe4a_row4_col4, #T_bfe4a_row4_col5, #T_bfe4a_row4_col6, #T_bfe4a_row4_col7, #T_bfe4a_row4_col8, #T_bfe4a_row4_col14, #T_bfe4a_row5_col0, #T_bfe4a_row5_col1, #T_bfe4a_row5_col2, #T_bfe4a_row5_col3, #T_bfe4a_row5_col4, #T_bfe4a_row5_col5, #T_bfe4a_row5_col6, #T_bfe4a_row5_col7, #T_bfe4a_row5_col8, #T_bfe4a_row5_col13, #T_bfe4a_row5_col14, #T_bfe4a_row6_col0, #T_bfe4a_row6_col1, #T_bfe4a_row6_col2, #T_bfe4a_row6_col3, #T_bfe4a_row6_col4, #T_bfe4a_row6_col5, #T_bfe4a_row6_col12, #T_bfe4a_row6_col13, #T_bfe4a_row6_col14, #T_bfe4a_row7_col0, #T_bfe4a_row7_col1, #T_bfe4a_row7_col2, #T_bfe4a_row7_col3, #T_bfe4a_row7_col12, #T_bfe4a_row7_col13, #T_bfe4a_row7_col14, #T_bfe4a_row8_col0, #T_bfe4a_row8_col1, #T_bfe4a_row8_col2, #T_bfe4a_row8_col3, #T_bfe4a_row9_col0, #T_bfe4a_row9_col1, #T_bfe4a_row9_col2, #T_bfe4a_row9_col3, #T_bfe4a_row9_col4, #T_bfe4a_row9_col5, #T_bfe4a_row10_col0, #T_bfe4a_row10_col1, #T_bfe4a_row10_col2, #T_bfe4a_row10_col3, #T_bfe4a_row10_col4, #T_bfe4a_row10_col5, #T_bfe4a_row10_col6, #T_bfe4a_row10_col7, #T_bfe4a_row10_col8, #T_bfe4a_row11_col0, #T_bfe4a_row11_col1, #T_bfe4a_row11_col2, #T_bfe4a_row11_col3, #T_bfe4a_row11_col4, #T_bfe4a_row11_col5, #T_bfe4a_row11_col6, #T_bfe4a_row11_col7, #T_bfe4a_row11_col8, #T_bfe4a_row11_col9, #T_bfe4a_row11_col10, #T_bfe4a_row11_col11, #T_bfe4a_row12_col0, #T_bfe4a_row12_col1, #T_bfe4a_row12_col2, #T_bfe4a_row12_col3, #T_bfe4a_row12_col4, #T_bfe4a_row12_col5, #T_bfe4a_row12_col6, #T_bfe4a_row12_col7, #T_bfe4a_row12_col8, #T_bfe4a_row12_col9, #T_bfe4a_row12_col10, #T_bfe4a_row12_col11, #T_bfe4a_row13_col0, #T_bfe4a_row13_col1, #T_bfe4a_row13_col2, #T_bfe4a_row13_col3, #T_bfe4a_row13_col4, #T_bfe4a_row13_col5, #T_bfe4a_row13_col6, #T_bfe4a_row13_col7, #T_bfe4a_row13_col8, #T_bfe4a_row13_col9, #T_bfe4a_row13_col10, #T_bfe4a_row14_col0, #T_bfe4a_row14_col1, #T_bfe4a_row14_col2, #T_bfe4a_row14_col3, #T_bfe4a_row14_col4, #T_bfe4a_row14_col5, #T_bfe4a_row14_col6, #T_bfe4a_row14_col7, #T_bfe4a_row14_col8, #T_bfe4a_row14_col9 {\n",
              "  font-size: 6pt;\n",
              "  background-color: #ffffff;\n",
              "  color: #000000;\n",
              "}\n",
              "#T_bfe4a_row0_col4 {\n",
              "  font-size: 6pt;\n",
              "  background-color: #efefef;\n",
              "  color: #000000;\n",
              "}\n",
              "#T_bfe4a_row0_col5, #T_bfe4a_row0_col12 {\n",
              "  font-size: 6pt;\n",
              "  background-color: #7c7c7c;\n",
              "  color: #f1f1f1;\n",
              "}\n",
              "#T_bfe4a_row0_col6 {\n",
              "  font-size: 6pt;\n",
              "  background-color: #4a4a4a;\n",
              "  color: #f1f1f1;\n",
              "}\n",
              "#T_bfe4a_row0_col7, #T_bfe4a_row0_col8, #T_bfe4a_row0_col9, #T_bfe4a_row1_col4, #T_bfe4a_row1_col5, #T_bfe4a_row1_col6, #T_bfe4a_row1_col10, #T_bfe4a_row1_col11, #T_bfe4a_row1_col12, #T_bfe4a_row2_col3, #T_bfe4a_row2_col11, #T_bfe4a_row2_col12, #T_bfe4a_row3_col0, #T_bfe4a_row3_col1, #T_bfe4a_row3_col2, #T_bfe4a_row3_col11, #T_bfe4a_row3_col12, #T_bfe4a_row4_col11, #T_bfe4a_row5_col10, #T_bfe4a_row8_col10, #T_bfe4a_row9_col10, #T_bfe4a_row9_col11, #T_bfe4a_row9_col12, #T_bfe4a_row9_col13, #T_bfe4a_row10_col12, #T_bfe4a_row10_col13, #T_bfe4a_row10_col14, #T_bfe4a_row11_col13, #T_bfe4a_row11_col14, #T_bfe4a_row12_col13, #T_bfe4a_row12_col14, #T_bfe4a_row13_col13, #T_bfe4a_row13_col14, #T_bfe4a_row14_col12, #T_bfe4a_row14_col13 {\n",
              "  font-size: 6pt;\n",
              "  background-color: #000000;\n",
              "  color: #f1f1f1;\n",
              "}\n",
              "#T_bfe4a_row0_col10 {\n",
              "  font-size: 6pt;\n",
              "  background-color: #606060;\n",
              "  color: #f1f1f1;\n",
              "}\n",
              "#T_bfe4a_row0_col11 {\n",
              "  font-size: 6pt;\n",
              "  background-color: #4d4d4d;\n",
              "  color: #f1f1f1;\n",
              "}\n",
              "#T_bfe4a_row0_col13 {\n",
              "  font-size: 6pt;\n",
              "  background-color: #bbbbbb;\n",
              "  color: #000000;\n",
              "}\n",
              "#T_bfe4a_row1_col2 {\n",
              "  font-size: 6pt;\n",
              "  background-color: #e4e4e4;\n",
              "  color: #000000;\n",
              "}\n",
              "#T_bfe4a_row1_col3, #T_bfe4a_row7_col5 {\n",
              "  font-size: 6pt;\n",
              "  background-color: #6b6b6b;\n",
              "  color: #f1f1f1;\n",
              "}\n",
              "#T_bfe4a_row1_col7, #T_bfe4a_row1_col13, #T_bfe4a_row2_col13 {\n",
              "  font-size: 6pt;\n",
              "  background-color: #171717;\n",
              "  color: #f1f1f1;\n",
              "}\n",
              "#T_bfe4a_row1_col8, #T_bfe4a_row2_col10 {\n",
              "  font-size: 6pt;\n",
              "  background-color: #4b4b4b;\n",
              "  color: #f1f1f1;\n",
              "}\n",
              "#T_bfe4a_row1_col9, #T_bfe4a_row6_col9, #T_bfe4a_row7_col7, #T_bfe4a_row7_col9, #T_bfe4a_row8_col7, #T_bfe4a_row8_col9 {\n",
              "  font-size: 6pt;\n",
              "  background-color: #010101;\n",
              "  color: #f1f1f1;\n",
              "}\n",
              "#T_bfe4a_row2_col0 {\n",
              "  font-size: 6pt;\n",
              "  background-color: #272727;\n",
              "  color: #f1f1f1;\n",
              "}\n",
              "#T_bfe4a_row2_col1 {\n",
              "  font-size: 6pt;\n",
              "  background-color: #0a0a0a;\n",
              "  color: #f1f1f1;\n",
              "}\n",
              "#T_bfe4a_row2_col2, #T_bfe4a_row13_col12 {\n",
              "  font-size: 6pt;\n",
              "  background-color: #050505;\n",
              "  color: #f1f1f1;\n",
              "}\n",
              "#T_bfe4a_row2_col4 {\n",
              "  font-size: 6pt;\n",
              "  background-color: #333333;\n",
              "  color: #f1f1f1;\n",
              "}\n",
              "#T_bfe4a_row2_col5 {\n",
              "  font-size: 6pt;\n",
              "  background-color: #e6e6e6;\n",
              "  color: #000000;\n",
              "}\n",
              "#T_bfe4a_row2_col6, #T_bfe4a_row2_col9 {\n",
              "  font-size: 6pt;\n",
              "  background-color: #fafafa;\n",
              "  color: #000000;\n",
              "}\n",
              "#T_bfe4a_row2_col7, #T_bfe4a_row10_col9 {\n",
              "  font-size: 6pt;\n",
              "  background-color: #fbfbfb;\n",
              "  color: #000000;\n",
              "}\n",
              "#T_bfe4a_row2_col8 {\n",
              "  font-size: 6pt;\n",
              "  background-color: #fdfdfd;\n",
              "  color: #000000;\n",
              "}\n",
              "#T_bfe4a_row3_col3 {\n",
              "  font-size: 6pt;\n",
              "  background-color: #1b1b1b;\n",
              "  color: #f1f1f1;\n",
              "}\n",
              "#T_bfe4a_row3_col4 {\n",
              "  font-size: 6pt;\n",
              "  background-color: #e0e0e0;\n",
              "  color: #000000;\n",
              "}\n",
              "#T_bfe4a_row3_col10 {\n",
              "  font-size: 6pt;\n",
              "  background-color: #4e4e4e;\n",
              "  color: #f1f1f1;\n",
              "}\n",
              "#T_bfe4a_row3_col13 {\n",
              "  font-size: 6pt;\n",
              "  background-color: #767676;\n",
              "  color: #f1f1f1;\n",
              "}\n",
              "#T_bfe4a_row4_col0 {\n",
              "  font-size: 6pt;\n",
              "  background-color: #fcfcfc;\n",
              "  color: #000000;\n",
              "}\n",
              "#T_bfe4a_row4_col1, #T_bfe4a_row4_col2 {\n",
              "  font-size: 6pt;\n",
              "  background-color: #f6f6f6;\n",
              "  color: #000000;\n",
              "}\n",
              "#T_bfe4a_row4_col3, #T_bfe4a_row6_col6 {\n",
              "  font-size: 6pt;\n",
              "  background-color: #f8f8f8;\n",
              "  color: #000000;\n",
              "}\n",
              "#T_bfe4a_row4_col9, #T_bfe4a_row9_col6 {\n",
              "  font-size: 6pt;\n",
              "  background-color: #e8e8e8;\n",
              "  color: #000000;\n",
              "}\n",
              "#T_bfe4a_row4_col10 {\n",
              "  font-size: 6pt;\n",
              "  background-color: #222222;\n",
              "  color: #f1f1f1;\n",
              "}\n",
              "#T_bfe4a_row4_col12, #T_bfe4a_row5_col11 {\n",
              "  font-size: 6pt;\n",
              "  background-color: #090909;\n",
              "  color: #f1f1f1;\n",
              "}\n",
              "#T_bfe4a_row4_col13 {\n",
              "  font-size: 6pt;\n",
              "  background-color: #d0d0d0;\n",
              "  color: #000000;\n",
              "}\n",
              "#T_bfe4a_row5_col9, #T_bfe4a_row6_col10, #T_bfe4a_row8_col5 {\n",
              "  font-size: 6pt;\n",
              "  background-color: #060606;\n",
              "  color: #f1f1f1;\n",
              "}\n",
              "#T_bfe4a_row5_col12 {\n",
              "  font-size: 6pt;\n",
              "  background-color: #979797;\n",
              "  color: #f1f1f1;\n",
              "}\n",
              "#T_bfe4a_row6_col7 {\n",
              "  font-size: 6pt;\n",
              "  background-color: #b6b6b6;\n",
              "  color: #000000;\n",
              "}\n",
              "#T_bfe4a_row6_col8 {\n",
              "  font-size: 6pt;\n",
              "  background-color: #252525;\n",
              "  color: #f1f1f1;\n",
              "}\n",
              "#T_bfe4a_row6_col11 {\n",
              "  font-size: 6pt;\n",
              "  background-color: #999999;\n",
              "  color: #f1f1f1;\n",
              "}\n",
              "#T_bfe4a_row7_col4 {\n",
              "  font-size: 6pt;\n",
              "  background-color: #f9f9f9;\n",
              "  color: #000000;\n",
              "}\n",
              "#T_bfe4a_row7_col6 {\n",
              "  font-size: 6pt;\n",
              "  background-color: #101010;\n",
              "  color: #f1f1f1;\n",
              "}\n",
              "#T_bfe4a_row7_col8, #T_bfe4a_row8_col8 {\n",
              "  font-size: 6pt;\n",
              "  background-color: #020202;\n",
              "  color: #f1f1f1;\n",
              "}\n",
              "#T_bfe4a_row7_col10, #T_bfe4a_row9_col14 {\n",
              "  font-size: 6pt;\n",
              "  background-color: #545454;\n",
              "  color: #f1f1f1;\n",
              "}\n",
              "#T_bfe4a_row7_col11 {\n",
              "  font-size: 6pt;\n",
              "  background-color: #f1f1f1;\n",
              "  color: #000000;\n",
              "}\n",
              "#T_bfe4a_row8_col4 {\n",
              "  font-size: 6pt;\n",
              "  background-color: #f7f7f7;\n",
              "  color: #000000;\n",
              "}\n",
              "#T_bfe4a_row8_col6 {\n",
              "  font-size: 6pt;\n",
              "  background-color: #030303;\n",
              "  color: #f1f1f1;\n",
              "}\n",
              "#T_bfe4a_row8_col11 {\n",
              "  font-size: 6pt;\n",
              "  background-color: #181818;\n",
              "  color: #f1f1f1;\n",
              "}\n",
              "#T_bfe4a_row8_col12 {\n",
              "  font-size: 6pt;\n",
              "  background-color: #303030;\n",
              "  color: #f1f1f1;\n",
              "}\n",
              "#T_bfe4a_row8_col13 {\n",
              "  font-size: 6pt;\n",
              "  background-color: #a9a9a9;\n",
              "  color: #f1f1f1;\n",
              "}\n",
              "#T_bfe4a_row8_col14 {\n",
              "  font-size: 6pt;\n",
              "  background-color: #fefefe;\n",
              "  color: #000000;\n",
              "}\n",
              "#T_bfe4a_row9_col7, #T_bfe4a_row9_col8 {\n",
              "  font-size: 6pt;\n",
              "  background-color: #bababa;\n",
              "  color: #000000;\n",
              "}\n",
              "#T_bfe4a_row9_col9 {\n",
              "  font-size: 6pt;\n",
              "  background-color: #393939;\n",
              "  color: #f1f1f1;\n",
              "}\n",
              "#T_bfe4a_row10_col10 {\n",
              "  font-size: 6pt;\n",
              "  background-color: #e2e2e2;\n",
              "  color: #000000;\n",
              "}\n",
              "#T_bfe4a_row10_col11 {\n",
              "  font-size: 6pt;\n",
              "  background-color: #9f9f9f;\n",
              "  color: #f1f1f1;\n",
              "}\n",
              "#T_bfe4a_row11_col12 {\n",
              "  font-size: 6pt;\n",
              "  background-color: #585858;\n",
              "  color: #f1f1f1;\n",
              "}\n",
              "#T_bfe4a_row12_col12 {\n",
              "  font-size: 6pt;\n",
              "  background-color: #5a5a5a;\n",
              "  color: #f1f1f1;\n",
              "}\n",
              "#T_bfe4a_row13_col11 {\n",
              "  font-size: 6pt;\n",
              "  background-color: #c5c5c5;\n",
              "  color: #000000;\n",
              "}\n",
              "#T_bfe4a_row14_col10 {\n",
              "  font-size: 6pt;\n",
              "  background-color: #dcdcdc;\n",
              "  color: #000000;\n",
              "}\n",
              "#T_bfe4a_row14_col11 {\n",
              "  font-size: 6pt;\n",
              "  background-color: #2f2f2f;\n",
              "  color: #f1f1f1;\n",
              "}\n",
              "#T_bfe4a_row14_col14 {\n",
              "  font-size: 6pt;\n",
              "  background-color: #636363;\n",
              "  color: #f1f1f1;\n",
              "}\n",
              "</style>\n",
              "<table id=\"T_bfe4a_\" class=\"dataframe\">\n",
              "  <thead>\n",
              "    <tr>\n",
              "      <th class=\"blank level0\" >&nbsp;</th>\n",
              "      <th class=\"col_heading level0 col0\" >0</th>\n",
              "      <th class=\"col_heading level0 col1\" >1</th>\n",
              "      <th class=\"col_heading level0 col2\" >2</th>\n",
              "      <th class=\"col_heading level0 col3\" >3</th>\n",
              "      <th class=\"col_heading level0 col4\" >4</th>\n",
              "      <th class=\"col_heading level0 col5\" >5</th>\n",
              "      <th class=\"col_heading level0 col6\" >6</th>\n",
              "      <th class=\"col_heading level0 col7\" >7</th>\n",
              "      <th class=\"col_heading level0 col8\" >8</th>\n",
              "      <th class=\"col_heading level0 col9\" >9</th>\n",
              "      <th class=\"col_heading level0 col10\" >10</th>\n",
              "      <th class=\"col_heading level0 col11\" >11</th>\n",
              "      <th class=\"col_heading level0 col12\" >12</th>\n",
              "      <th class=\"col_heading level0 col13\" >13</th>\n",
              "      <th class=\"col_heading level0 col14\" >14</th>\n",
              "    </tr>\n",
              "  </thead>\n",
              "  <tbody>\n",
              "    <tr>\n",
              "      <th id=\"T_bfe4a_level0_row0\" class=\"row_heading level0 row0\" >0</th>\n",
              "      <td id=\"T_bfe4a_row0_col0\" class=\"data row0 col0\" >0</td>\n",
              "      <td id=\"T_bfe4a_row0_col1\" class=\"data row0 col1\" >0</td>\n",
              "      <td id=\"T_bfe4a_row0_col2\" class=\"data row0 col2\" >0</td>\n",
              "      <td id=\"T_bfe4a_row0_col3\" class=\"data row0 col3\" >0</td>\n",
              "      <td id=\"T_bfe4a_row0_col4\" class=\"data row0 col4\" >29</td>\n",
              "      <td id=\"T_bfe4a_row0_col5\" class=\"data row0 col5\" >150</td>\n",
              "      <td id=\"T_bfe4a_row0_col6\" class=\"data row0 col6\" >195</td>\n",
              "      <td id=\"T_bfe4a_row0_col7\" class=\"data row0 col7\" >254</td>\n",
              "      <td id=\"T_bfe4a_row0_col8\" class=\"data row0 col8\" >255</td>\n",
              "      <td id=\"T_bfe4a_row0_col9\" class=\"data row0 col9\" >254</td>\n",
              "      <td id=\"T_bfe4a_row0_col10\" class=\"data row0 col10\" >176</td>\n",
              "      <td id=\"T_bfe4a_row0_col11\" class=\"data row0 col11\" >193</td>\n",
              "      <td id=\"T_bfe4a_row0_col12\" class=\"data row0 col12\" >150</td>\n",
              "      <td id=\"T_bfe4a_row0_col13\" class=\"data row0 col13\" >96</td>\n",
              "      <td id=\"T_bfe4a_row0_col14\" class=\"data row0 col14\" >0</td>\n",
              "    </tr>\n",
              "    <tr>\n",
              "      <th id=\"T_bfe4a_level0_row1\" class=\"row_heading level0 row1\" >1</th>\n",
              "      <td id=\"T_bfe4a_row1_col0\" class=\"data row1 col0\" >0</td>\n",
              "      <td id=\"T_bfe4a_row1_col1\" class=\"data row1 col1\" >0</td>\n",
              "      <td id=\"T_bfe4a_row1_col2\" class=\"data row1 col2\" >48</td>\n",
              "      <td id=\"T_bfe4a_row1_col3\" class=\"data row1 col3\" >166</td>\n",
              "      <td id=\"T_bfe4a_row1_col4\" class=\"data row1 col4\" >224</td>\n",
              "      <td id=\"T_bfe4a_row1_col5\" class=\"data row1 col5\" >253</td>\n",
              "      <td id=\"T_bfe4a_row1_col6\" class=\"data row1 col6\" >253</td>\n",
              "      <td id=\"T_bfe4a_row1_col7\" class=\"data row1 col7\" >234</td>\n",
              "      <td id=\"T_bfe4a_row1_col8\" class=\"data row1 col8\" >196</td>\n",
              "      <td id=\"T_bfe4a_row1_col9\" class=\"data row1 col9\" >253</td>\n",
              "      <td id=\"T_bfe4a_row1_col10\" class=\"data row1 col10\" >253</td>\n",
              "      <td id=\"T_bfe4a_row1_col11\" class=\"data row1 col11\" >253</td>\n",
              "      <td id=\"T_bfe4a_row1_col12\" class=\"data row1 col12\" >253</td>\n",
              "      <td id=\"T_bfe4a_row1_col13\" class=\"data row1 col13\" >233</td>\n",
              "      <td id=\"T_bfe4a_row1_col14\" class=\"data row1 col14\" >0</td>\n",
              "    </tr>\n",
              "    <tr>\n",
              "      <th id=\"T_bfe4a_level0_row2\" class=\"row_heading level0 row2\" >2</th>\n",
              "      <td id=\"T_bfe4a_row2_col0\" class=\"data row2 col0\" >93</td>\n",
              "      <td id=\"T_bfe4a_row2_col1\" class=\"data row2 col1\" >244</td>\n",
              "      <td id=\"T_bfe4a_row2_col2\" class=\"data row2 col2\" >249</td>\n",
              "      <td id=\"T_bfe4a_row2_col3\" class=\"data row2 col3\" >253</td>\n",
              "      <td id=\"T_bfe4a_row2_col4\" class=\"data row2 col4\" >187</td>\n",
              "      <td id=\"T_bfe4a_row2_col5\" class=\"data row2 col5\" >46</td>\n",
              "      <td id=\"T_bfe4a_row2_col6\" class=\"data row2 col6\" >10</td>\n",
              "      <td id=\"T_bfe4a_row2_col7\" class=\"data row2 col7\" >8</td>\n",
              "      <td id=\"T_bfe4a_row2_col8\" class=\"data row2 col8\" >4</td>\n",
              "      <td id=\"T_bfe4a_row2_col9\" class=\"data row2 col9\" >10</td>\n",
              "      <td id=\"T_bfe4a_row2_col10\" class=\"data row2 col10\" >194</td>\n",
              "      <td id=\"T_bfe4a_row2_col11\" class=\"data row2 col11\" >253</td>\n",
              "      <td id=\"T_bfe4a_row2_col12\" class=\"data row2 col12\" >253</td>\n",
              "      <td id=\"T_bfe4a_row2_col13\" class=\"data row2 col13\" >233</td>\n",
              "      <td id=\"T_bfe4a_row2_col14\" class=\"data row2 col14\" >0</td>\n",
              "    </tr>\n",
              "    <tr>\n",
              "      <th id=\"T_bfe4a_level0_row3\" class=\"row_heading level0 row3\" >3</th>\n",
              "      <td id=\"T_bfe4a_row3_col0\" class=\"data row3 col0\" >107</td>\n",
              "      <td id=\"T_bfe4a_row3_col1\" class=\"data row3 col1\" >253</td>\n",
              "      <td id=\"T_bfe4a_row3_col2\" class=\"data row3 col2\" >253</td>\n",
              "      <td id=\"T_bfe4a_row3_col3\" class=\"data row3 col3\" >230</td>\n",
              "      <td id=\"T_bfe4a_row3_col4\" class=\"data row3 col4\" >48</td>\n",
              "      <td id=\"T_bfe4a_row3_col5\" class=\"data row3 col5\" >0</td>\n",
              "      <td id=\"T_bfe4a_row3_col6\" class=\"data row3 col6\" >0</td>\n",
              "      <td id=\"T_bfe4a_row3_col7\" class=\"data row3 col7\" >0</td>\n",
              "      <td id=\"T_bfe4a_row3_col8\" class=\"data row3 col8\" >0</td>\n",
              "      <td id=\"T_bfe4a_row3_col9\" class=\"data row3 col9\" >0</td>\n",
              "      <td id=\"T_bfe4a_row3_col10\" class=\"data row3 col10\" >192</td>\n",
              "      <td id=\"T_bfe4a_row3_col11\" class=\"data row3 col11\" >253</td>\n",
              "      <td id=\"T_bfe4a_row3_col12\" class=\"data row3 col12\" >253</td>\n",
              "      <td id=\"T_bfe4a_row3_col13\" class=\"data row3 col13\" >156</td>\n",
              "      <td id=\"T_bfe4a_row3_col14\" class=\"data row3 col14\" >0</td>\n",
              "    </tr>\n",
              "    <tr>\n",
              "      <th id=\"T_bfe4a_level0_row4\" class=\"row_heading level0 row4\" >4</th>\n",
              "      <td id=\"T_bfe4a_row4_col0\" class=\"data row4 col0\" >3</td>\n",
              "      <td id=\"T_bfe4a_row4_col1\" class=\"data row4 col1\" >20</td>\n",
              "      <td id=\"T_bfe4a_row4_col2\" class=\"data row4 col2\" >20</td>\n",
              "      <td id=\"T_bfe4a_row4_col3\" class=\"data row4 col3\" >15</td>\n",
              "      <td id=\"T_bfe4a_row4_col4\" class=\"data row4 col4\" >0</td>\n",
              "      <td id=\"T_bfe4a_row4_col5\" class=\"data row4 col5\" >0</td>\n",
              "      <td id=\"T_bfe4a_row4_col6\" class=\"data row4 col6\" >0</td>\n",
              "      <td id=\"T_bfe4a_row4_col7\" class=\"data row4 col7\" >0</td>\n",
              "      <td id=\"T_bfe4a_row4_col8\" class=\"data row4 col8\" >0</td>\n",
              "      <td id=\"T_bfe4a_row4_col9\" class=\"data row4 col9\" >43</td>\n",
              "      <td id=\"T_bfe4a_row4_col10\" class=\"data row4 col10\" >224</td>\n",
              "      <td id=\"T_bfe4a_row4_col11\" class=\"data row4 col11\" >253</td>\n",
              "      <td id=\"T_bfe4a_row4_col12\" class=\"data row4 col12\" >245</td>\n",
              "      <td id=\"T_bfe4a_row4_col13\" class=\"data row4 col13\" >74</td>\n",
              "      <td id=\"T_bfe4a_row4_col14\" class=\"data row4 col14\" >0</td>\n",
              "    </tr>\n",
              "    <tr>\n",
              "      <th id=\"T_bfe4a_level0_row5\" class=\"row_heading level0 row5\" >5</th>\n",
              "      <td id=\"T_bfe4a_row5_col0\" class=\"data row5 col0\" >0</td>\n",
              "      <td id=\"T_bfe4a_row5_col1\" class=\"data row5 col1\" >0</td>\n",
              "      <td id=\"T_bfe4a_row5_col2\" class=\"data row5 col2\" >0</td>\n",
              "      <td id=\"T_bfe4a_row5_col3\" class=\"data row5 col3\" >0</td>\n",
              "      <td id=\"T_bfe4a_row5_col4\" class=\"data row5 col4\" >0</td>\n",
              "      <td id=\"T_bfe4a_row5_col5\" class=\"data row5 col5\" >0</td>\n",
              "      <td id=\"T_bfe4a_row5_col6\" class=\"data row5 col6\" >0</td>\n",
              "      <td id=\"T_bfe4a_row5_col7\" class=\"data row5 col7\" >0</td>\n",
              "      <td id=\"T_bfe4a_row5_col8\" class=\"data row5 col8\" >0</td>\n",
              "      <td id=\"T_bfe4a_row5_col9\" class=\"data row5 col9\" >249</td>\n",
              "      <td id=\"T_bfe4a_row5_col10\" class=\"data row5 col10\" >253</td>\n",
              "      <td id=\"T_bfe4a_row5_col11\" class=\"data row5 col11\" >245</td>\n",
              "      <td id=\"T_bfe4a_row5_col12\" class=\"data row5 col12\" >126</td>\n",
              "      <td id=\"T_bfe4a_row5_col13\" class=\"data row5 col13\" >0</td>\n",
              "      <td id=\"T_bfe4a_row5_col14\" class=\"data row5 col14\" >0</td>\n",
              "    </tr>\n",
              "    <tr>\n",
              "      <th id=\"T_bfe4a_level0_row6\" class=\"row_heading level0 row6\" >6</th>\n",
              "      <td id=\"T_bfe4a_row6_col0\" class=\"data row6 col0\" >0</td>\n",
              "      <td id=\"T_bfe4a_row6_col1\" class=\"data row6 col1\" >0</td>\n",
              "      <td id=\"T_bfe4a_row6_col2\" class=\"data row6 col2\" >0</td>\n",
              "      <td id=\"T_bfe4a_row6_col3\" class=\"data row6 col3\" >0</td>\n",
              "      <td id=\"T_bfe4a_row6_col4\" class=\"data row6 col4\" >0</td>\n",
              "      <td id=\"T_bfe4a_row6_col5\" class=\"data row6 col5\" >0</td>\n",
              "      <td id=\"T_bfe4a_row6_col6\" class=\"data row6 col6\" >14</td>\n",
              "      <td id=\"T_bfe4a_row6_col7\" class=\"data row6 col7\" >101</td>\n",
              "      <td id=\"T_bfe4a_row6_col8\" class=\"data row6 col8\" >223</td>\n",
              "      <td id=\"T_bfe4a_row6_col9\" class=\"data row6 col9\" >253</td>\n",
              "      <td id=\"T_bfe4a_row6_col10\" class=\"data row6 col10\" >248</td>\n",
              "      <td id=\"T_bfe4a_row6_col11\" class=\"data row6 col11\" >124</td>\n",
              "      <td id=\"T_bfe4a_row6_col12\" class=\"data row6 col12\" >0</td>\n",
              "      <td id=\"T_bfe4a_row6_col13\" class=\"data row6 col13\" >0</td>\n",
              "      <td id=\"T_bfe4a_row6_col14\" class=\"data row6 col14\" >0</td>\n",
              "    </tr>\n",
              "    <tr>\n",
              "      <th id=\"T_bfe4a_level0_row7\" class=\"row_heading level0 row7\" >7</th>\n",
              "      <td id=\"T_bfe4a_row7_col0\" class=\"data row7 col0\" >0</td>\n",
              "      <td id=\"T_bfe4a_row7_col1\" class=\"data row7 col1\" >0</td>\n",
              "      <td id=\"T_bfe4a_row7_col2\" class=\"data row7 col2\" >0</td>\n",
              "      <td id=\"T_bfe4a_row7_col3\" class=\"data row7 col3\" >0</td>\n",
              "      <td id=\"T_bfe4a_row7_col4\" class=\"data row7 col4\" >11</td>\n",
              "      <td id=\"T_bfe4a_row7_col5\" class=\"data row7 col5\" >166</td>\n",
              "      <td id=\"T_bfe4a_row7_col6\" class=\"data row7 col6\" >239</td>\n",
              "      <td id=\"T_bfe4a_row7_col7\" class=\"data row7 col7\" >253</td>\n",
              "      <td id=\"T_bfe4a_row7_col8\" class=\"data row7 col8\" >253</td>\n",
              "      <td id=\"T_bfe4a_row7_col9\" class=\"data row7 col9\" >253</td>\n",
              "      <td id=\"T_bfe4a_row7_col10\" class=\"data row7 col10\" >187</td>\n",
              "      <td id=\"T_bfe4a_row7_col11\" class=\"data row7 col11\" >30</td>\n",
              "      <td id=\"T_bfe4a_row7_col12\" class=\"data row7 col12\" >0</td>\n",
              "      <td id=\"T_bfe4a_row7_col13\" class=\"data row7 col13\" >0</td>\n",
              "      <td id=\"T_bfe4a_row7_col14\" class=\"data row7 col14\" >0</td>\n",
              "    </tr>\n",
              "    <tr>\n",
              "      <th id=\"T_bfe4a_level0_row8\" class=\"row_heading level0 row8\" >8</th>\n",
              "      <td id=\"T_bfe4a_row8_col0\" class=\"data row8 col0\" >0</td>\n",
              "      <td id=\"T_bfe4a_row8_col1\" class=\"data row8 col1\" >0</td>\n",
              "      <td id=\"T_bfe4a_row8_col2\" class=\"data row8 col2\" >0</td>\n",
              "      <td id=\"T_bfe4a_row8_col3\" class=\"data row8 col3\" >0</td>\n",
              "      <td id=\"T_bfe4a_row8_col4\" class=\"data row8 col4\" >16</td>\n",
              "      <td id=\"T_bfe4a_row8_col5\" class=\"data row8 col5\" >248</td>\n",
              "      <td id=\"T_bfe4a_row8_col6\" class=\"data row8 col6\" >250</td>\n",
              "      <td id=\"T_bfe4a_row8_col7\" class=\"data row8 col7\" >253</td>\n",
              "      <td id=\"T_bfe4a_row8_col8\" class=\"data row8 col8\" >253</td>\n",
              "      <td id=\"T_bfe4a_row8_col9\" class=\"data row8 col9\" >253</td>\n",
              "      <td id=\"T_bfe4a_row8_col10\" class=\"data row8 col10\" >253</td>\n",
              "      <td id=\"T_bfe4a_row8_col11\" class=\"data row8 col11\" >232</td>\n",
              "      <td id=\"T_bfe4a_row8_col12\" class=\"data row8 col12\" >213</td>\n",
              "      <td id=\"T_bfe4a_row8_col13\" class=\"data row8 col13\" >111</td>\n",
              "      <td id=\"T_bfe4a_row8_col14\" class=\"data row8 col14\" >2</td>\n",
              "    </tr>\n",
              "    <tr>\n",
              "      <th id=\"T_bfe4a_level0_row9\" class=\"row_heading level0 row9\" >9</th>\n",
              "      <td id=\"T_bfe4a_row9_col0\" class=\"data row9 col0\" >0</td>\n",
              "      <td id=\"T_bfe4a_row9_col1\" class=\"data row9 col1\" >0</td>\n",
              "      <td id=\"T_bfe4a_row9_col2\" class=\"data row9 col2\" >0</td>\n",
              "      <td id=\"T_bfe4a_row9_col3\" class=\"data row9 col3\" >0</td>\n",
              "      <td id=\"T_bfe4a_row9_col4\" class=\"data row9 col4\" >0</td>\n",
              "      <td id=\"T_bfe4a_row9_col5\" class=\"data row9 col5\" >0</td>\n",
              "      <td id=\"T_bfe4a_row9_col6\" class=\"data row9 col6\" >43</td>\n",
              "      <td id=\"T_bfe4a_row9_col7\" class=\"data row9 col7\" >98</td>\n",
              "      <td id=\"T_bfe4a_row9_col8\" class=\"data row9 col8\" >98</td>\n",
              "      <td id=\"T_bfe4a_row9_col9\" class=\"data row9 col9\" >208</td>\n",
              "      <td id=\"T_bfe4a_row9_col10\" class=\"data row9 col10\" >253</td>\n",
              "      <td id=\"T_bfe4a_row9_col11\" class=\"data row9 col11\" >253</td>\n",
              "      <td id=\"T_bfe4a_row9_col12\" class=\"data row9 col12\" >253</td>\n",
              "      <td id=\"T_bfe4a_row9_col13\" class=\"data row9 col13\" >253</td>\n",
              "      <td id=\"T_bfe4a_row9_col14\" class=\"data row9 col14\" >187</td>\n",
              "    </tr>\n",
              "    <tr>\n",
              "      <th id=\"T_bfe4a_level0_row10\" class=\"row_heading level0 row10\" >10</th>\n",
              "      <td id=\"T_bfe4a_row10_col0\" class=\"data row10 col0\" >0</td>\n",
              "      <td id=\"T_bfe4a_row10_col1\" class=\"data row10 col1\" >0</td>\n",
              "      <td id=\"T_bfe4a_row10_col2\" class=\"data row10 col2\" >0</td>\n",
              "      <td id=\"T_bfe4a_row10_col3\" class=\"data row10 col3\" >0</td>\n",
              "      <td id=\"T_bfe4a_row10_col4\" class=\"data row10 col4\" >0</td>\n",
              "      <td id=\"T_bfe4a_row10_col5\" class=\"data row10 col5\" >0</td>\n",
              "      <td id=\"T_bfe4a_row10_col6\" class=\"data row10 col6\" >0</td>\n",
              "      <td id=\"T_bfe4a_row10_col7\" class=\"data row10 col7\" >0</td>\n",
              "      <td id=\"T_bfe4a_row10_col8\" class=\"data row10 col8\" >0</td>\n",
              "      <td id=\"T_bfe4a_row10_col9\" class=\"data row10 col9\" >9</td>\n",
              "      <td id=\"T_bfe4a_row10_col10\" class=\"data row10 col10\" >51</td>\n",
              "      <td id=\"T_bfe4a_row10_col11\" class=\"data row10 col11\" >119</td>\n",
              "      <td id=\"T_bfe4a_row10_col12\" class=\"data row10 col12\" >253</td>\n",
              "      <td id=\"T_bfe4a_row10_col13\" class=\"data row10 col13\" >253</td>\n",
              "      <td id=\"T_bfe4a_row10_col14\" class=\"data row10 col14\" >253</td>\n",
              "    </tr>\n",
              "    <tr>\n",
              "      <th id=\"T_bfe4a_level0_row11\" class=\"row_heading level0 row11\" >11</th>\n",
              "      <td id=\"T_bfe4a_row11_col0\" class=\"data row11 col0\" >0</td>\n",
              "      <td id=\"T_bfe4a_row11_col1\" class=\"data row11 col1\" >0</td>\n",
              "      <td id=\"T_bfe4a_row11_col2\" class=\"data row11 col2\" >0</td>\n",
              "      <td id=\"T_bfe4a_row11_col3\" class=\"data row11 col3\" >0</td>\n",
              "      <td id=\"T_bfe4a_row11_col4\" class=\"data row11 col4\" >0</td>\n",
              "      <td id=\"T_bfe4a_row11_col5\" class=\"data row11 col5\" >0</td>\n",
              "      <td id=\"T_bfe4a_row11_col6\" class=\"data row11 col6\" >0</td>\n",
              "      <td id=\"T_bfe4a_row11_col7\" class=\"data row11 col7\" >0</td>\n",
              "      <td id=\"T_bfe4a_row11_col8\" class=\"data row11 col8\" >0</td>\n",
              "      <td id=\"T_bfe4a_row11_col9\" class=\"data row11 col9\" >0</td>\n",
              "      <td id=\"T_bfe4a_row11_col10\" class=\"data row11 col10\" >0</td>\n",
              "      <td id=\"T_bfe4a_row11_col11\" class=\"data row11 col11\" >1</td>\n",
              "      <td id=\"T_bfe4a_row11_col12\" class=\"data row11 col12\" >183</td>\n",
              "      <td id=\"T_bfe4a_row11_col13\" class=\"data row11 col13\" >253</td>\n",
              "      <td id=\"T_bfe4a_row11_col14\" class=\"data row11 col14\" >253</td>\n",
              "    </tr>\n",
              "    <tr>\n",
              "      <th id=\"T_bfe4a_level0_row12\" class=\"row_heading level0 row12\" >12</th>\n",
              "      <td id=\"T_bfe4a_row12_col0\" class=\"data row12 col0\" >0</td>\n",
              "      <td id=\"T_bfe4a_row12_col1\" class=\"data row12 col1\" >0</td>\n",
              "      <td id=\"T_bfe4a_row12_col2\" class=\"data row12 col2\" >0</td>\n",
              "      <td id=\"T_bfe4a_row12_col3\" class=\"data row12 col3\" >0</td>\n",
              "      <td id=\"T_bfe4a_row12_col4\" class=\"data row12 col4\" >0</td>\n",
              "      <td id=\"T_bfe4a_row12_col5\" class=\"data row12 col5\" >0</td>\n",
              "      <td id=\"T_bfe4a_row12_col6\" class=\"data row12 col6\" >0</td>\n",
              "      <td id=\"T_bfe4a_row12_col7\" class=\"data row12 col7\" >0</td>\n",
              "      <td id=\"T_bfe4a_row12_col8\" class=\"data row12 col8\" >0</td>\n",
              "      <td id=\"T_bfe4a_row12_col9\" class=\"data row12 col9\" >0</td>\n",
              "      <td id=\"T_bfe4a_row12_col10\" class=\"data row12 col10\" >0</td>\n",
              "      <td id=\"T_bfe4a_row12_col11\" class=\"data row12 col11\" >0</td>\n",
              "      <td id=\"T_bfe4a_row12_col12\" class=\"data row12 col12\" >182</td>\n",
              "      <td id=\"T_bfe4a_row12_col13\" class=\"data row12 col13\" >253</td>\n",
              "      <td id=\"T_bfe4a_row12_col14\" class=\"data row12 col14\" >253</td>\n",
              "    </tr>\n",
              "    <tr>\n",
              "      <th id=\"T_bfe4a_level0_row13\" class=\"row_heading level0 row13\" >13</th>\n",
              "      <td id=\"T_bfe4a_row13_col0\" class=\"data row13 col0\" >0</td>\n",
              "      <td id=\"T_bfe4a_row13_col1\" class=\"data row13 col1\" >0</td>\n",
              "      <td id=\"T_bfe4a_row13_col2\" class=\"data row13 col2\" >0</td>\n",
              "      <td id=\"T_bfe4a_row13_col3\" class=\"data row13 col3\" >0</td>\n",
              "      <td id=\"T_bfe4a_row13_col4\" class=\"data row13 col4\" >0</td>\n",
              "      <td id=\"T_bfe4a_row13_col5\" class=\"data row13 col5\" >0</td>\n",
              "      <td id=\"T_bfe4a_row13_col6\" class=\"data row13 col6\" >0</td>\n",
              "      <td id=\"T_bfe4a_row13_col7\" class=\"data row13 col7\" >0</td>\n",
              "      <td id=\"T_bfe4a_row13_col8\" class=\"data row13 col8\" >0</td>\n",
              "      <td id=\"T_bfe4a_row13_col9\" class=\"data row13 col9\" >0</td>\n",
              "      <td id=\"T_bfe4a_row13_col10\" class=\"data row13 col10\" >0</td>\n",
              "      <td id=\"T_bfe4a_row13_col11\" class=\"data row13 col11\" >85</td>\n",
              "      <td id=\"T_bfe4a_row13_col12\" class=\"data row13 col12\" >249</td>\n",
              "      <td id=\"T_bfe4a_row13_col13\" class=\"data row13 col13\" >253</td>\n",
              "      <td id=\"T_bfe4a_row13_col14\" class=\"data row13 col14\" >253</td>\n",
              "    </tr>\n",
              "    <tr>\n",
              "      <th id=\"T_bfe4a_level0_row14\" class=\"row_heading level0 row14\" >14</th>\n",
              "      <td id=\"T_bfe4a_row14_col0\" class=\"data row14 col0\" >0</td>\n",
              "      <td id=\"T_bfe4a_row14_col1\" class=\"data row14 col1\" >0</td>\n",
              "      <td id=\"T_bfe4a_row14_col2\" class=\"data row14 col2\" >0</td>\n",
              "      <td id=\"T_bfe4a_row14_col3\" class=\"data row14 col3\" >0</td>\n",
              "      <td id=\"T_bfe4a_row14_col4\" class=\"data row14 col4\" >0</td>\n",
              "      <td id=\"T_bfe4a_row14_col5\" class=\"data row14 col5\" >0</td>\n",
              "      <td id=\"T_bfe4a_row14_col6\" class=\"data row14 col6\" >0</td>\n",
              "      <td id=\"T_bfe4a_row14_col7\" class=\"data row14 col7\" >0</td>\n",
              "      <td id=\"T_bfe4a_row14_col8\" class=\"data row14 col8\" >0</td>\n",
              "      <td id=\"T_bfe4a_row14_col9\" class=\"data row14 col9\" >0</td>\n",
              "      <td id=\"T_bfe4a_row14_col10\" class=\"data row14 col10\" >60</td>\n",
              "      <td id=\"T_bfe4a_row14_col11\" class=\"data row14 col11\" >214</td>\n",
              "      <td id=\"T_bfe4a_row14_col12\" class=\"data row14 col12\" >253</td>\n",
              "      <td id=\"T_bfe4a_row14_col13\" class=\"data row14 col13\" >253</td>\n",
              "      <td id=\"T_bfe4a_row14_col14\" class=\"data row14 col14\" >173</td>\n",
              "    </tr>\n",
              "  </tbody>\n",
              "</table>\n"
            ]
          },
          "metadata": {},
          "execution_count": 37
        }
      ]
    },
    {
      "cell_type": "markdown",
      "source": [
        "*   the number 0 : white\n",
        "*   the number 255 : black\n",
        "*   0 ~ 255 : grey shades\n",
        "\n",
        "\n",
        "**Our goal: create a model that can recognize 3s and 7s.** How can you do it?\n",
        "\n",
        "\n"
      ],
      "metadata": {
        "id": "-zIYObbHnoyg"
      }
    },
    {
      "cell_type": "markdown",
      "source": [
        "## 2.   First Try: Pixel Simialarity\n",
        "\n",
        "1.   find the average pixel value for every pixel of the 3s.\n",
        "2.   do the same for the 7s.\n",
        "2.   see of which these two ideal digits the image is most similar to.\n",
        "\n"
      ],
      "metadata": {
        "id": "SGABGrwpowyY"
      }
    },
    {
      "cell_type": "code",
      "source": [
        "# we already have a variable of L object, a list of paths of the image 3s\n",
        "threes"
      ],
      "metadata": {
        "colab": {
          "base_uri": "https://localhost:8080/"
        },
        "id": "dtPS_iuUqzY5",
        "outputId": "2ab15c8c-7d87-41a3-adb8-2195c2f0c2dd"
      },
      "execution_count": 38,
      "outputs": [
        {
          "output_type": "execute_result",
          "data": {
            "text/plain": [
              "(#6131) [Path('/root/.fastai/data/mnist_sample/train/3/10.png'),Path('/root/.fastai/data/mnist_sample/train/3/10000.png'),Path('/root/.fastai/data/mnist_sample/train/3/10011.png'),Path('/root/.fastai/data/mnist_sample/train/3/10031.png'),Path('/root/.fastai/data/mnist_sample/train/3/10034.png'),Path('/root/.fastai/data/mnist_sample/train/3/10042.png'),Path('/root/.fastai/data/mnist_sample/train/3/10052.png'),Path('/root/.fastai/data/mnist_sample/train/3/1007.png'),Path('/root/.fastai/data/mnist_sample/train/3/10074.png'),Path('/root/.fastai/data/mnist_sample/train/3/10091.png')...]"
            ]
          },
          "metadata": {},
          "execution_count": 38
        }
      ]
    },
    {
      "cell_type": "code",
      "source": [
        "# create a tensor containing all of our 3s stacked together\n",
        "# using Python List Comprehension\n",
        "three_tensors = [tensor(Image.open(o)) for o in threes]"
      ],
      "metadata": {
        "id": "D75rNW0BnaIB"
      },
      "execution_count": 41,
      "outputs": []
    },
    {
      "cell_type": "markdown",
      "source": [
        "Reminder : How to Convert an Image file to a Tensor\n",
        "\n",
        "1. read the image file with Image.open.\n",
        "2. convert it to a tensor.\n",
        "\n",
        "\n",
        "> tensor(Image.open(image file path))\n",
        "\n"
      ],
      "metadata": {
        "id": "omUi3hHerY7S"
      }
    },
    {
      "cell_type": "code",
      "source": [
        "# do the same for 7s\n",
        "seven_tensors = [tensor(Image.open(o)) for o in sevens]"
      ],
      "metadata": {
        "id": "l_snVMykr1TC"
      },
      "execution_count": 43,
      "outputs": []
    },
    {
      "cell_type": "code",
      "source": [
        "# check the length of list\n",
        "len(three_tensors), len(seven_tensors)"
      ],
      "metadata": {
        "colab": {
          "base_uri": "https://localhost:8080/"
        },
        "id": "KNVAK0C8r9fu",
        "outputId": "ae7ab49a-fd96-481b-d8d1-73351b23113d"
      },
      "execution_count": 44,
      "outputs": [
        {
          "output_type": "execute_result",
          "data": {
            "text/plain": [
              "(6131, 6265)"
            ]
          },
          "metadata": {},
          "execution_count": 44
        }
      ]
    },
    {
      "cell_type": "code",
      "source": [
        "# display a tensor as a image using fastai's show_image function\n",
        "show_image(seven_tensors[10])"
      ],
      "metadata": {
        "colab": {
          "base_uri": "https://localhost:8080/",
          "height": 103
        },
        "id": "IB-WdWtksba5",
        "outputId": "05256bb9-7363-4726-da68-a710b6594578"
      },
      "execution_count": 45,
      "outputs": [
        {
          "output_type": "execute_result",
          "data": {
            "text/plain": [
              "<matplotlib.axes._subplots.AxesSubplot at 0x7f34d59683a0>"
            ]
          },
          "metadata": {},
          "execution_count": 45
        },
        {
          "output_type": "display_data",
          "data": {
            "text/plain": [
              "<Figure size 72x72 with 1 Axes>"
            ],
            "image/png": "[encoded data removed]"
          },
          "metadata": {
            "needs_background": "light"
          }
        }
      ]
    },
    {
      "cell_type": "code",
      "source": [
        "# compute the average over all the images of the intensity of that pixel\n",
        "\n",
        "# combine all the images in the list into a single 3-dimensional tensor (rank-3 tensor)\n",
        "torch.stack(three_tensors).shape"
      ],
      "metadata": {
        "colab": {
          "base_uri": "https://localhost:8080/"
        },
        "id": "3cOhYN3Rs3h0",
        "outputId": "599c537d-aef2-413e-8517-9f5933865746"
      },
      "execution_count": 50,
      "outputs": [
        {
          "output_type": "execute_result",
          "data": {
            "text/plain": [
              "torch.Size([6131, 28, 28])"
            ]
          },
          "metadata": {},
          "execution_count": 50
        }
      ]
    },
    {
      "cell_type": "markdown",
      "source": [
        "shape attribute tells you the length of each axis.\n",
        "\n",
        "\n",
        "*   6131 : number of images \n",
        "*   28: height\n",
        "*   28: width\n",
        "\n",
        "The semantics of a tensor are up to us. As far as PyTorch is concerned, it is just a bunch of numbers in memory."
      ],
      "metadata": {
        "id": "QjTXs6Ej8H6y"
      }
    },
    {
      "cell_type": "code",
      "source": [
        "# rank: length of a tensor's shape\n",
        "len(torch.stack(three_tensors).shape)"
      ],
      "metadata": {
        "colab": {
          "base_uri": "https://localhost:8080/"
        },
        "id": "80Ablgxr9BXI",
        "outputId": "391b76c5-e695-4aa2-ecbd-b45ff6d99119"
      },
      "execution_count": 52,
      "outputs": [
        {
          "output_type": "execute_result",
          "data": {
            "text/plain": [
              "3"
            ]
          },
          "metadata": {},
          "execution_count": 52
        }
      ]
    },
    {
      "cell_type": "markdown",
      "source": [
        "**rank** : the number of axes or dimensions in a tensor\n",
        "\n",
        "**shape** : the size(length) of each axis of a tensor"
      ],
      "metadata": {
        "id": "DfU1Afzy9phv"
      }
    },
    {
      "cell_type": "code",
      "source": [
        "# usually when images are floats, the pixel values are expected to be between 0 and 1\n",
        "# so divide by 255\n",
        "stacked_threes = torch.stack(three_tensors) / 255\n",
        "stacked_sevens = torch.stack(seven_tensors) / 255"
      ],
      "metadata": {
        "id": "E1ZIL8mV7kYM"
      },
      "execution_count": 51,
      "outputs": []
    },
    {
      "cell_type": "code",
      "source": [],
      "metadata": {
        "id": "kHIdINAW79Pi"
      },
      "execution_count": null,
      "outputs": []
    }
  ]
}